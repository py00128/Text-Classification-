{
 "cells": [
  {
   "cell_type": "markdown",
   "metadata": {},
   "source": [
    "# NLP individual \n",
    "## Parsa Yaghoobi (URN: 6596381)\n",
    "## Group 16"
   ]
  },
  {
   "cell_type": "markdown",
   "metadata": {},
   "source": [
    "# All imports, installs, and functions required"
   ]
  },
  {
   "cell_type": "code",
   "execution_count": 142,
   "metadata": {
    "execution": {
     "iopub.execute_input": "2023-04-24T23:23:43.242333Z",
     "iopub.status.busy": "2023-04-24T23:23:43.241020Z",
     "iopub.status.idle": "2023-04-24T23:23:43.404886Z",
     "shell.execute_reply": "2023-04-24T23:23:43.403574Z",
     "shell.execute_reply.started": "2023-04-24T23:23:43.242283Z"
    },
    "id": "HsRXhB2nBTpg"
   },
   "outputs": [],
   "source": [
    "from IPython.display import clear_output \n",
    "!pip install tensorflow\n",
    "!pip install datasets\n",
    "!pip install transformers\n",
    "import numpy as np \n",
    "import pandas as pd \n",
    "import os\n",
    "import re\n",
    "import torch\n",
    "from tqdm import tqdm\n",
    "import tensorflow as tf\n",
    "import pandas as pd\n",
    "from sklearn.model_selection import train_test_split\n",
    "from sklearn.feature_extraction.text import TfidfVectorizer\n",
    "from sklearn.svm import SVC\n",
    "from sklearn.metrics import accuracy_score, confusion_matrix, f1_score\n",
    "from datasets import load_dataset\n",
    "from collections import Counter\n",
    "from transformers import (AutoTokenizer, AutoModelForSequenceClassification, TrainingArguments, Trainer)\n",
    "from collections import Counter\n",
    "import matplotlib.pyplot as plt\n",
    "from torch.utils.data import DataLoader\n",
    "from tensorflow.keras.preprocessing.text import Tokenizer\n",
    "from tensorflow.keras.preprocessing.sequence import pad_sequences\n",
    "from nltk.corpus import stopwords\n",
    "from nltk.stem import PorterStemmer\n",
    "from tqdm.notebook import tqdm\n",
    "from pathlib import Path\n",
    "import nltk\n",
    "nltk.download('stopwords')\n",
    "nltk.download('wordnet')\n",
    "import re\n",
    "from torch.utils.data import DataLoader\n",
    "from nltk.stem import WordNetLemmatizer\n",
    "from nltk.corpus import stopwords\n",
    "w_tokenizer = nltk.tokenize.WhitespaceTokenizer()\n",
    "lemmatizer = nltk.stem.WordNetLemmatizer()\n",
    "stemmer = PorterStemmer()\n",
    "import matplotlib.pyplot as plt\n",
    "import seaborn as sns\n",
    "from tensorflow.keras.layers import GRU, Embedding, LSTM, Dense, Dropout, Bidirectional\n",
    "from tensorflow.keras.models import Sequential\n",
    "from tensorflow.keras.callbacks import EarlyStopping\n",
    "from transformers import AutoTokenizer, TFAutoModel, TFAutoModelForSeq2SeqLM, AutoTokenizer, TFAutoModelForSequenceClassification\n",
    "from transformers import DebertaTokenizer\n",
    "from transformers.tokenization_utils_fast import PreTrainedTokenizerFast\n",
    "from sklearn.metrics import classification_report\n",
    "\n",
    "\n",
    "clear_output()"
   ]
  },
  {
   "cell_type": "code",
   "execution_count": 143,
   "metadata": {
    "colab": {
     "base_uri": "https://localhost:8080/"
    },
    "execution": {
     "iopub.execute_input": "2023-04-24T23:23:43.408443Z",
     "iopub.status.busy": "2023-04-24T23:23:43.407567Z",
     "iopub.status.idle": "2023-04-24T23:23:43.418339Z",
     "shell.execute_reply": "2023-04-24T23:23:43.416737Z",
     "shell.execute_reply.started": "2023-04-24T23:23:43.408392Z"
    },
    "id": "pNb_CFKVBqOh",
    "outputId": "8bb4f8e1-bc87-43bb-9d53-8012d22b8543",
    "scrolled": true
   },
   "outputs": [
    {
     "name": "stdout",
     "output_type": "stream",
     "text": [
      "\n",
      "There are 2 GPU(s) available.\n",
      "Device name: Tesla T4\n"
     ]
    }
   ],
   "source": [
    "# check for GPU availability\n",
    "if torch.cuda.is_available():\n",
    "    device = torch.device(\"cuda\")\n",
    "    print(f'\\nThere are {torch.cuda.device_count()} GPU(s) available.')\n",
    "    print('Device name:', torch.cuda.get_device_name(0))\n",
    "else:\n",
    "    print('No GPU available, using the CPU instead.')\n",
    "    device = torch.device(\"cpu\")"
   ]
  },
  {
   "cell_type": "markdown",
   "metadata": {},
   "source": [
    "## All necessary functions that will be used "
   ]
  },
  {
   "cell_type": "code",
   "execution_count": 144,
   "metadata": {
    "execution": {
     "iopub.execute_input": "2023-04-24T23:23:43.423260Z",
     "iopub.status.busy": "2023-04-24T23:23:43.421934Z",
     "iopub.status.idle": "2023-04-24T23:23:43.437385Z",
     "shell.execute_reply": "2023-04-24T23:23:43.435839Z",
     "shell.execute_reply.started": "2023-04-24T23:23:43.423204Z"
    },
    "id": "EAMfVgVGPhdH"
   },
   "outputs": [],
   "source": [
    "def fourteen_labels(x, multi = False): # cuts down to 14 unique labels\n",
    "    \n",
    "    if multi == False:\n",
    "        x = x[0]\n",
    "    if x == 2 or x == 10 or x == 11:\n",
    "        return 3\n",
    "    elif x == 15 or x == 18 or x == 4 or x == 21:\n",
    "        return 0\n",
    "    elif x == 16 or x == 9 or x == 24 or x == 12:\n",
    "        return 25\n",
    "    elif x == 13 or x == 17:\n",
    "        return 1\n",
    "    elif x == 19:\n",
    "        return 14\n",
    "    else:\n",
    "        return x"
   ]
  },
  {
   "cell_type": "code",
   "execution_count": 145,
   "metadata": {
    "execution": {
     "iopub.execute_input": "2023-04-24T23:23:43.442658Z",
     "iopub.status.busy": "2023-04-24T23:23:43.441719Z",
     "iopub.status.idle": "2023-04-24T23:23:43.453915Z",
     "shell.execute_reply": "2023-04-24T23:23:43.452476Z",
     "shell.execute_reply.started": "2023-04-24T23:23:43.442616Z"
    },
    "id": "bkYdwKewPod2"
   },
   "outputs": [],
   "source": [
    "def new_labels(x, multi = False): # updates labels to be between 0-13\n",
    "\n",
    "    if multi == False:\n",
    "        x = x[0]\n",
    "    if x == 0:\n",
    "        return 0\n",
    "    elif x == 1:\n",
    "        return 1\n",
    "    elif x == 3:\n",
    "        return 2\n",
    "    elif x == 5:\n",
    "        return 3\n",
    "    elif x == 6:\n",
    "        return 4\n",
    "    elif x == 7:\n",
    "        return 5\n",
    "    elif x == 8:\n",
    "        return 6\n",
    "    elif x == 14:\n",
    "        return 7\n",
    "    elif x == 20:\n",
    "        return 8\n",
    "    elif x == 22:\n",
    "        return 9\n",
    "    elif x == 23:\n",
    "        return 10\n",
    "    elif x == 25:\n",
    "        return 11\n",
    "    elif x == 26:\n",
    "        return 12\n",
    "    elif x == 27:\n",
    "        return 13"
   ]
  },
  {
   "cell_type": "code",
   "execution_count": 146,
   "metadata": {
    "execution": {
     "iopub.execute_input": "2023-04-24T23:23:43.457369Z",
     "iopub.status.busy": "2023-04-24T23:23:43.455875Z",
     "iopub.status.idle": "2023-04-24T23:23:43.467370Z",
     "shell.execute_reply": "2023-04-24T23:23:43.466271Z",
     "shell.execute_reply.started": "2023-04-24T23:23:43.457313Z"
    },
    "id": "zwGLyHsQPttm"
   },
   "outputs": [],
   "source": [
    "def replace_labels(labels): # runs through a list of labels and uses the previous two functions to update them\n",
    "    for i in tqdm(range(len(labels))):\n",
    "        if len(labels[i]) == 1:\n",
    "            labels[i] = [fourteen_labels(labels[i])]\n",
    "            labels[i] = [new_labels(labels[i])]\n",
    "        \n",
    "        else:\n",
    "            for j in range(len(labels[i])):\n",
    "                labels[i][j] = fourteen_labels(labels[i][j], multi = True)\n",
    "                labels[i][j] = new_labels(labels[i][j], multi = True)\n",
    "    \n",
    "    return labels"
   ]
  },
  {
   "cell_type": "code",
   "execution_count": 147,
   "metadata": {
    "execution": {
     "iopub.execute_input": "2023-04-24T23:23:43.470205Z",
     "iopub.status.busy": "2023-04-24T23:23:43.469064Z",
     "iopub.status.idle": "2023-04-24T23:23:43.481953Z",
     "shell.execute_reply": "2023-04-24T23:23:43.480671Z",
     "shell.execute_reply.started": "2023-04-24T23:23:43.470143Z"
    },
    "id": "28Z7VgBsPwyP"
   },
   "outputs": [],
   "source": [
    "def remove_dupes(data): # stops a data point from having the same class label more than once\n",
    "    z = []\n",
    "    for x in data:\n",
    "        z.append(list(dict.fromkeys(x)))\n",
    "    return z"
   ]
  },
  {
   "cell_type": "code",
   "execution_count": 148,
   "metadata": {
    "execution": {
     "iopub.execute_input": "2023-04-24T23:23:43.485182Z",
     "iopub.status.busy": "2023-04-24T23:23:43.483767Z",
     "iopub.status.idle": "2023-04-24T23:23:43.499377Z",
     "shell.execute_reply": "2023-04-24T23:23:43.497937Z",
     "shell.execute_reply.started": "2023-04-24T23:23:43.485118Z"
    },
    "id": "e3N8kBdSPySv"
   },
   "outputs": [],
   "source": [
    "def one_hot_encoder(df): # converts labels of a single data point to their one-hot-encoded format\n",
    "    one_hot_encoding = []\n",
    "    for i in tqdm(range(len(df))):\n",
    "        temp = [0] * n_labels\n",
    "        label_indices = df.iloc[i][\"labels\"]\n",
    "        for index in label_indices:\n",
    "            temp[index] = 1\n",
    "        one_hot_encoding.append(temp)\n",
    "        \n",
    "    return pd.DataFrame(one_hot_encoding)"
   ]
  },
  {
   "cell_type": "code",
   "execution_count": 149,
   "metadata": {
    "execution": {
     "iopub.execute_input": "2023-04-24T23:23:43.502525Z",
     "iopub.status.busy": "2023-04-24T23:23:43.501848Z",
     "iopub.status.idle": "2023-04-24T23:23:43.512477Z",
     "shell.execute_reply": "2023-04-24T23:23:43.510978Z",
     "shell.execute_reply.started": "2023-04-24T23:23:43.502474Z"
    },
    "id": "OJMmJmujd9pT"
   },
   "outputs": [],
   "source": [
    "def class_freq(data):\n",
    "    class_freq = {} # create a dictionary of class frequencies for visualisation purposes\n",
    "    classes = list(range(0,14))\n",
    "    for x in classes:\n",
    "        class_freq[x] = 0\n",
    "    for x in data['labels']:\n",
    "        if len(x) == 1:\n",
    "            class_freq[x[0]] +=1\n",
    "    else:\n",
    "        for j in x:\n",
    "            class_freq[j] +=1\n",
    "    return class_freq"
   ]
  },
  {
   "cell_type": "code",
   "execution_count": 150,
   "metadata": {
    "execution": {
     "iopub.execute_input": "2023-04-24T23:23:43.515805Z",
     "iopub.status.busy": "2023-04-24T23:23:43.514754Z",
     "iopub.status.idle": "2023-04-24T23:23:43.525550Z",
     "shell.execute_reply": "2023-04-24T23:23:43.524099Z",
     "shell.execute_reply.started": "2023-04-24T23:23:43.515753Z"
    },
    "id": "ehNnzP4Vc6Na"
   },
   "outputs": [],
   "source": [
    "def multilabel2multiclass(ls):\n",
    "    for i in range(len(ls)):\n",
    "        if len(ls[i]) > 1:\n",
    "            temp = []\n",
    "            for j in range(len(ls[i])):\n",
    "                temp.append(ls[i][j])\n",
    "                temp2 = {}\n",
    "                for x in temp:\n",
    "                    temp2[x] = class_dict[x]\n",
    "            ls[i] = [min(temp2)]\n",
    "    return ls\n",
    "\n",
    "\n"
   ]
  },
  {
   "cell_type": "code",
   "execution_count": 151,
   "metadata": {
    "execution": {
     "iopub.execute_input": "2023-04-24T23:23:43.531464Z",
     "iopub.status.busy": "2023-04-24T23:23:43.531012Z",
     "iopub.status.idle": "2023-04-24T23:23:43.542098Z",
     "shell.execute_reply": "2023-04-24T23:23:43.540685Z",
     "shell.execute_reply.started": "2023-04-24T23:23:43.531423Z"
    }
   },
   "outputs": [],
   "source": [
    "\n",
    "def calculate_class_balance(labels):\n",
    "    label_counts = Counter()\n",
    "    for label in labels:\n",
    "        for integer_label in label:\n",
    "            label_counts[integer_label] += 1\n",
    "    class_balance = {integer_label: count/len(labels) for integer_label, count in label_counts.items()}\n",
    "    return class_balance\n",
    "\n",
    "def plot_class_balance(labels):\n",
    "    class_balance = calculate_class_balance(labels)\n",
    "    sorted_class_balance = dict(sorted(class_balance.items(), key=lambda item: item[1], reverse=True))\n",
    "    plt.bar(range(len(sorted_class_balance)), list(sorted_class_balance.values()), align='center')\n",
    "    plt.xticks(range(len(sorted_class_balance)), list(sorted_class_balance.keys()))\n",
    "    plt.xlabel('Label')\n",
    "    plt.ylabel('Class Balance')\n",
    "    plt.show()\n",
    "\n"
   ]
  },
  {
   "cell_type": "code",
   "execution_count": 152,
   "metadata": {
    "execution": {
     "iopub.execute_input": "2023-04-24T23:23:43.545368Z",
     "iopub.status.busy": "2023-04-24T23:23:43.544188Z",
     "iopub.status.idle": "2023-04-24T23:23:43.555704Z",
     "shell.execute_reply": "2023-04-24T23:23:43.554128Z",
     "shell.execute_reply.started": "2023-04-24T23:23:43.545315Z"
    }
   },
   "outputs": [],
   "source": [
    "def combine_splits(dataset):\n",
    "    combined_dataset = {}\n",
    "\n",
    "    for split in dataset.keys():\n",
    "        combined_dataset[split] = []\n",
    "\n",
    "        for example in dataset[split]:\n",
    "            combined_dataset[split].append(example)\n",
    "\n",
    "    combined_dataset['combined'] = combined_dataset['train'] + combined_dataset['validation'] + combined_dataset['test']\n",
    "\n",
    "    return combined_dataset"
   ]
  },
  {
   "cell_type": "code",
   "execution_count": 153,
   "metadata": {
    "execution": {
     "iopub.execute_input": "2023-04-24T23:23:43.560936Z",
     "iopub.status.busy": "2023-04-24T23:23:43.559166Z",
     "iopub.status.idle": "2023-04-24T23:23:43.573445Z",
     "shell.execute_reply": "2023-04-24T23:23:43.571993Z",
     "shell.execute_reply.started": "2023-04-24T23:23:43.560878Z"
    }
   },
   "outputs": [],
   "source": [
    "def encode(texts, tokenizer):\n",
    "    ct = len(texts)\n",
    "    input_ids = np.ones((ct, MAX_LEN), dtype='int32')\n",
    "    attention_mask = np.zeros((ct, MAX_LEN), dtype='int32')\n",
    "    token_type_ids = np.zeros((ct, MAX_LEN), dtype='int32') # Not used in text classification\n",
    "\n",
    "    for k, text in enumerate(texts):\n",
    "        # Tokenize\n",
    "        tok_text = tokenizer.tokenize(text)\n",
    "        \n",
    "        # Truncate and convert tokens to numerical IDs\n",
    "        enc_text = tokenizer.convert_tokens_to_ids(tok_text[:(MAX_LEN-2)])\n",
    "        \n",
    "        input_length = len(enc_text) + 2\n",
    "        input_length = input_length if input_length < MAX_LEN else MAX_LEN\n",
    "        \n",
    "        # Add tokens [CLS] and [SEP] at the beginning and the end\n",
    "        input_ids[k,:input_length] = np.asarray([0] + enc_text + [2], dtype='int32')\n",
    "        \n",
    "        # Set to 1s in the attention input\n",
    "        attention_mask[k,:input_length] = 1\n",
    "\n",
    "    return {\n",
    "        'input_word_ids': input_ids,\n",
    "        'input_mask': attention_mask,\n",
    "        'input_type_ids': token_type_ids\n",
    "    }"
   ]
  },
  {
   "cell_type": "code",
   "execution_count": 154,
   "metadata": {
    "execution": {
     "iopub.execute_input": "2023-04-24T23:23:43.578187Z",
     "iopub.status.busy": "2023-04-24T23:23:43.577347Z",
     "iopub.status.idle": "2023-04-24T23:23:43.587687Z",
     "shell.execute_reply": "2023-04-24T23:23:43.586146Z",
     "shell.execute_reply.started": "2023-04-24T23:23:43.578141Z"
    }
   },
   "outputs": [],
   "source": [
    "\n",
    "\n",
    "def clean_text(text):\n",
    "\n",
    "    text = text.lower() # lowercase text\n",
    "    text = re.sub(r'[^\\w\\s]', '', text)# Remove punctuation using regular expressions\n",
    "    words = nltk.word_tokenize(text)# Tokenize the text into individual words\n",
    "    stop_words = set(stopwords.words('english'))# Remove stop words using the NLTK library\n",
    "    filtered_words = [word for word in words if word not in stop_words]\n",
    "    # Join the remaining words back into a string\n",
    "    clean_text = ' '.join(filtered_words) # remove stopwors from text\n",
    "    text = clean_text\n",
    "    return text\n",
    "\n",
    "def stem_text(text):\n",
    "    return [stemmer.stem(w) for w in w_tokenizer.tokenize(text)]\n",
    "\n",
    "def lemmatize_text(text):\n",
    "    return [lemmatizer.lemmatize(w) for w in w_tokenizer.tokenize(text)]\n"
   ]
  },
  {
   "cell_type": "code",
   "execution_count": 155,
   "metadata": {
    "execution": {
     "iopub.execute_input": "2023-04-24T23:23:43.590813Z",
     "iopub.status.busy": "2023-04-24T23:23:43.589505Z",
     "iopub.status.idle": "2023-04-24T23:23:43.603307Z",
     "shell.execute_reply": "2023-04-24T23:23:43.602146Z",
     "shell.execute_reply.started": "2023-04-24T23:23:43.590761Z"
    }
   },
   "outputs": [],
   "source": [
    "\n",
    "def plot_confusion_matrix(cm, labels):\n",
    "    plt.figure(figsize=(12, 8))\n",
    "    sns.heatmap(cm, annot=True, cmap='Blues', xticklabels=labels, yticklabels=labels)\n",
    "    plt.xlabel('Predicted')\n",
    "    plt.ylabel('Actual')\n",
    "    plt.show()\n",
    "    "
   ]
  },
  {
   "cell_type": "markdown",
   "metadata": {},
   "source": [
    "# Dataset being loaded in and Vizualisation of class balances for the original data"
   ]
  },
  {
   "cell_type": "code",
   "execution_count": null,
   "metadata": {
    "execution": {
     "iopub.execute_input": "2023-04-24T23:23:43.606373Z",
     "iopub.status.busy": "2023-04-24T23:23:43.605015Z",
     "iopub.status.idle": "2023-04-24T23:23:44.340504Z",
     "shell.execute_reply": "2023-04-24T23:23:44.339135Z",
     "shell.execute_reply.started": "2023-04-24T23:23:43.606319Z"
    }
   },
   "outputs": [],
   "source": [
    "dataset = load_dataset(\"go_emotions\", \"simplified\") \n",
    "n_labels = 14\n",
    "\n",
    "labels = dataset['train']['labels'] # get labels for each dataset split\n",
    "labels2 = dataset['validation']['labels']\n",
    "labels3 = dataset['test']['labels']"
   ]
  },
  {
   "cell_type": "code",
   "execution_count": 157,
   "metadata": {
    "execution": {
     "iopub.execute_input": "2023-04-24T23:23:44.342938Z",
     "iopub.status.busy": "2023-04-24T23:23:44.342186Z",
     "iopub.status.idle": "2023-04-24T23:23:44.354773Z",
     "shell.execute_reply": "2023-04-24T23:23:44.352192Z",
     "shell.execute_reply.started": "2023-04-24T23:23:44.342885Z"
    }
   },
   "outputs": [
    {
     "data": {
      "text/plain": [
       "[[27], [27], [2], [14], [3], [26], [15], [8, 20], [0], [27]]"
      ]
     },
     "execution_count": 157,
     "metadata": {},
     "output_type": "execute_result"
    }
   ],
   "source": [
    "labels[:10]"
   ]
  },
  {
   "cell_type": "markdown",
   "metadata": {},
   "source": [
    "As visible, the data contains 28 labels that will need to be reduced to 14, as well as some data containing multiple labels. these will be converted to a range of singular labels ranging from 0-13 for the 14 classes of labels."
   ]
  },
  {
   "cell_type": "code",
   "execution_count": 158,
   "metadata": {
    "execution": {
     "iopub.execute_input": "2023-04-24T23:23:44.359412Z",
     "iopub.status.busy": "2023-04-24T23:23:44.357848Z",
     "iopub.status.idle": "2023-04-24T23:23:44.914326Z",
     "shell.execute_reply": "2023-04-24T23:23:44.912936Z",
     "shell.execute_reply.started": "2023-04-24T23:23:44.359356Z"
    }
   },
   "outputs": [
    {
     "name": "stdout",
     "output_type": "stream",
     "text": [
      "{27: 0.3275512554710896, 0: 0.09513936880903018, 4: 0.06770329417184981, 15: 0.061322275973278044, 3: 0.056899331951163326, 1: 0.053628196268140985, 7: 0.050472241419027876, 18: 0.04805344390693388, 10: 0.046579129232895644, 20: 0.0364201796821009, 2: 0.03609767334715503, 17: 0.03344851416724257, 6: 0.03151347615756738, 25: 0.030545957152729786, 9: 0.029232895646164478, 22: 0.025570145127850726, 5: 0.025040313291868233, 26: 0.02441833678875835, 13: 0.01964985026491592, 11: 0.018267680258005067, 8: 0.014766182907164247, 14: 0.01372955540198111, 24: 0.012554710896106889, 12: 0.0069799585348997925, 19: 0.00377793135222299, 23: 0.0035245335176226677, 21: 0.0025570145127850725, 16: 0.0017737848422022576}\n"
     ]
    },
    {
     "data": {
      "image/png": "[encoded data removed]",
      "text/plain": [
       "<Figure size 640x480 with 1 Axes>"
      ]
     },
     "metadata": {},
     "output_type": "display_data"
    }
   ],
   "source": [
    "#Class Balance of training dataset before any changes are made\n",
    "class_balance = calculate_class_balance(labels)\n",
    "sorted_class_balance = dict(sorted(class_balance.items(), key=lambda item: item[1], reverse=True))\n",
    "print(sorted_class_balance)\n",
    "plot_class_balance(labels)"
   ]
  },
  {
   "cell_type": "code",
   "execution_count": 159,
   "metadata": {
    "execution": {
     "iopub.execute_input": "2023-04-24T23:23:44.925093Z",
     "iopub.status.busy": "2023-04-24T23:23:44.923702Z",
     "iopub.status.idle": "2023-04-24T23:23:45.405096Z",
     "shell.execute_reply": "2023-04-24T23:23:45.403833Z",
     "shell.execute_reply.started": "2023-04-24T23:23:44.925011Z"
    }
   },
   "outputs": [
    {
     "name": "stdout",
     "output_type": "stream",
     "text": [
      "{27: 0.32546995945447843, 0: 0.08993733873940288, 4: 0.07316623663840767, 15: 0.06597862145226686, 1: 0.05584224106155548, 3: 0.05584224106155548, 10: 0.0538149649834132, 18: 0.04644305197198673, 7: 0.04570586067084408, 20: 0.03851824548470328, 2: 0.03593807593070402, 17: 0.0316992259491338, 9: 0.030040545521562847, 5: 0.02819756726870623, 6: 0.028013269443420568, 25: 0.026354589015849614, 26: 0.02377441946185035, 22: 0.023405823811279026, 11: 0.017876889052709177, 13: 0.017692591227423518, 14: 0.016586804275709546, 8: 0.014190932546995945, 24: 0.012532252119424991, 12: 0.006450423884998157, 19: 0.003870254330998894, 23: 0.003317360855141909, 21: 0.0027644673792849243, 16: 0.002395871728713601}\n"
     ]
    },
    {
     "data": {
      "image/png": "[encoded data removed]",
      "text/plain": [
       "<Figure size 640x480 with 1 Axes>"
      ]
     },
     "metadata": {},
     "output_type": "display_data"
    }
   ],
   "source": [
    "#Class Balance of validation dataset before any changes are made\n",
    "class_balance = calculate_class_balance(labels2)\n",
    "sorted_class_balance = dict(sorted(class_balance.items(), key=lambda item: item[1], reverse=True))\n",
    "print(sorted_class_balance)\n",
    "plot_class_balance(labels2)"
   ]
  },
  {
   "cell_type": "code",
   "execution_count": 160,
   "metadata": {
    "execution": {
     "iopub.execute_input": "2023-04-24T23:23:45.407668Z",
     "iopub.status.busy": "2023-04-24T23:23:45.406903Z",
     "iopub.status.idle": "2023-04-24T23:23:45.871364Z",
     "shell.execute_reply": "2023-04-24T23:23:45.870075Z",
     "shell.execute_reply.started": "2023-04-24T23:23:45.407616Z"
    }
   },
   "outputs": [
    {
     "name": "stdout",
     "output_type": "stream",
     "text": [
      "{27: 0.3292795282845034, 0: 0.09286898839137644, 15: 0.06486088078127879, 4: 0.06467661691542288, 3: 0.05896443707388981, 7: 0.052330937903077204, 10: 0.04919845218352681, 1: 0.048645660585959094, 18: 0.04385480007370555, 2: 0.03648424543946932, 20: 0.03427307904919845, 17: 0.02966648240280081, 25: 0.028745163073521283, 6: 0.028192371475953566, 9: 0.027823843744241756, 22: 0.02671826054910632, 26: 0.025981205085682697, 5: 0.024875621890547265, 11: 0.022664455500276397, 13: 0.018979178183158283, 8: 0.01529390086604017, 14: 0.014372581536760642, 24: 0.010318776487930717, 12: 0.0068177630366685095, 19: 0.00423806891468583, 21: 0.0029482218536944905, 23: 0.002026902524414962, 16: 0.001105583195135434}\n"
     ]
    },
    {
     "data": {
      "image/png": "[encoded data removed]",
      "text/plain": [
       "<Figure size 640x480 with 1 Axes>"
      ]
     },
     "metadata": {},
     "output_type": "display_data"
    }
   ],
   "source": [
    "#Class Balance of testing dataset before any changes are made\n",
    "class_balance = calculate_class_balance(labels3)\n",
    "sorted_class_balance = dict(sorted(class_balance.items(), key=lambda item: item[1], reverse=True))\n",
    "print(sorted_class_balance)\n",
    "plot_class_balance(labels3)"
   ]
  },
  {
   "cell_type": "markdown",
   "metadata": {},
   "source": [
    "**Notes:** Clear class imbalance in the data with class 27 making up the majority of the dataset."
   ]
  },
  {
   "cell_type": "markdown",
   "metadata": {},
   "source": [
    "## Labels being cut down to 14 and visulization of the class balance after this change"
   ]
  },
  {
   "cell_type": "code",
   "execution_count": null,
   "metadata": {
    "execution": {
     "iopub.execute_input": "2023-04-24T23:23:45.875757Z",
     "iopub.status.busy": "2023-04-24T23:23:45.874658Z",
     "iopub.status.idle": "2023-04-24T23:23:47.631030Z",
     "shell.execute_reply": "2023-04-24T23:23:47.629577Z",
     "shell.execute_reply.started": "2023-04-24T23:23:45.875713Z"
    }
   },
   "outputs": [],
   "source": [
    "#Cutting the labels down to 14\n",
    "a_labels = remove_dupes(replace_labels(labels)) \n",
    "a_labels2 = remove_dupes(replace_labels(labels2))\n",
    "a_labels3 = remove_dupes(replace_labels(labels3))"
   ]
  },
  {
   "cell_type": "code",
   "execution_count": 162,
   "metadata": {
    "execution": {
     "iopub.execute_input": "2023-04-24T23:23:47.633855Z",
     "iopub.status.busy": "2023-04-24T23:23:47.633368Z",
     "iopub.status.idle": "2023-04-24T23:23:47.643694Z",
     "shell.execute_reply": "2023-04-24T23:23:47.642226Z",
     "shell.execute_reply.started": "2023-04-24T23:23:47.633805Z"
    }
   },
   "outputs": [
    {
     "data": {
      "text/plain": [
       "[[13], [13], [2], [7], [2], [12], [0], [6, 8], [0], [13]]"
      ]
     },
     "execution_count": 162,
     "metadata": {},
     "output_type": "execute_result"
    }
   ],
   "source": [
    "a_labels[:10]"
   ]
  },
  {
   "cell_type": "markdown",
   "metadata": {},
   "source": [
    "As visible above, the labels are now in a range of 0-13 instead of 0-27, however, they still contain multiple labels for certain texts. To rectify this based on instructions given in the brief these will be converted into singular labels, and the way this will be done is using a function to change the multi-labelled texts to the label with the lowest class balance to avoid further disparities in class balancing. eg if a label = [6, 8] then this would be converted to 6 since 6 has a lower class balance than 8."
   ]
  },
  {
   "cell_type": "code",
   "execution_count": 163,
   "metadata": {
    "execution": {
     "iopub.execute_input": "2023-04-24T23:23:47.647290Z",
     "iopub.status.busy": "2023-04-24T23:23:47.645562Z",
     "iopub.status.idle": "2023-04-24T23:23:47.965379Z",
     "shell.execute_reply": "2023-04-24T23:23:47.964106Z",
     "shell.execute_reply.started": "2023-04-24T23:23:47.647178Z"
    }
   },
   "outputs": [
    {
     "name": "stdout",
     "output_type": "stream",
     "text": [
      "{13: 0.3275512554710896, 0: 0.25385855793595946, 2: 0.1432158488827459, 1: 0.10241879751209398, 11: 0.0751670122091684, 5: 0.050472241419027876, 8: 0.0364201796821009, 4: 0.03151347615756738, 9: 0.025570145127850726, 3: 0.025040313291868233, 12: 0.02441833678875835, 7: 0.016724257083621286, 6: 0.014766182907164247, 10: 0.0035245335176226677}\n"
     ]
    },
    {
     "data": {
      "image/png": "[encoded data removed]",
      "text/plain": [
       "<Figure size 640x480 with 1 Axes>"
      ]
     },
     "metadata": {},
     "output_type": "display_data"
    }
   ],
   "source": [
    "#training class balance after conversion to 14 labels\n",
    "class_balance = calculate_class_balance(a_labels)\n",
    "sorted_class_balance = dict(sorted(class_balance.items(), key=lambda item: item[1], reverse=True))\n",
    "print(sorted_class_balance)\n",
    "plot_class_balance(a_labels)"
   ]
  },
  {
   "cell_type": "code",
   "execution_count": 164,
   "metadata": {
    "execution": {
     "iopub.execute_input": "2023-04-24T23:23:47.967588Z",
     "iopub.status.busy": "2023-04-24T23:23:47.967173Z",
     "iopub.status.idle": "2023-04-24T23:23:48.252561Z",
     "shell.execute_reply": "2023-04-24T23:23:48.251129Z",
     "shell.execute_reply.started": "2023-04-24T23:23:47.967551Z"
    }
   },
   "outputs": [
    {
     "name": "stdout",
     "output_type": "stream",
     "text": [
      "{13: 0.32546995945447843, 0: 0.2583855510504976, 2: 0.14725396240324365, 1: 0.10007371913011426, 11: 0.07187615186140804, 5: 0.04570586067084408, 8: 0.03851824548470328, 3: 0.02819756726870623, 4: 0.028013269443420568, 12: 0.02377441946185035, 9: 0.023405823811279026, 7: 0.01935127165499447, 6: 0.014190932546995945, 10: 0.003317360855141909}\n"
     ]
    },
    {
     "data": {
      "image/png": "[encoded data removed]",
      "text/plain": [
       "<Figure size 640x480 with 1 Axes>"
      ]
     },
     "metadata": {},
     "output_type": "display_data"
    }
   ],
   "source": [
    "#validation class balance after conversion to 14 labels\n",
    "class_balance = calculate_class_balance(a_labels2)\n",
    "sorted_class_balance = dict(sorted(class_balance.items(), key=lambda item: item[1], reverse=True))\n",
    "print(sorted_class_balance)\n",
    "plot_class_balance(a_labels2)"
   ]
  },
  {
   "cell_type": "code",
   "execution_count": 165,
   "metadata": {
    "execution": {
     "iopub.execute_input": "2023-04-24T23:23:48.254765Z",
     "iopub.status.busy": "2023-04-24T23:23:48.254371Z",
     "iopub.status.idle": "2023-04-24T23:23:48.542604Z",
     "shell.execute_reply": "2023-04-24T23:23:48.541337Z",
     "shell.execute_reply.started": "2023-04-24T23:23:48.254729Z"
    }
   },
   "outputs": [
    {
     "name": "stdout",
     "output_type": "stream",
     "text": [
      "{13: 0.3292795282845034, 0: 0.25096738529574353, 2: 0.15146489773355445, 1: 0.09397457158651189, 11: 0.06983600515938825, 5: 0.052330937903077204, 8: 0.03427307904919845, 4: 0.028192371475953566, 9: 0.02671826054910632, 12: 0.025981205085682697, 3: 0.024875621890547265, 7: 0.018057858853878755, 6: 0.01529390086604017, 10: 0.002026902524414962}\n"
     ]
    },
    {
     "data": {
      "image/png": "[encoded data removed]",
      "text/plain": [
       "<Figure size 640x480 with 1 Axes>"
      ]
     },
     "metadata": {},
     "output_type": "display_data"
    }
   ],
   "source": [
    "#testing class balance after conversion to 14 labels\n",
    "class_balance = calculate_class_balance(a_labels3)\n",
    "sorted_class_balance = dict(sorted(class_balance.items(), key=lambda item: item[1], reverse=True))\n",
    "print(sorted_class_balance)\n",
    "plot_class_balance(a_labels3)"
   ]
  },
  {
   "cell_type": "markdown",
   "metadata": {},
   "source": [
    "Class imbalance still exists within data, however, the imbalance in the data at this point has somewhat improved compared to the original dataset."
   ]
  },
  {
   "cell_type": "markdown",
   "metadata": {},
   "source": [
    "## Labels being converted to contain only singular labels and visulization of the class balance after this change"
   ]
  },
  {
   "cell_type": "code",
   "execution_count": 166,
   "metadata": {
    "execution": {
     "iopub.execute_input": "2023-04-24T23:23:48.545366Z",
     "iopub.status.busy": "2023-04-24T23:23:48.544552Z",
     "iopub.status.idle": "2023-04-24T23:23:49.195512Z",
     "shell.execute_reply": "2023-04-24T23:23:49.194114Z",
     "shell.execute_reply.started": "2023-04-24T23:23:48.545316Z"
    }
   },
   "outputs": [],
   "source": [
    "dataset['train'] = dataset['train'].remove_columns('labels') # remove original labels and add new ones back to dataset\n",
    "dataset['train'] = dataset['train'].add_column('labels', a_labels)\n",
    "dataset['validation'] = dataset['validation'].remove_columns('labels')\n",
    "dataset['validation'] = dataset['validation'].add_column('labels', a_labels2)\n",
    "dataset['test'] = dataset['test'].remove_columns('labels')\n",
    "dataset['test'] = dataset['test'].add_column('labels', a_labels3)\n",
    "\n",
    "train = dataset[\"train\"].to_pandas()\n",
    "valid = dataset[\"validation\"].to_pandas()\n",
    "test = dataset[\"test\"].to_pandas()\n",
    "clear_output()"
   ]
  },
  {
   "cell_type": "code",
   "execution_count": 167,
   "metadata": {
    "execution": {
     "iopub.execute_input": "2023-04-24T23:23:49.199940Z",
     "iopub.status.busy": "2023-04-24T23:23:49.199568Z",
     "iopub.status.idle": "2023-04-24T23:23:49.380016Z",
     "shell.execute_reply": "2023-04-24T23:23:49.378726Z",
     "shell.execute_reply.started": "2023-04-24T23:23:49.199903Z"
    }
   },
   "outputs": [],
   "source": [
    "#Conversion of multi-classed labels to singular labels\n",
    "dict_a = class_freq(dataset['train'])\n",
    "dict_b = class_freq(dataset['validation'])\n",
    "dict_c = class_freq(dataset['test'])\n",
    "class_dict = Counter(dict_a) + Counter(dict_b) + Counter(dict_c)\n",
    "\n",
    "a_labels1 = multilabel2multiclass(a_labels) \n",
    "a_labels22 = multilabel2multiclass(a_labels2)\n",
    "a_labels33 = multilabel2multiclass(a_labels3)"
   ]
  },
  {
   "cell_type": "code",
   "execution_count": 168,
   "metadata": {
    "execution": {
     "iopub.execute_input": "2023-04-24T23:23:49.382986Z",
     "iopub.status.busy": "2023-04-24T23:23:49.382028Z",
     "iopub.status.idle": "2023-04-24T23:23:49.392271Z",
     "shell.execute_reply": "2023-04-24T23:23:49.390827Z",
     "shell.execute_reply.started": "2023-04-24T23:23:49.382933Z"
    }
   },
   "outputs": [
    {
     "data": {
      "text/plain": [
       "[[13], [13], [2], [7], [2], [12], [0], [6], [0], [13]]"
      ]
     },
     "execution_count": 168,
     "metadata": {},
     "output_type": "execute_result"
    }
   ],
   "source": [
    "a_labels1[:10]"
   ]
  },
  {
   "cell_type": "markdown",
   "metadata": {},
   "source": [
    "As visible in the output above, the labels are now in the correct format ranging from 0-13 and only containing a single label per class."
   ]
  },
  {
   "cell_type": "code",
   "execution_count": 169,
   "metadata": {
    "execution": {
     "iopub.execute_input": "2023-04-24T23:23:49.395191Z",
     "iopub.status.busy": "2023-04-24T23:23:49.394680Z",
     "iopub.status.idle": "2023-04-24T23:23:49.710370Z",
     "shell.execute_reply": "2023-04-24T23:23:49.709078Z",
     "shell.execute_reply.started": "2023-04-24T23:23:49.395140Z"
    }
   },
   "outputs": [
    {
     "name": "stdout",
     "output_type": "stream",
     "text": [
      "{13: 0.2953927666436305, 0: 0.25385855793595946, 2: 0.1360285648468095, 1: 0.08675420410043769, 11: 0.056945404284727025, 5: 0.038217000691085, 4: 0.02782768947247178, 8: 0.02275973278046533, 3: 0.020317899101589494, 12: 0.017300161253167474, 9: 0.01677032941718498, 7: 0.014305459571527297, 6: 0.011310757889887123, 10: 0.0022114720110573602}\n"
     ]
    },
    {
     "data": {
      "image/png": "[encoded data removed]",
      "text/plain": [
       "<Figure size 640x480 with 1 Axes>"
      ]
     },
     "metadata": {},
     "output_type": "display_data"
    }
   ],
   "source": [
    "#training class balance of final dataset after labels have been converted\n",
    "class_balance = calculate_class_balance(a_labels1)\n",
    "sorted_class_balance = dict(sorted(class_balance.items(), key=lambda item: item[1], reverse=True))\n",
    "print(sorted_class_balance)\n",
    "plot_class_balance(a_labels1)"
   ]
  },
  {
   "cell_type": "code",
   "execution_count": 170,
   "metadata": {
    "execution": {
     "iopub.execute_input": "2023-04-24T23:23:49.713286Z",
     "iopub.status.busy": "2023-04-24T23:23:49.712413Z",
     "iopub.status.idle": "2023-04-24T23:23:50.003559Z",
     "shell.execute_reply": "2023-04-24T23:23:50.002134Z",
     "shell.execute_reply.started": "2023-04-24T23:23:49.713234Z"
    }
   },
   "outputs": [
    {
     "name": "stdout",
     "output_type": "stream",
     "text": [
      "{13: 0.2934021378547733, 0: 0.2583855510504976, 2: 0.13859196461481754, 1: 0.08606708440840398, 11: 0.05197198673055658, 5: 0.035569480280132695, 4: 0.025064504238849983, 8: 0.024327312937707336, 3: 0.02395871728713601, 12: 0.017508293402137855, 9: 0.01695539992628087, 7: 0.01566531514928124, 6: 0.011057869517139697, 10: 0.001474382602285293}\n"
     ]
    },
    {
     "data": {
      "image/png": "[encoded data removed]",
      "text/plain": [
       "<Figure size 640x480 with 1 Axes>"
      ]
     },
     "metadata": {},
     "output_type": "display_data"
    }
   ],
   "source": [
    "#validation class balance of final dataset after labels have been converted\n",
    "class_balance = calculate_class_balance(a_labels22)\n",
    "sorted_class_balance = dict(sorted(class_balance.items(), key=lambda item: item[1], reverse=True))\n",
    "print(sorted_class_balance)\n",
    "plot_class_balance(a_labels22)"
   ]
  },
  {
   "cell_type": "code",
   "execution_count": 171,
   "metadata": {
    "execution": {
     "iopub.execute_input": "2023-04-24T23:23:50.006380Z",
     "iopub.status.busy": "2023-04-24T23:23:50.005868Z",
     "iopub.status.idle": "2023-04-24T23:23:50.301508Z",
     "shell.execute_reply": "2023-04-24T23:23:50.300245Z",
     "shell.execute_reply.started": "2023-04-24T23:23:50.006331Z"
    }
   },
   "outputs": [
    {
     "name": "stdout",
     "output_type": "stream",
     "text": [
      "{13: 0.29592776856458447, 0: 0.25096738529574353, 2: 0.14483139856274185, 1: 0.07868067072047172, 11: 0.05601621522019532, 5: 0.04072231435415515, 4: 0.023954302561267734, 8: 0.022295927768564584, 9: 0.020637552975861433, 3: 0.01861065045144647, 12: 0.01695227565874332, 7: 0.01658374792703151, 6: 0.012529942878201585, 10: 0.0012898470609913396}\n"
     ]
    },
    {
     "data": {
      "image/png": "[encoded data removed]",
      "text/plain": [
       "<Figure size 640x480 with 1 Axes>"
      ]
     },
     "metadata": {},
     "output_type": "display_data"
    }
   ],
   "source": [
    "#testing class balance of final dataset after labels have been converted\n",
    "class_balance = calculate_class_balance(a_labels33)\n",
    "sorted_class_balance = dict(sorted(class_balance.items(), key=lambda item: item[1], reverse=True))\n",
    "print(sorted_class_balance)\n",
    "plot_class_balance(a_labels33)"
   ]
  },
  {
   "cell_type": "markdown",
   "metadata": {},
   "source": [
    "**General notes about the class balance**  \n",
    "As visible in the graphs that have been showcased so far, there is a clear class imbalance within the data. Most of the data belong to classes 13, 0, 2, and 1 ranked in order. This is not likely to impact the experiments well and ideally we would have a dataset with balanced classes. This would improve overall results, avoid overfitting to our data and make the models more applicable to general unseen data. It would also improve the model's ability to correctly classify the data from the lower represented classes. It is important to note that due to the class imbalance especially for class 10, it can be expected for models to be unable to perform well in classifying low represented classes.  \n",
    "As a result of the clear class imbalance, the F1-score metric will be used along with accuracy; this is to address the class imbalance issue as F1-score takes into consideration both precision and recall. In an unbalanced dataset these two metrics are the most important as precision measures the proportion of true positives (TP) amongst all predictions made as positive, and recall measures the proportion of TPs amongst all actual positives.\n",
    "\n"
   ]
  },
  {
   "cell_type": "code",
   "execution_count": 172,
   "metadata": {
    "execution": {
     "iopub.execute_input": "2023-04-24T23:23:50.304259Z",
     "iopub.status.busy": "2023-04-24T23:23:50.303449Z",
     "iopub.status.idle": "2023-04-24T23:23:50.919759Z",
     "shell.execute_reply": "2023-04-24T23:23:50.918347Z",
     "shell.execute_reply.started": "2023-04-24T23:23:50.304210Z"
    }
   },
   "outputs": [],
   "source": [
    "dataset['train'] = dataset['train'].remove_columns('labels') # remove original labels and add new ones back to dataset\n",
    "dataset['train'] = dataset['train'].add_column('labels', a_labels1)\n",
    "dataset['validation'] = dataset['validation'].remove_columns('labels')\n",
    "dataset['validation'] = dataset['validation'].add_column('labels', a_labels22)\n",
    "dataset['test'] = dataset['test'].remove_columns('labels')\n",
    "dataset['test'] = dataset['test'].add_column('labels', a_labels33)\n",
    "\n",
    "train = dataset[\"train\"].to_pandas()\n",
    "valid = dataset[\"validation\"].to_pandas()\n",
    "test = dataset[\"test\"].to_pandas()\n",
    "clear_output()"
   ]
  },
  {
   "cell_type": "markdown",
   "metadata": {},
   "source": [
    "# Structure and Breakdown of Experiments\n",
    "There will be 4 different experiments conducted, and each of these 4 experiments will include variations within them. These will include the following variations totalling to 13 different variations:\n",
    "* Experiment one will investigate the use of SVMs for the task at hand, however, it will also investigate the effect that changing the data split would have on the SVM.  \n",
    "* Experiment two will investigate the use of GRUs for this task. A series of different GRU models (different layers, hyperparameters, and etc) will be investigated, and the best performing GRU model will be used to investigate the effects of different pre-processing techniques on this model. These will include tokenization, text cleaning, stemming and a combination of these techniques.  \n",
    "* Experiment three will investigate the use of the bert model on the data. Variations of the bert model will be tested on the data, these will include different lengths used for the padding sequence of the tokenization process. These will include 33 and 128. Due to extremely high computational powers required only one variation of the 128 MAX_LEN will be tested, however, the 33 MAX_LEN model will be further investigated with different variations of layers and hyperparameters.\n",
    "* Experiment four will follow the structure of experiment three, however, this experiment will investigate Microsoft's Deberta model instead of Google's Bert model. \n",
    "* All models will use categorical_crossentropy as their loss function and be evaluated using accuracy, F1-score and Confusion Matrix. The same callback function will be applied to all models in order to avoid overfitting these and save computational power.\n"
   ]
  },
  {
   "cell_type": "markdown",
   "metadata": {},
   "source": [
    "# Experiment 1: Experimenting with SVMs and different data splits \n",
    "In this variation a simple SVM classifier will be investigated for classifying text into 14 categories. The data will be pre-processed by vectorizing it using the tfidvectorizer and passed on to a SVM classifier with model params of: (kernel='linear', C=1, random_state=42). This model will also be used to investigate using different training and testing splits on the data. The splits used will be 70:30 and 80:20 for training and testing respectively. Since the dataset is given to us in a split of 80:10:10 for training, validation, and testing, all of these will be combined into one dataset using a function and this dataset will then be split to the desired 70:30 and 80:20 splits using the train_test_split function. Vectorization will be applied to the text using the Tfidvectorizer which will convert the text to lowercase, as well as removing stopwords. The performance of the SVM with different splits will be evaluated using accuracy, f-1 score and confusion matrix to be able to compare the effects of the SVM with different splits."
   ]
  },
  {
   "cell_type": "code",
   "execution_count": 114,
   "metadata": {
    "execution": {
     "iopub.execute_input": "2023-04-24T21:06:29.474289Z",
     "iopub.status.busy": "2023-04-24T21:06:29.473916Z",
     "iopub.status.idle": "2023-04-24T21:06:30.230354Z",
     "shell.execute_reply": "2023-04-24T21:06:30.229195Z",
     "shell.execute_reply.started": "2023-04-24T21:06:29.474250Z"
    }
   },
   "outputs": [],
   "source": [
    "\n",
    "combined_dataset_text = np.concatenate([dataset['train']['text'], dataset['validation']['text'], dataset['test']['text']], axis=0)\n",
    "combined_dataset_labels = np.concatenate([dataset['train']['labels'], dataset['validation']['labels'], dataset['test']['labels']], axis=0)\n"
   ]
  },
  {
   "cell_type": "markdown",
   "metadata": {},
   "source": [
    "## Variation 1\n",
    "**SVM model with data split of 80:20**"
   ]
  },
  {
   "cell_type": "code",
   "execution_count": 21,
   "metadata": {
    "execution": {
     "iopub.execute_input": "2023-04-24T20:38:40.843663Z",
     "iopub.status.busy": "2023-04-24T20:38:40.842917Z",
     "iopub.status.idle": "2023-04-24T20:43:17.105146Z",
     "shell.execute_reply": "2023-04-24T20:43:17.103702Z",
     "shell.execute_reply.started": "2023-04-24T20:38:40.843622Z"
    }
   },
   "outputs": [
    {
     "name": "stderr",
     "output_type": "stream",
     "text": [
      "/opt/conda/lib/python3.7/site-packages/sklearn/utils/validation.py:993: DataConversionWarning: A column-vector y was passed when a 1d array was expected. Please change the shape of y to (n_samples, ), for example using ravel().\n",
      "  y = column_or_1d(y, warn=True)\n"
     ]
    },
    {
     "name": "stdout",
     "output_type": "stream",
     "text": [
      "Accuracy: 57.74%\n",
      "0.37969025141135304\n",
      "Confusion matrix:\n",
      " [[1919   99   57   13    1    5   13    7   30    3    0   22   16  660]\n",
      " [ 122  555   19    1    0    1    1    2   18    1    0    5   14  143]\n",
      " [  86   34  611    3    2    0    3    9   10    6    0   53    6  719]\n",
      " [  41    5    9   26    0    0    1    3   14    1    0    9    2  105]\n",
      " [  19    7   34    1   15    1    0    3    2    0    0   11    2  180]\n",
      " [  48    7   19    1    0   33    0    2    4    2    0   13    8  257]\n",
      " [   9    6    4    1    0    0   43    0    9    0    0    4    1   46]\n",
      " [   9    2   21    2    0    1    0   74    2    0    0    1    2   53]\n",
      " [  38    2    4    2    0    0    5    0  114    0    0    5    3   68]\n",
      " [   8    4    7    1    2    0    0    1    0   13    0    4    4  114]\n",
      " [  11    3    3    2    0    1    0    0    0    0    0    0    0   13]\n",
      " [  42   10   55    4    0    2    2    8    3    3    0  231    4  248]\n",
      " [  26    4   10    0    0    4    0    0    0    1    0    1   65   79]\n",
      " [ 244   75  194   15    2    2    7    7   10    3    0   39   10 2567]]\n",
      "              precision    recall  f1-score   support\n",
      "\n",
      "           0       0.73      0.67      0.70      2845\n",
      "           1       0.68      0.63      0.65       882\n",
      "           2       0.58      0.40      0.47      1542\n",
      "           3       0.36      0.12      0.18       216\n",
      "           4       0.68      0.05      0.10       275\n",
      "           5       0.66      0.08      0.15       394\n",
      "           6       0.57      0.35      0.43       123\n",
      "           7       0.64      0.44      0.52       167\n",
      "           8       0.53      0.47      0.50       241\n",
      "           9       0.39      0.08      0.14       158\n",
      "          10       0.00      0.00      0.00        33\n",
      "          11       0.58      0.38      0.46       612\n",
      "          12       0.47      0.34      0.40       190\n",
      "          13       0.49      0.81      0.61      3175\n",
      "\n",
      "    accuracy                           0.58     10853\n",
      "   macro avg       0.53      0.35      0.38     10853\n",
      "weighted avg       0.60      0.58      0.55     10853\n",
      "\n"
     ]
    },
    {
     "name": "stderr",
     "output_type": "stream",
     "text": [
      "/opt/conda/lib/python3.7/site-packages/sklearn/metrics/_classification.py:1318: UndefinedMetricWarning: Precision and F-score are ill-defined and being set to 0.0 in labels with no predicted samples. Use `zero_division` parameter to control this behavior.\n",
      "  _warn_prf(average, modifier, msg_start, len(result))\n",
      "/opt/conda/lib/python3.7/site-packages/sklearn/metrics/_classification.py:1318: UndefinedMetricWarning: Precision and F-score are ill-defined and being set to 0.0 in labels with no predicted samples. Use `zero_division` parameter to control this behavior.\n",
      "  _warn_prf(average, modifier, msg_start, len(result))\n",
      "/opt/conda/lib/python3.7/site-packages/sklearn/metrics/_classification.py:1318: UndefinedMetricWarning: Precision and F-score are ill-defined and being set to 0.0 in labels with no predicted samples. Use `zero_division` parameter to control this behavior.\n",
      "  _warn_prf(average, modifier, msg_start, len(result))\n"
     ]
    }
   ],
   "source": [
    "\n",
    "# pre-process the text\n",
    "vectorizer = TfidfVectorizer(stop_words='english', lowercase=True, strip_accents='unicode')\n",
    "X = vectorizer.fit_transform(combined_dataset_text)#data['text']\n",
    "y = combined_dataset_labels#data['label']\n",
    "\n",
    "# split the data into training and testing sets with a 80:20 ratio \n",
    "#X_train, X_test, y_train, y_test = train_test_split(X, y, test_size=0.3, random_state=42)\n",
    "X_train, X_test, y_train, y_test = train_test_split(X, y, test_size=0.2, random_state=42)\n",
    "\n",
    "\n",
    "\n",
    "# train an SVM classifier on the training data\n",
    "clf = SVC(kernel='linear', C=1, random_state=42)\n",
    "clf.fit(X_train, y_train)\n",
    "\n",
    "# evaluate the model on the testing data\n",
    "y_pred = clf.predict(X_test)\n",
    "acc = accuracy_score(y_test, y_pred)\n",
    "\n",
    "print('Accuracy: {:.2f}%'.format(acc * 100))\n",
    "\n",
    "\n",
    "f1_stem_20 = f1_score(y_test, y_pred, average='macro')\n",
    "print(f1_stem_20)\n",
    "\n",
    "cm_stem_20 = confusion_matrix(y_test, y_pred)\n",
    "\n",
    "print(\"Confusion matrix:\\n\", cm_stem_20)\n",
    "\n",
    "classification_stem_20 = classification_report(y_test, y_pred)\n",
    "print(classification_stem_20)"
   ]
  },
  {
   "cell_type": "markdown",
   "metadata": {},
   "source": [
    "**Discussion of Results**  \n",
    "The SVM classifier was able to achieve an accuracy of 57.74% and an F1-score of 0.3797. Whilst the accuracy may seem somewhat acceptable, the F1-score shows the higher accuracy compared to the F1-score may be due to the class imbalance in the data. From looking at the confusion matrix we can see the model correctly classified labels 0,1,2,11,13 well compared to the other labels. This further showcases the class imbalance in the data affecting the results as these labels have the highest class balances in the data. This would explain the model's ability to correctly classify a large number of data belonging to classes 0 & 13 as these had the highest class balance in the data. The model also wrongfully classified a large portion of the data as classes 0 & 13 which further proves the effect of the class imbalance. It is important to note that due to this, the model did not classify any of the text as label 10. The model also had relatively low F1-scores for some other classes such as 3,4,5,and 9 indicating the model is not performing well at classifying these classes.  \n",
    "From the clasification report we can conclude that the model's performance is being driven by the majorit classes and it is unable to perform well on minority classes. This can be derived from the macro-average F1-score (0.38) being significantly lower than the weighted-average F1-score (0.55)."
   ]
  },
  {
   "cell_type": "markdown",
   "metadata": {},
   "source": [
    "## Variation 2\n",
    "**SVM model with data split of 70:30**"
   ]
  },
  {
   "cell_type": "code",
   "execution_count": 22,
   "metadata": {
    "execution": {
     "iopub.execute_input": "2023-04-24T20:43:37.670875Z",
     "iopub.status.busy": "2023-04-24T20:43:37.670495Z",
     "iopub.status.idle": "2023-04-24T20:47:14.392796Z",
     "shell.execute_reply": "2023-04-24T20:47:14.391646Z",
     "shell.execute_reply.started": "2023-04-24T20:43:37.670840Z"
    }
   },
   "outputs": [
    {
     "name": "stderr",
     "output_type": "stream",
     "text": [
      "/opt/conda/lib/python3.7/site-packages/sklearn/utils/validation.py:993: DataConversionWarning: A column-vector y was passed when a 1d array was expected. Please change the shape of y to (n_samples, ), for example using ravel().\n",
      "  y = column_or_1d(y, warn=True)\n"
     ]
    },
    {
     "name": "stdout",
     "output_type": "stream",
     "text": [
      "Accuracy: 57.71%\n",
      "0.3831983822178632\n",
      "Confusion matrix:\n",
      " [[2829  164   84   13    3    6   21   13   43    4    0   33   18  961]\n",
      " [ 178  855   35    4    2    2    2    3   19    0    0   10   17  212]\n",
      " [ 133   62  892    2    3    1    5   12   14    5    0   71   14 1070]\n",
      " [  54    8   11   46    0    0    2    4   25    1    0   19    2  152]\n",
      " [  27   10   37    1   28    0    0    4    2    1    0   12    3  295]\n",
      " [  70   14   32    3    1   54    0    2    5    3    0   19   14  393]\n",
      " [  13    6    5    1    0    0   72    0   12    0    0    5    1   78]\n",
      " [  14    3   30    4    0    0    0   92    2    0    0    0    2   80]\n",
      " [  51   10    8    2    0    0    9    0  174    1    0    8    3  108]\n",
      " [  22    9   14    1    2    0    0    2    1   23    0    7    5  184]\n",
      " [  13    4    3    2    0    1    0    1    0    0    0    1    0   18]\n",
      " [  60   13   79    4    0    2    5    6    8    5    0  342    7  391]\n",
      " [  40    7   14    0    0    4    2    0    0    1    0    1   96  112]\n",
      " [ 360  104  306   14    6    6   11   14   15    3    0   56   18 3891]]\n",
      "              precision    recall  f1-score   support\n",
      "\n",
      "           0       0.73      0.67      0.70      4192\n",
      "           1       0.67      0.64      0.66      1339\n",
      "           2       0.58      0.39      0.47      2284\n",
      "           3       0.47      0.14      0.22       324\n",
      "           4       0.62      0.07      0.12       420\n",
      "           5       0.71      0.09      0.16       610\n",
      "           6       0.56      0.37      0.45       193\n",
      "           7       0.60      0.41      0.48       227\n",
      "           8       0.54      0.47      0.50       374\n",
      "           9       0.49      0.09      0.15       270\n",
      "          10       0.00      0.00      0.00        43\n",
      "          11       0.59      0.37      0.45       922\n",
      "          12       0.48      0.35      0.40       277\n",
      "          13       0.49      0.81      0.61      4804\n",
      "\n",
      "    accuracy                           0.58     16279\n",
      "   macro avg       0.54      0.35      0.38     16279\n",
      "weighted avg       0.60      0.58      0.55     16279\n",
      "\n"
     ]
    },
    {
     "name": "stderr",
     "output_type": "stream",
     "text": [
      "/opt/conda/lib/python3.7/site-packages/sklearn/metrics/_classification.py:1318: UndefinedMetricWarning: Precision and F-score are ill-defined and being set to 0.0 in labels with no predicted samples. Use `zero_division` parameter to control this behavior.\n",
      "  _warn_prf(average, modifier, msg_start, len(result))\n",
      "/opt/conda/lib/python3.7/site-packages/sklearn/metrics/_classification.py:1318: UndefinedMetricWarning: Precision and F-score are ill-defined and being set to 0.0 in labels with no predicted samples. Use `zero_division` parameter to control this behavior.\n",
      "  _warn_prf(average, modifier, msg_start, len(result))\n",
      "/opt/conda/lib/python3.7/site-packages/sklearn/metrics/_classification.py:1318: UndefinedMetricWarning: Precision and F-score are ill-defined and being set to 0.0 in labels with no predicted samples. Use `zero_division` parameter to control this behavior.\n",
      "  _warn_prf(average, modifier, msg_start, len(result))\n"
     ]
    }
   ],
   "source": [
    "\n",
    "# pre-process the text\n",
    "vectorizer = TfidfVectorizer(stop_words='english', lowercase=True, strip_accents='unicode')\n",
    "X = vectorizer.fit_transform(combined_dataset_text)#data['text']\n",
    "y = combined_dataset_labels#data['label']\n",
    "\n",
    "# split the data into training and testing sets with a 70:30 ratio \n",
    "X_train, X_test, y_train, y_test = train_test_split(X, y, test_size=0.3, random_state=42)\n",
    "#X_train, X_test, y_train, y_test = train_test_split(X, y, test_size=0.2, random_state=42)\n",
    "\n",
    "\n",
    "\n",
    "# train an SVM classifier on the training data\n",
    "clf = SVC(kernel='linear', C=1, random_state=42)\n",
    "clf.fit(X_train, y_train)\n",
    "\n",
    "# evaluate the model on the testing data\n",
    "y_pred = clf.predict(X_test)\n",
    "acc_30 = accuracy_score(y_test, y_pred)\n",
    "\n",
    "print('Accuracy: {:.2f}%'.format(acc_30 * 100))\n",
    "\n",
    "\n",
    "f1_stem_30 = f1_score(y_test, y_pred, average='macro')\n",
    "print(f1_stem_30)\n",
    "\n",
    "cm_stem_30 = confusion_matrix(y_test, y_pred)\n",
    "\n",
    "print(\"Confusion matrix:\\n\", cm_stem_30)\n",
    "\n",
    "classification_stem_30 = classification_report(y_test, y_pred)\n",
    "print(classification_stem_30)"
   ]
  },
  {
   "cell_type": "markdown",
   "metadata": {},
   "source": [
    "Increasing the split from 80:20 to 70:30 did not have much of an impact. The accuracy went down slightly to 57.71%, however, the F1-score went up slightly to 0.3832. This slight increased performance can be witnessed in the confusion matrix. The confusion matrix and classification report results are similar to the other SVM variation. the same classes were classified well and the same ones not well as the previous variation."
   ]
  },
  {
   "cell_type": "markdown",
   "metadata": {},
   "source": [
    "## Conclusion:\n",
    "Whilst the SVM model using a 70:30 split performed just worst in regards to accuracy, it was able to outperform the 80:20 split regarding f1-score. This showcases that 70:30 is the better split to use for this model due to the class imbalance in the dataset. The extremely small number of instances from classes 9 & 10 existing in the dataset could be the reason for these model's bad performance regarding these two classes."
   ]
  },
  {
   "cell_type": "markdown",
   "metadata": {},
   "source": [
    "# Experiment 2 pre-processing\n",
    "Application of one-hot encoding to the data to be used for the other variations.  \n",
    "When running this notebook, to test different variations of the GRU model (variation 2), you will be required to uncomment and run specific cells for specific variations. For the first GRU variation its not required to uncomment any code, however, for the other variations theres markdown comments above the relevant cells."
   ]
  },
  {
   "cell_type": "code",
   "execution_count": null,
   "metadata": {
    "colab": {
     "base_uri": "https://localhost:8080/"
    },
    "execution": {
     "iopub.execute_input": "2023-04-24T23:23:58.305489Z",
     "iopub.status.busy": "2023-04-24T23:23:58.304390Z",
     "iopub.status.idle": "2023-04-24T23:24:05.849908Z",
     "shell.execute_reply": "2023-04-24T23:24:05.848644Z",
     "shell.execute_reply.started": "2023-04-24T23:23:58.305423Z"
    },
    "id": "wbh5DMSnP2pu",
    "outputId": "8670559b-d535-4199-c616-1e2a780d3496"
   },
   "outputs": [],
   "source": [
    "train_ohe_labels = one_hot_encoder(train).values.tolist() # replace labels column in 'dataset' with one-hot-encoded labels\n",
    "valid_ohe_labels = one_hot_encoder(valid).values.tolist()\n",
    "test_ohe_labels = one_hot_encoder(test).values.tolist()\n",
    "\n",
    "dataset['train'] = dataset['train'].remove_columns('labels')\n",
    "dataset['train'] = dataset['train'].add_column('labels', train_ohe_labels)\n",
    "dataset['validation'] = dataset['validation'].remove_columns('labels')\n",
    "dataset['validation'] = dataset['validation'].add_column('labels', valid_ohe_labels)\n",
    "dataset['test'] = dataset['test'].remove_columns('labels')\n",
    "dataset['test'] = dataset['test'].add_column('labels', test_ohe_labels)"
   ]
  },
  {
   "cell_type": "code",
   "execution_count": 174,
   "metadata": {
    "execution": {
     "iopub.execute_input": "2023-04-24T23:24:05.852987Z",
     "iopub.status.busy": "2023-04-24T23:24:05.852545Z",
     "iopub.status.idle": "2023-04-24T23:24:06.316009Z",
     "shell.execute_reply": "2023-04-24T23:24:06.314767Z",
     "shell.execute_reply.started": "2023-04-24T23:24:05.852937Z"
    },
    "id": "ZNHLWzZ0H4nb"
   },
   "outputs": [],
   "source": [
    "\n",
    "y_train_bert = np.asarray(dataset['train']['labels'], dtype='int32')\n",
    "y_test_bert = np.asarray(dataset['test']['labels'], dtype='int32')\n",
    "y_valid_bert = np.asarray(dataset['validation']['labels'], dtype='int32')\n"
   ]
  },
  {
   "cell_type": "code",
   "execution_count": 175,
   "metadata": {
    "execution": {
     "iopub.execute_input": "2023-04-24T23:24:06.318079Z",
     "iopub.status.busy": "2023-04-24T23:24:06.317598Z",
     "iopub.status.idle": "2023-04-24T23:24:06.460769Z",
     "shell.execute_reply": "2023-04-24T23:24:06.459280Z",
     "shell.execute_reply.started": "2023-04-24T23:24:06.318008Z"
    }
   },
   "outputs": [
    {
     "name": "stdout",
     "output_type": "stream",
     "text": [
      "The text with the longest number of words is:\n",
      " When you look back at your picks and realize you’re laying pretty much entirely chalk Tenn -8 Bowling Green -4 Akron -1 NC STATE -1.5 Duke -21 MSU This should go well lol\n",
      "33 words.\n"
     ]
    }
   ],
   "source": [
    "\n",
    "# create a new column to store the number of words in each text\n",
    "train['num_words'] = train['text'].apply(lambda x: len(x.split()))\n",
    "\n",
    "# sort the dataframe by the number of words in descending order\n",
    "df_sorted = train.sort_values('num_words', ascending=False)\n",
    "\n",
    "# get the text with the longest number of words\n",
    "longest_text = df_sorted.iloc[0]['text']\n",
    "\n",
    "# get the number of words in the longest text\n",
    "num_words_longest_text = df_sorted.iloc[0]['num_words']\n",
    "\n",
    "# print the results\n",
    "print(\"The text with the longest number of words is:\\n\", longest_text)\n",
    "print(num_words_longest_text, \"words.\")\n",
    "\n",
    "train = train.drop('num_words', axis=1)"
   ]
  },
  {
   "cell_type": "markdown",
   "metadata": {},
   "source": [
    "**Uncomment and run for cleaning variation**"
   ]
  },
  {
   "cell_type": "code",
   "execution_count": 33,
   "metadata": {
    "execution": {
     "iopub.execute_input": "2023-04-24T20:53:34.163162Z",
     "iopub.status.busy": "2023-04-24T20:53:34.162160Z",
     "iopub.status.idle": "2023-04-24T20:53:50.809273Z",
     "shell.execute_reply": "2023-04-24T20:53:50.808113Z",
     "shell.execute_reply.started": "2023-04-24T20:53:34.163115Z"
    }
   },
   "outputs": [],
   "source": [
    "#train['text'] = train['text'].apply(clean_text)\n",
    "#valid['text'] = valid['text'].apply(clean_text)\n",
    "#test['text'] = test['text'].apply(clean_text)"
   ]
  },
  {
   "cell_type": "code",
   "execution_count": 47,
   "metadata": {
    "execution": {
     "iopub.execute_input": "2023-04-23T21:35:02.099670Z",
     "iopub.status.busy": "2023-04-23T21:35:02.099198Z",
     "iopub.status.idle": "2023-04-23T21:35:02.155633Z",
     "shell.execute_reply": "2023-04-23T21:35:02.154441Z",
     "shell.execute_reply.started": "2023-04-23T21:35:02.099628Z"
    }
   },
   "outputs": [
    {
     "name": "stdout",
     "output_type": "stream",
     "text": [
      "The text with the longest number of words is:\n",
      "\n",
      "\n",
      "\n",
      "\n",
      "\n",
      "\n",
      "\n",
      " go gameshomeawayteamvs wl 1819 110golden state01 211houston00 211oklahoma city00 202toronto11 211milwaukee01 312indiana01 211philadelphia11 211boston10 110minnesota01 211new orleans00 211memphis00 110dallas01 101miami21 321brooklyn00 211charlotte02 202detroit11 211washington11 211new york20 211cleveland10 422atlanta00 110chicago21\n",
      "\n",
      "\n",
      "\n",
      "\n",
      "\n",
      "\n",
      "\n",
      "It has 29 words.\n"
     ]
    }
   ],
   "source": [
    "\n",
    "# create a new column to store the number of words in each text\n",
    "train['num_words'] = train['text'].apply(lambda x: len(x.split()))\n",
    "\n",
    "# sort the dataframe by the number of words in descending order\n",
    "df_sorted = train.sort_values('num_words', ascending=False)\n",
    "\n",
    "# get the text with the longest number of words\n",
    "longest_text = df_sorted.iloc[0]['text']\n",
    "\n",
    "# get the number of words in the longest text\n",
    "num_words_longest_text = df_sorted.iloc[0]['num_words']\n",
    "\n",
    "# print the results\n",
    "print(\"The text with the longest number of words is:\\n\", longest_text)\n",
    "print(\"It has\", num_words_longest_text, \"words.\")\n",
    "\n",
    "train = train.drop('num_words', axis=1)"
   ]
  },
  {
   "cell_type": "markdown",
   "metadata": {},
   "source": [
    "**Uncomment and run for stemming variation**"
   ]
  },
  {
   "cell_type": "code",
   "execution_count": 76,
   "metadata": {
    "execution": {
     "iopub.execute_input": "2023-04-24T21:02:39.442416Z",
     "iopub.status.busy": "2023-04-24T21:02:39.442025Z",
     "iopub.status.idle": "2023-04-24T21:02:53.398205Z",
     "shell.execute_reply": "2023-04-24T21:02:53.396998Z",
     "shell.execute_reply.started": "2023-04-24T21:02:39.442378Z"
    }
   },
   "outputs": [],
   "source": [
    "#train['text'] = train['text'].apply(stem_text)\n",
    "#valid['text'] = valid['text'].apply(stem_text)\n",
    "#test['text'] = test['text'].apply(stem_text)"
   ]
  },
  {
   "cell_type": "markdown",
   "metadata": {},
   "source": [
    "**Uncomment and run for cleaning and stemming variation**"
   ]
  },
  {
   "cell_type": "code",
   "execution_count": 117,
   "metadata": {
    "execution": {
     "iopub.execute_input": "2023-04-24T21:07:05.243619Z",
     "iopub.status.busy": "2023-04-24T21:07:05.242790Z",
     "iopub.status.idle": "2023-04-24T21:07:31.651354Z",
     "shell.execute_reply": "2023-04-24T21:07:31.649113Z",
     "shell.execute_reply.started": "2023-04-24T21:07:05.243572Z"
    }
   },
   "outputs": [],
   "source": [
    "#train['text'] = train['text'].apply(clean_text)\n",
    "#valid['text'] = valid['text'].apply(clean_text)\n",
    "#test['text'] = test['text'].apply(clean_text)\n",
    "\n",
    "#train['text'] = train['text'].apply(stem_text)\n",
    "#valid['text'] = valid['text'].apply(stem_text)\n",
    "#test['text'] = test['text'].apply(stem_text)"
   ]
  },
  {
   "cell_type": "code",
   "execution_count": 118,
   "metadata": {
    "execution": {
     "iopub.execute_input": "2023-04-24T21:07:31.654077Z",
     "iopub.status.busy": "2023-04-24T21:07:31.653674Z",
     "iopub.status.idle": "2023-04-24T21:07:31.947386Z",
     "shell.execute_reply": "2023-04-24T21:07:31.946077Z",
     "shell.execute_reply.started": "2023-04-24T21:07:31.654015Z"
    }
   },
   "outputs": [
    {
     "name": "stdout",
     "output_type": "stream",
     "text": [
      "Found 20135 unique tokens.\n"
     ]
    }
   ],
   "source": [
    "# The maximum number of words to be used\n",
    "MAX_NB_WORDS = 50000\n",
    "# Max number of words in each text\n",
    "MAX_SEQUENCE_LENGTH = 33\n",
    "EMBEDDING_DIM = 100\n",
    "tokenizer = Tokenizer(num_words=MAX_NB_WORDS, filters='!\"#$%&()*+,-./:;<=>?@[\\]^_`{|}~', lower=True)\n",
    "tokenizer.fit_on_texts(train['text'].values)\n",
    "word_index = tokenizer.word_index\n",
    "print('Found %s unique tokens.' % len(word_index))"
   ]
  },
  {
   "cell_type": "code",
   "execution_count": 119,
   "metadata": {
    "execution": {
     "iopub.execute_input": "2023-04-24T21:07:31.952024Z",
     "iopub.status.busy": "2023-04-24T21:07:31.948840Z",
     "iopub.status.idle": "2023-04-24T21:07:32.324509Z",
     "shell.execute_reply": "2023-04-24T21:07:32.323302Z",
     "shell.execute_reply.started": "2023-04-24T21:07:31.951989Z"
    }
   },
   "outputs": [
    {
     "name": "stdout",
     "output_type": "stream",
     "text": [
      "Shape of data tensor: (43410, 33)\n",
      "Shape of data tensor: (5427, 33)\n",
      "Shape of data tensor: (5426, 33)\n"
     ]
    }
   ],
   "source": [
    "X_train = tokenizer.texts_to_sequences(train['text'].values)\n",
    "X_train = pad_sequences(X_train, maxlen=MAX_SEQUENCE_LENGTH)\n",
    "print('Shape of data tensor:', X_train.shape)\n",
    "\n",
    "X_test = tokenizer.texts_to_sequences(test['text'].values)\n",
    "X_test = pad_sequences(X_test, maxlen=MAX_SEQUENCE_LENGTH)\n",
    "print('Shape of data tensor:', X_test.shape)\n",
    "\n",
    "X_valid = tokenizer.texts_to_sequences(valid['text'].values)\n",
    "X_valid = pad_sequences(X_valid, maxlen=MAX_SEQUENCE_LENGTH)\n",
    "print('Shape of data tensor:', X_valid.shape)"
   ]
  },
  {
   "cell_type": "code",
   "execution_count": 120,
   "metadata": {
    "execution": {
     "iopub.execute_input": "2023-04-24T21:07:32.328278Z",
     "iopub.status.busy": "2023-04-24T21:07:32.327966Z",
     "iopub.status.idle": "2023-04-24T21:07:32.749285Z",
     "shell.execute_reply": "2023-04-24T21:07:32.748209Z",
     "shell.execute_reply.started": "2023-04-24T21:07:32.328248Z"
    }
   },
   "outputs": [],
   "source": [
    "labels = train['labels']\n",
    "\n",
    "\n",
    "\n",
    "\n",
    "training_padded = np.array(X_train)\n",
    "training_labels = np.array(dataset['train']['labels'])\n",
    "testing_padded = np.array(X_test)\n",
    "testing_labels = np.array(dataset['test']['labels'])\n",
    "valid_padded = np.array(X_valid)\n",
    "valid_labels = np.array(dataset['validation']['labels'])"
   ]
  },
  {
   "cell_type": "markdown",
   "metadata": {},
   "source": [
    "# Experiment 2 GRU\n",
    "  **Experimentation was conducted on using different model layers and parameters:**\n",
    "* Model Layers: Embedding can be used to transform text data into a vector representation that is easy to process for recurrent layers. In this process, the embedding layer maps each word in the input vocabulary to a unique vector representation of that word which allows the model to capture semantic relationships between words. The first layer of the model is an embedding layer and the output of this layer (vectorized words) will be fed into the GRU model. Different number of GRU layers experiemented with were 1 and 2 and these were tested with Unit numbers of 64, 100, 128 and 150. Both unidirecetional and bidirectional GRU layers were experimented with, however, it was found that Bidirectional GRUs with 150 units performed best. After this experiment it was decided to go with a 2 layered Bidirectional-GRU model each containing 150 units. Dropout layers are added to avoid overfitting after each GRU layer. Different Dropout rates were also experiemnted with but 0.5 was found to be the optimal choice. Finally a Dense layer with softmax activation is used to calculate the probabilities for each of the 14 classes. This model will use categorical_crossentropy as it's loss function because of the nature of the task at hand. The optimizers experimented with during this task were adam and rmsprop, and the later performed best. \n",
    "* After obtaining the model structure explained above through analysis, research, and trial and error, the model designed will be experimented with different types of pre-processing. These will include the following:\n",
    "        -application of the model to the data with no text pre-processing other than tokenization (no text cleaning or stemming) \n",
    "        -application of the model to text data after text cleaning and tokenization are applied.  \n",
    "        -application of the model to the text data after stemming and tokenization are applied.  \n",
    "        -finally, the application of the model to the text data after text cleaning, stemming and tokenization have been applied.  \n",
    "\n",
    " \n"
   ]
  },
  {
   "cell_type": "code",
   "execution_count": 121,
   "metadata": {
    "execution": {
     "iopub.execute_input": "2023-04-24T21:07:32.752795Z",
     "iopub.status.busy": "2023-04-24T21:07:32.750680Z",
     "iopub.status.idle": "2023-04-24T21:07:33.825746Z",
     "shell.execute_reply": "2023-04-24T21:07:33.824828Z",
     "shell.execute_reply.started": "2023-04-24T21:07:32.752753Z"
    }
   },
   "outputs": [
    {
     "name": "stdout",
     "output_type": "stream",
     "text": [
      "Model: \"sequential_3\"\n",
      "_________________________________________________________________\n",
      " Layer (type)                Output Shape              Param #   \n",
      "=================================================================\n",
      " embedding_3 (Embedding)     (None, 33, 100)           5000000   \n",
      "                                                                 \n",
      " bidirectional_6 (Bidirectio  (None, 33, 300)          226800    \n",
      " nal)                                                            \n",
      "                                                                 \n",
      " dropout_6 (Dropout)         (None, 33, 300)           0         \n",
      "                                                                 \n",
      " bidirectional_7 (Bidirectio  (None, 300)              406800    \n",
      " nal)                                                            \n",
      "                                                                 \n",
      " dropout_7 (Dropout)         (None, 300)               0         \n",
      "                                                                 \n",
      " dense_3 (Dense)             (None, 14)                4214      \n",
      "                                                                 \n",
      "=================================================================\n",
      "Total params: 5,637,814\n",
      "Trainable params: 5,637,814\n",
      "Non-trainable params: 0\n",
      "_________________________________________________________________\n",
      "None\n"
     ]
    }
   ],
   "source": [
    "\n",
    "model = Sequential()\n",
    "model.add(Embedding(MAX_NB_WORDS, 100, input_length=X_train.shape[1]))\n",
    "model.add(Bidirectional(GRU(150, return_sequences=True)))\n",
    "model.add(Dropout(0.5))\n",
    "model.add(Bidirectional(GRU(150, return_sequences=False)))\n",
    "model.add(Dropout(0.5))\n",
    "model.add(Dense(14, activation='softmax'))\n",
    "model.compile(loss='categorical_crossentropy', optimizer='rmsprop', metrics=['accuracy'])\n",
    "print(model.summary())\n"
   ]
  },
  {
   "cell_type": "code",
   "execution_count": 29,
   "metadata": {
    "execution": {
     "iopub.execute_input": "2023-04-24T20:47:32.896622Z",
     "iopub.status.busy": "2023-04-24T20:47:32.895986Z",
     "iopub.status.idle": "2023-04-24T20:47:32.910785Z",
     "shell.execute_reply": "2023-04-24T20:47:32.907106Z",
     "shell.execute_reply.started": "2023-04-24T20:47:32.896588Z"
    }
   },
   "outputs": [],
   "source": [
    "\n",
    "early_stopping = EarlyStopping(\n",
    "    monitor='val_loss',\n",
    "    patience=3,\n",
    "    restore_best_weights=True\n",
    ")"
   ]
  },
  {
   "cell_type": "code",
   "execution_count": 122,
   "metadata": {
    "execution": {
     "iopub.execute_input": "2023-04-24T21:07:33.827300Z",
     "iopub.status.busy": "2023-04-24T21:07:33.826913Z",
     "iopub.status.idle": "2023-04-24T21:09:56.647934Z",
     "shell.execute_reply": "2023-04-24T21:09:56.646843Z",
     "shell.execute_reply.started": "2023-04-24T21:07:33.827258Z"
    }
   },
   "outputs": [
    {
     "name": "stdout",
     "output_type": "stream",
     "text": [
      "Epoch 1/10\n",
      "1357/1357 [==============================] - 36s 22ms/step - loss: 1.6653 - accuracy: 0.4864 - val_loss: 1.4397 - val_accuracy: 0.5579\n",
      "Epoch 2/10\n",
      "1357/1357 [==============================] - 22s 16ms/step - loss: 1.3902 - accuracy: 0.5807 - val_loss: 1.3985 - val_accuracy: 0.5732\n",
      "Epoch 3/10\n",
      "1357/1357 [==============================] - 21s 16ms/step - loss: 1.2847 - accuracy: 0.6088 - val_loss: 1.3400 - val_accuracy: 0.5853\n",
      "Epoch 4/10\n",
      "1357/1357 [==============================] - 21s 15ms/step - loss: 1.1979 - accuracy: 0.6326 - val_loss: 1.3724 - val_accuracy: 0.5820\n",
      "Epoch 5/10\n",
      "1357/1357 [==============================] - 22s 16ms/step - loss: 1.1190 - accuracy: 0.6568 - val_loss: 1.3863 - val_accuracy: 0.5759\n",
      "Epoch 6/10\n",
      "1357/1357 [==============================] - 21s 15ms/step - loss: 1.0386 - accuracy: 0.6848 - val_loss: 1.4495 - val_accuracy: 0.5564\n"
     ]
    }
   ],
   "source": [
    "history = model.fit(training_padded, training_labels, epochs=10, batch_size=32, validation_data = (valid_padded, valid_labels), callbacks= early_stopping)"
   ]
  },
  {
   "cell_type": "markdown",
   "metadata": {},
   "source": [
    "## Variation 1\n",
    "**only tokenizing data**"
   ]
  },
  {
   "cell_type": "code",
   "execution_count": 32,
   "metadata": {
    "execution": {
     "iopub.execute_input": "2023-04-24T20:52:36.030436Z",
     "iopub.status.busy": "2023-04-24T20:52:36.029065Z",
     "iopub.status.idle": "2023-04-24T20:52:37.148978Z",
     "shell.execute_reply": "2023-04-24T20:52:37.146120Z",
     "shell.execute_reply.started": "2023-04-24T20:52:36.030371Z"
    }
   },
   "outputs": [
    {
     "name": "stdout",
     "output_type": "stream",
     "text": [
      "170/170 [==============================] - 1s 6ms/step\n",
      "0.5922240648608808\n",
      "0.40220909958989803\n",
      "Confusion matrix:\n",
      " [[ 939   62   53    6    6    7    4    4    8    1    0   14    5  253]\n",
      " [  38  298    8    0    3    2    2    1    1    0    0    2    1   71]\n",
      " [  34   24  433    0    7    6    0    9    2    0    0   23    1  247]\n",
      " [   9    4   12   18    1    1    1    1    5    0    0    3    0   46]\n",
      " [   4    3   20    1   26   17    0    0    0    0    0    4    1   54]\n",
      " [  10    7   17    1    7   41    0    3    3    0    0    4    6  122]\n",
      " [   8    3    7    0    0    0   18    1    5    1    0    2    0   23]\n",
      " [   3    1   17    1    1    0    0   51    0    1    0    2    0   13]\n",
      " [  23    7    6    3    0    0    4    1   42    0    0    7    0   28]\n",
      " [   8    7   12    0    2    5    0    1    0    2    0    7   10   58]\n",
      " [   1    1    1    0    0    0    0    1    0    0    0    1    0    2]\n",
      " [  12    9   51    1    5    3    1    6    1    0    0  138    3   74]\n",
      " [   3    4   17    0    3    3    0    0    0    0    0    2   32   28]\n",
      " [  90   31  196    8   20   33    3    6    5    0    0   35    3 1176]]\n",
      "              precision    recall  f1-score   support\n",
      "\n",
      "           0       0.79      0.69      0.74      1362\n",
      "           1       0.65      0.70      0.67       427\n",
      "           2       0.51      0.55      0.53       786\n",
      "           3       0.46      0.18      0.26       101\n",
      "           4       0.32      0.20      0.25       130\n",
      "           5       0.35      0.19      0.24       221\n",
      "           6       0.55      0.26      0.36        68\n",
      "           7       0.60      0.57      0.58        90\n",
      "           8       0.58      0.35      0.44       121\n",
      "           9       0.40      0.02      0.03       112\n",
      "          10       0.00      0.00      0.00         7\n",
      "          11       0.57      0.45      0.50       304\n",
      "          12       0.52      0.35      0.42        92\n",
      "          13       0.54      0.73      0.62      1606\n",
      "\n",
      "    accuracy                           0.59      5427\n",
      "   macro avg       0.49      0.37      0.40      5427\n",
      "weighted avg       0.59      0.59      0.58      5427\n",
      "\n"
     ]
    },
    {
     "name": "stderr",
     "output_type": "stream",
     "text": [
      "/opt/conda/lib/python3.7/site-packages/sklearn/metrics/_classification.py:1318: UndefinedMetricWarning: Precision and F-score are ill-defined and being set to 0.0 in labels with no predicted samples. Use `zero_division` parameter to control this behavior.\n",
      "  _warn_prf(average, modifier, msg_start, len(result))\n",
      "/opt/conda/lib/python3.7/site-packages/sklearn/metrics/_classification.py:1318: UndefinedMetricWarning: Precision and F-score are ill-defined and being set to 0.0 in labels with no predicted samples. Use `zero_division` parameter to control this behavior.\n",
      "  _warn_prf(average, modifier, msg_start, len(result))\n",
      "/opt/conda/lib/python3.7/site-packages/sklearn/metrics/_classification.py:1318: UndefinedMetricWarning: Precision and F-score are ill-defined and being set to 0.0 in labels with no predicted samples. Use `zero_division` parameter to control this behavior.\n",
      "  _warn_prf(average, modifier, msg_start, len(result))\n"
     ]
    }
   ],
   "source": [
    "pred = model.predict(testing_padded)\n",
    "predictions = np.argmax(pred, axis = -1)\n",
    "\n",
    "\n",
    "y_true = np.argmax(testing_labels, axis = -1)\n",
    "y_pred = predictions\n",
    "\n",
    "acc = accuracy_score(y_true, y_pred)\n",
    "print(acc)\n",
    "\n",
    "f1 = f1_score(y_true, y_pred, average='macro')\n",
    "print(f1)\n",
    "\n",
    "cm = confusion_matrix(y_true, y_pred)\n",
    "print(\"Confusion matrix:\\n\", cm)\n",
    "\n",
    "classification = classification_report(y_true, y_pred)\n",
    "print(classification)"
   ]
  },
  {
   "cell_type": "markdown",
   "metadata": {},
   "source": [
    "The results displayed above showcase the application of the GRU model on the tokenized data. The tokenizer filters punctuation and converts the text to lower case. These results showcase the models performance, achieving an accuracy of 59.22% and an F1-score of 0.4022. The class with the highest precision was 0 at 79% meaning out of all samples the model predicted 0, 79% of them were actually 0. On the other hand, class 10 has a precision of 0. recall for class 9 is low at 2% meaning only 2% of the samples belonging to class 9 were correctly classified. classes 9 and 10 had low F1-scores again whilst classes 0, 1 and 13 had the highest F1-scores.  \n",
    "It is important to note that this version of the GRU model was able to achieve the best results in experiment 2. Whilst the 4th variation performed better with regards to the accuracy metric, This variation scored a better F1-score, therefore, due to the nature of the dataset the F1-score is regarded the more important metric. "
   ]
  },
  {
   "cell_type": "markdown",
   "metadata": {},
   "source": [
    "## Variation 2\n",
    "**Cleaning and tokenizing data**"
   ]
  },
  {
   "cell_type": "code",
   "execution_count": 53,
   "metadata": {
    "execution": {
     "iopub.execute_input": "2023-04-23T21:38:26.796091Z",
     "iopub.status.busy": "2023-04-23T21:38:26.795684Z",
     "iopub.status.idle": "2023-04-23T21:38:29.167405Z",
     "shell.execute_reply": "2023-04-23T21:38:29.166245Z",
     "shell.execute_reply.started": "2023-04-23T21:38:26.796031Z"
    }
   },
   "outputs": [
    {
     "name": "stdout",
     "output_type": "stream",
     "text": [
      "170/170 [==============================] - 2s 5ms/step\n",
      "\n",
      "\n",
      "\n",
      "\n",
      "\n",
      "\n",
      "\n",
      "0.5795098581168233\n",
      "\n",
      "\n",
      "\n",
      "\n",
      "\n",
      "\n",
      "\n",
      "0.37214063640919115\n",
      "\n",
      "\n",
      "\n",
      "\n",
      "\n",
      "\n",
      "\n",
      "Confusion matrix:\n",
      "\n",
      "\n",
      "\n",
      "\n",
      "\n",
      "\n",
      "\n",
      " [[ 967   49   64    2    2    0    1    4   10    0    0    2    2  259]\n",
      "\n",
      "\n",
      "\n",
      "\n",
      "\n",
      "\n",
      "\n",
      " [  55  283   18    0    1    0    0    0    0    0    0    1    3   66]\n",
      "\n",
      "\n",
      "\n",
      "\n",
      "\n",
      "\n",
      "\n",
      " [  44   24  420    1    2    0    0    5    2    0    0   14    2  272]\n",
      "\n",
      "\n",
      "\n",
      "\n",
      "\n",
      "\n",
      "\n",
      " [   8    6   15   18    0    0    0    1    4    0    0    2    0   47]\n",
      "\n",
      "\n",
      "\n",
      "\n",
      "\n",
      "\n",
      "\n",
      " [   6    3   22    1   14    1    0    0    0    0    0    4    2   77]\n",
      "\n",
      "\n",
      "\n",
      "\n",
      "\n",
      "\n",
      "\n",
      " [  26    5   19    2    2   13    1    2    2    0    0    2    8  139]\n",
      "\n",
      "\n",
      "\n",
      "\n",
      "\n",
      "\n",
      "\n",
      " [  10    3    2    2    0    0   12    0    4    0    0    2    0   33]\n",
      "\n",
      "\n",
      "\n",
      "\n",
      "\n",
      "\n",
      "\n",
      " [   3    1   24    2    0    0    0   45    0    0    0    2    1   12]\n",
      "\n",
      "\n",
      "\n",
      "\n",
      "\n",
      "\n",
      "\n",
      " [  22    7    4    1    0    0    3    0   50    0    0    1    1   32]\n",
      "\n",
      "\n",
      "\n",
      "\n",
      "\n",
      "\n",
      "\n",
      " [  12    6    9    0    0    2    2    0    0    0    0    6   10   65]\n",
      "\n",
      "\n",
      "\n",
      "\n",
      "\n",
      "\n",
      "\n",
      " [   1    1    1    0    0    0    0    1    0    0    0    1    0    2]\n",
      "\n",
      "\n",
      "\n",
      "\n",
      "\n",
      "\n",
      "\n",
      " [  20   13   53    1    0    1    1    2    4    0    0  124    2   83]\n",
      "\n",
      "\n",
      "\n",
      "\n",
      "\n",
      "\n",
      "\n",
      " [   6    8   17    0    0    1    0    0    0    0    0    0   25   35]\n",
      "\n",
      "\n",
      "\n",
      "\n",
      "\n",
      "\n",
      "\n",
      " [ 133   40  209    9    5    5    4    5    2    0    0   18    2 1174]]\n"
     ]
    }
   ],
   "source": [
    "pred_clean_text = model.predict(testing_padded)\n",
    "predictions_text = np.argmax(pred_clean_text, axis = -1)\n",
    "\n",
    "\n",
    "y_true = np.argmax(testing_labels, axis = -1)\n",
    "y_pred = predictions_text\n",
    "\n",
    "\n",
    "acc_clean = accuracy_score(y_true, y_pred)\n",
    "print(acc_clean)\n",
    "\n",
    "f1_clean = f1_score(y_true, y_pred, average='macro')\n",
    "print(f1_clean)\n",
    "\n",
    "cm_clean = confusion_matrix(y_true, y_pred)\n",
    "print(\"Confusion matrix:\\n\", cm_clean)\n"
   ]
  },
  {
   "cell_type": "code",
   "execution_count": 41,
   "metadata": {
    "execution": {
     "iopub.execute_input": "2023-04-24T20:59:10.143996Z",
     "iopub.status.busy": "2023-04-24T20:59:10.142833Z",
     "iopub.status.idle": "2023-04-24T20:59:10.167302Z",
     "shell.execute_reply": "2023-04-24T20:59:10.165877Z",
     "shell.execute_reply.started": "2023-04-24T20:59:10.143950Z"
    }
   },
   "outputs": [
    {
     "name": "stdout",
     "output_type": "stream",
     "text": [
      "              precision    recall  f1-score   support\n",
      "\n",
      "           0       0.71      0.74      0.72      1362\n",
      "           1       0.66      0.68      0.67       427\n",
      "           2       0.57      0.42      0.49       786\n",
      "           3       0.38      0.14      0.20       101\n",
      "           4       0.41      0.12      0.18       130\n",
      "           5       0.50      0.04      0.08       221\n",
      "           6       0.57      0.12      0.20        68\n",
      "           7       0.64      0.52      0.57        90\n",
      "           8       0.55      0.35      0.42       121\n",
      "           9       0.00      0.00      0.00       112\n",
      "          10       0.00      0.00      0.00         7\n",
      "          11       0.53      0.51      0.52       304\n",
      "          12       0.41      0.30      0.35        92\n",
      "          13       0.52      0.76      0.62      1606\n",
      "\n",
      "    accuracy                           0.58      5427\n",
      "   macro avg       0.46      0.34      0.36      5427\n",
      "weighted avg       0.57      0.58      0.55      5427\n",
      "\n"
     ]
    },
    {
     "name": "stderr",
     "output_type": "stream",
     "text": [
      "/opt/conda/lib/python3.7/site-packages/sklearn/metrics/_classification.py:1318: UndefinedMetricWarning: Precision and F-score are ill-defined and being set to 0.0 in labels with no predicted samples. Use `zero_division` parameter to control this behavior.\n",
      "  _warn_prf(average, modifier, msg_start, len(result))\n",
      "/opt/conda/lib/python3.7/site-packages/sklearn/metrics/_classification.py:1318: UndefinedMetricWarning: Precision and F-score are ill-defined and being set to 0.0 in labels with no predicted samples. Use `zero_division` parameter to control this behavior.\n",
      "  _warn_prf(average, modifier, msg_start, len(result))\n",
      "/opt/conda/lib/python3.7/site-packages/sklearn/metrics/_classification.py:1318: UndefinedMetricWarning: Precision and F-score are ill-defined and being set to 0.0 in labels with no predicted samples. Use `zero_division` parameter to control this behavior.\n",
      "  _warn_prf(average, modifier, msg_start, len(result))\n"
     ]
    }
   ],
   "source": [
    "classification = classification_report(y_true, y_pred)\n",
    "print(classification)"
   ]
  },
  {
   "cell_type": "markdown",
   "metadata": {},
   "source": [
    "The results displayed above showcase the application of the GRU model on the tokenized data after cleaning text. the clean text function removes stop words, converts the text to lower-case and removes punctuation in the text. an accuracy of 57.95% and F1-score of 0.3721 was achieved. The results of the confusion matrix is simiar to the previous GRU variation described. These results show that the application of the clean text function has slightly decreased the performance of the GRU model in comparison to only tokenizing the data. The weighted avergage score of 0.55 indicates that the model is better at classifying some classes to others, this was also the case with the previous GRU variation."
   ]
  },
  {
   "cell_type": "markdown",
   "metadata": {},
   "source": [
    "## Variation 3\n",
    "**Stemming and tokenizing data**"
   ]
  },
  {
   "cell_type": "code",
   "execution_count": 92,
   "metadata": {
    "execution": {
     "iopub.execute_input": "2023-04-23T21:43:08.629860Z",
     "iopub.status.busy": "2023-04-23T21:43:08.629560Z",
     "iopub.status.idle": "2023-04-23T21:44:02.304157Z",
     "shell.execute_reply": "2023-04-23T21:44:02.302780Z",
     "shell.execute_reply.started": "2023-04-23T21:43:08.629831Z"
    }
   },
   "outputs": [
    {
     "name": "stdout",
     "output_type": "stream",
     "text": [
      "170/170 [==============================] - 2s 5ms/step\n",
      "\n",
      "\n",
      "\n",
      "\n",
      "\n",
      "\n",
      "\n",
      "0.583932190897365\n",
      "\n",
      "\n",
      "\n",
      "\n",
      "\n",
      "\n",
      "\n",
      "0.3763341105372289\n",
      "\n",
      "\n",
      "\n",
      "\n",
      "\n",
      "\n",
      "\n",
      "Confusion matrix:\n",
      "\n",
      "\n",
      "\n",
      "\n",
      "\n",
      "\n",
      "\n",
      " [[ 993   47   67    5    5    4    0    1   14    0    0    4    6  216]\n",
      "\n",
      "\n",
      "\n",
      "\n",
      "\n",
      "\n",
      "\n",
      " [  60  282    9    0    1    5    0    0    2    0    0    2    3   63]\n",
      "\n",
      "\n",
      "\n",
      "\n",
      "\n",
      "\n",
      "\n",
      " [  52   24  421    1    9    3    0    4    2    0    0   15    1  254]\n",
      "\n",
      "\n",
      "\n",
      "\n",
      "\n",
      "\n",
      "\n",
      " [  15    5    8   17    1    0    0    1    6    0    0    1    0   47]\n",
      "\n",
      "\n",
      "\n",
      "\n",
      "\n",
      "\n",
      "\n",
      " [   8    3   21    1   22   17    0    0    1    0    0    3    1   53]\n",
      "\n",
      "\n",
      "\n",
      "\n",
      "\n",
      "\n",
      "\n",
      " [  17    6   15    0    7   38    0    3    5    0    0    5    5  120]\n",
      "\n",
      "\n",
      "\n",
      "\n",
      "\n",
      "\n",
      "\n",
      " [  14    6   11    1    0    0    7    0    5    0    0    2    0   22]\n",
      "\n",
      "\n",
      "\n",
      "\n",
      "\n",
      "\n",
      "\n",
      " [   3    1   20    1    1    0    0   44    0    0    0    5    0   15]\n",
      "\n",
      "\n",
      "\n",
      "\n",
      "\n",
      "\n",
      "\n",
      " [  21    4    4    5    0    0    3    0   53    0    0    1    0   30]\n",
      "\n",
      "\n",
      "\n",
      "\n",
      "\n",
      "\n",
      "\n",
      " [  18    8   16    0    1    0    0    0    0    2    0    9    9   49]\n",
      "\n",
      "\n",
      "\n",
      "\n",
      "\n",
      "\n",
      "\n",
      " [   2    1    2    0    0    0    0    0    0    0    0    1    0    1]\n",
      "\n",
      "\n",
      "\n",
      "\n",
      "\n",
      "\n",
      "\n",
      " [  20   10   59    1    4    3    1    3    3    0    0  118    3   79]\n",
      "\n",
      "\n",
      "\n",
      "\n",
      "\n",
      "\n",
      "\n",
      " [   7   11   21    0    1    2    0    0    0    0    0    2   22   26]\n",
      "\n",
      "\n",
      "\n",
      "\n",
      "\n",
      "\n",
      "\n",
      " [ 148   39  192    8    5   26    2    5    3    0    0   21    7 1150]]\n"
     ]
    }
   ],
   "source": [
    "pred_stem = model.predict(testing_padded)\n",
    "predictions_stem = np.argmax(pred_stem, axis = -1)\n",
    "\n",
    "y_true = np.argmax(testing_labels, axis = -1)\n",
    "y_pred = predictions_stem\n",
    "\n",
    "acc_stem = accuracy_score(y_true, y_pred)\n",
    "print(acc_stem)\n",
    "f1_stem = f1_score(y_true, y_pred, average='macro')\n",
    "print(f1_stem)\n",
    "cm_stem = confusion_matrix(y_true, y_pred)\n",
    "print(\"Confusion matrix:\\n\", cm_stem)"
   ]
  },
  {
   "cell_type": "code",
   "execution_count": 82,
   "metadata": {
    "execution": {
     "iopub.execute_input": "2023-04-24T21:05:21.238736Z",
     "iopub.status.busy": "2023-04-24T21:05:21.238134Z",
     "iopub.status.idle": "2023-04-24T21:05:23.492915Z",
     "shell.execute_reply": "2023-04-24T21:05:23.490970Z",
     "shell.execute_reply.started": "2023-04-24T21:05:21.238692Z"
    }
   },
   "outputs": [
    {
     "name": "stdout",
     "output_type": "stream",
     "text": [
      "170/170 [==============================] - 2s 5ms/step\n",
      "              precision    recall  f1-score   support\n",
      "\n",
      "           0       0.62      0.78      0.69      1362\n",
      "           1       0.65      0.62      0.64       427\n",
      "           2       0.63      0.38      0.48       786\n",
      "           3       0.36      0.12      0.18       101\n",
      "           4       0.47      0.11      0.18       130\n",
      "           5       0.37      0.26      0.30       221\n",
      "           6       0.55      0.16      0.25        68\n",
      "           7       0.68      0.54      0.60        90\n",
      "           8       0.54      0.40      0.46       121\n",
      "           9       1.00      0.04      0.07       112\n",
      "          10       0.00      0.00      0.00         7\n",
      "          11       0.67      0.38      0.48       304\n",
      "          12       0.51      0.24      0.33        92\n",
      "          13       0.52      0.73      0.61      1606\n",
      "\n",
      "    accuracy                           0.58      5427\n",
      "   macro avg       0.54      0.34      0.38      5427\n",
      "weighted avg       0.58      0.58      0.55      5427\n",
      "\n"
     ]
    },
    {
     "name": "stderr",
     "output_type": "stream",
     "text": [
      "/opt/conda/lib/python3.7/site-packages/sklearn/metrics/_classification.py:1318: UndefinedMetricWarning: Precision and F-score are ill-defined and being set to 0.0 in labels with no predicted samples. Use `zero_division` parameter to control this behavior.\n",
      "  _warn_prf(average, modifier, msg_start, len(result))\n",
      "/opt/conda/lib/python3.7/site-packages/sklearn/metrics/_classification.py:1318: UndefinedMetricWarning: Precision and F-score are ill-defined and being set to 0.0 in labels with no predicted samples. Use `zero_division` parameter to control this behavior.\n",
      "  _warn_prf(average, modifier, msg_start, len(result))\n",
      "/opt/conda/lib/python3.7/site-packages/sklearn/metrics/_classification.py:1318: UndefinedMetricWarning: Precision and F-score are ill-defined and being set to 0.0 in labels with no predicted samples. Use `zero_division` parameter to control this behavior.\n",
      "  _warn_prf(average, modifier, msg_start, len(result))\n"
     ]
    }
   ],
   "source": [
    "classification_stem = classification_report(y_true, y_pred)\n",
    "print(classification_stem)"
   ]
  },
  {
   "cell_type": "markdown",
   "metadata": {},
   "source": [
    "The results displayed above showcase the application of the GRU model on the tokenized data after stemming. Stemming is the process of reducing words to their base form to reduce the size of the vocabulary. An accuracy of 58.39% and F1-score of 0.3763 was achieved. The results of the confusion matrix is simiar to the previous GRU variation described. These results show that the application of the stemming function has slightly increased the performance of the GRU model in comparison to cleaning the text, however, it still was unable to outperform the results when only tokenizing the data. similarly to previous variations the model classified classes 0,1 and 13 but struggled with 3,4,5,6,8,12 and especially 9&10."
   ]
  },
  {
   "cell_type": "markdown",
   "metadata": {},
   "source": [
    "## Variation 4\n",
    "**Cleaning, stemming and tokenizing data**"
   ]
  },
  {
   "cell_type": "code",
   "execution_count": 30,
   "metadata": {
    "execution": {
     "iopub.execute_input": "2023-04-24T16:22:30.501253Z",
     "iopub.status.busy": "2023-04-24T16:22:30.500467Z",
     "iopub.status.idle": "2023-04-24T16:23:04.969864Z",
     "shell.execute_reply": "2023-04-24T16:23:04.968588Z",
     "shell.execute_reply.started": "2023-04-24T16:22:30.501213Z"
    }
   },
   "outputs": [
    {
     "name": "stdout",
     "output_type": "stream",
     "text": [
      "170/170 [==============================] - 2s 5ms/step\n",
      "\n",
      "0.5931453841901603\n",
      "\n",
      "0.3895208916995369\n",
      "\n",
      "Confusion matrix:\n",
      "\n",
      " [[ 985   37   43    4    3    1    1    6   18    0    0   16    9  239]\n",
      "\n",
      " [  58  285    9    0    0    0    0    1    0    0    0    3    5   66]\n",
      "\n",
      " [  53   20  345    1    3    0    0    8    2    1    0   31    6  316]\n",
      "\n",
      " [  10    5   12   18    1    0    0    1    7    1    0    5    0   41]\n",
      "\n",
      " [   7    4    8    2   21    0    0    0    0    0    0    6    2   80]\n",
      "\n",
      " [  29    2    9    2    3   10    1    3    3    0    0    7    9  143]\n",
      "\n",
      " [  10    3    2    3    0    0   12    0    5    0    0    2    0   31]\n",
      "\n",
      " [   1    0   14    4    0    0    0   48    0    0    0    4    0   19]\n",
      "\n",
      " [   9    6    2    3    0    0    3    0   61    0    0    1    1   35]\n",
      "\n",
      " [  10    7    5    2    0    1    0    0    0    8    0    6   12   61]\n",
      "\n",
      " [   0    1    1    1    0    0    0    1    0    0    0    1    0    2]\n",
      "\n",
      " [  18   11   24    4    1    0    0    2    6    0    0  143    3   92]\n",
      "\n",
      " [   8    2   13    0    2    0    0    0    0    1    0    0   30   36]\n",
      "\n",
      " [ 124   35  119   16    5    2    4    6    3    1    0   31    7 1253]]\n"
     ]
    }
   ],
   "source": [
    "pred_stem_clean = model.predict(testing_padded)\n",
    "predictions_stem_clean = np.argmax(pred_stem_clean, axis = -1)\n",
    "\n",
    "\n",
    "y_true = np.argmax(testing_labels, axis = -1)\n",
    "y_pred = predictions_stem_clean\n",
    "\n",
    "acc_stem_clean = accuracy_score(y_true, y_pred)\n",
    "print(acc_stem_clean)\n",
    "f1_stem_clean = f1_score(y_true, y_pred, average='macro')\n",
    "print(f1_stem_clean)\n",
    "cm_stem_clean = confusion_matrix(y_true, y_pred)\n",
    "print(\"Confusion matrix:\\n\", cm_stem_clean)"
   ]
  },
  {
   "cell_type": "code",
   "execution_count": 123,
   "metadata": {
    "execution": {
     "iopub.execute_input": "2023-04-24T21:09:56.651175Z",
     "iopub.status.busy": "2023-04-24T21:09:56.650474Z",
     "iopub.status.idle": "2023-04-24T21:10:03.668360Z",
     "shell.execute_reply": "2023-04-24T21:10:03.666975Z",
     "shell.execute_reply.started": "2023-04-24T21:09:56.651126Z"
    }
   },
   "outputs": [
    {
     "name": "stdout",
     "output_type": "stream",
     "text": [
      "170/170 [==============================] - 2s 5ms/step\n",
      "              precision    recall  f1-score   support\n",
      "\n",
      "           0       0.69      0.76      0.72      1362\n",
      "           1       0.67      0.68      0.68       427\n",
      "           2       0.55      0.47      0.51       786\n",
      "           3       0.32      0.12      0.17       101\n",
      "           4       0.44      0.22      0.29       130\n",
      "           5       0.62      0.04      0.07       221\n",
      "           6       0.61      0.21      0.31        68\n",
      "           7       0.68      0.54      0.60        90\n",
      "           8       0.65      0.35      0.45       121\n",
      "           9       0.80      0.04      0.07       112\n",
      "          10       0.00      0.00      0.00         7\n",
      "          11       0.57      0.50      0.53       304\n",
      "          12       0.38      0.27      0.32        92\n",
      "          13       0.53      0.73      0.61      1606\n",
      "\n",
      "    accuracy                           0.59      5427\n",
      "   macro avg       0.54      0.35      0.38      5427\n",
      "weighted avg       0.59      0.59      0.56      5427\n",
      "\n"
     ]
    },
    {
     "name": "stderr",
     "output_type": "stream",
     "text": [
      "/opt/conda/lib/python3.7/site-packages/sklearn/metrics/_classification.py:1318: UndefinedMetricWarning: Precision and F-score are ill-defined and being set to 0.0 in labels with no predicted samples. Use `zero_division` parameter to control this behavior.\n",
      "  _warn_prf(average, modifier, msg_start, len(result))\n",
      "/opt/conda/lib/python3.7/site-packages/sklearn/metrics/_classification.py:1318: UndefinedMetricWarning: Precision and F-score are ill-defined and being set to 0.0 in labels with no predicted samples. Use `zero_division` parameter to control this behavior.\n",
      "  _warn_prf(average, modifier, msg_start, len(result))\n",
      "/opt/conda/lib/python3.7/site-packages/sklearn/metrics/_classification.py:1318: UndefinedMetricWarning: Precision and F-score are ill-defined and being set to 0.0 in labels with no predicted samples. Use `zero_division` parameter to control this behavior.\n",
      "  _warn_prf(average, modifier, msg_start, len(result))\n"
     ]
    }
   ],
   "source": [
    "classification_stem_clean = classification_report(y_true, y_pred)\n",
    "print(classification_stem_clean)"
   ]
  },
  {
   "cell_type": "markdown",
   "metadata": {},
   "source": [
    "The results displayed above showcase the application of the GRU model on the tokenized data after cleaning and stemming the text. An accuracy of 59.31% and F1-score of 0.3895 was achieved. The results of the confusion matrix is simiar to the previous GRU variation described, however, it is important to note that this variation had the highest number of correctly classified texts belonging to label 9 which is the second most poorly classified class in the data. These results show that the application of the cleaning and stemming function has slightly increased the performance of the GRU model in comparison to just stemming the text, however, when it came to comparing this model to the first GRU variation which only tokenized the data; this variation performed better regarding accuracy, but the slight superior score of the first GRU variation with regards to the F1-score makes the first variation (only tokenizing) the best GRU variation in this experiment.  \n",
    "From the classification report we can summarize that classes 0,1,7,8,9,11 and 13 were correctly classified as their respective classes by the model (precision). the recall indicates the percentage of true positives correctly classified by the model and the model performed well with regards to recall for classes 0,1,11 and 13."
   ]
  },
  {
   "cell_type": "markdown",
   "metadata": {},
   "source": [
    "# Conclusion\n",
    "Overall from te GRU variations experimented with the first variation was the best performing. Whilst the final variation had a slightly higher accuracy, the superior F1-score of the first variation shows this was the better model considering the dataset and its class imbalance.  \n",
    "This showcases that the application of the clean text function or stemming alone is not likely to improve the performance of a GRU model, however, when both stemming and clean text functions are applied the model is able to achieve similar performance to just tokenizing the data so we can conclude that stemming and cleaning the text before feeding it to a GRU model may improve the results based on the task at hand, however, in this situation it was unable to cause an increase in the performance of the model."
   ]
  },
  {
   "cell_type": "markdown",
   "metadata": {},
   "source": [
    "# Experiment 3 & 4 pre-processing for transformers \n",
    "Here the data is tokenized using the tokenizers for each of the pre-trained transformers used (bert and deberta) depending on which transformer variation is attempting to be ran, uncomment the one being used and comment out the other tokenizer."
   ]
  },
  {
   "cell_type": "code",
   "execution_count": 176,
   "metadata": {
    "colab": {
     "base_uri": "https://localhost:8080/",
     "height": 145,
     "referenced_widgets": [
      "63d4cc30f459483a81c1f33f3e0916e4",
      "333ab068554d4eff987b1bf5572aa7db",
      "3e7f42b89d5c411b9a9f19092c27998f",
      "62edd64e1ed448c9850c25fe4212336b",
      "f432f4785cb74f9aa153d759c88cd089",
      "7bd7ea5bca714370b08023b884c76bc3",
      "edefaeadc2e54d7eba79a041b1ecc572",
      "8d3f4c7219a54935933df393e5ebb99a",
      "12e73f3ef53c417c83bf8f7f1e242aba",
      "5d112af8eeef44768b19456132b099e6",
      "b0f9e2692132427190070473347bf2d1",
      "a8e6e1f02ce64f9ca3d54a2bf8d3c6b7",
      "48a266999062488d909a5431cb816cd0",
      "9d8ff0d97f37418884421a07dae0d9cd",
      "453bd203a6724656b17bc18dca437fb7",
      "611ba3f864eb47ba84bfeee800ce2d64",
      "27a60e66c2c64aa5835a96f6c9b5113f",
      "3aa321f1414f498b97a4ee23b6ee6a08",
      "e6b6c98540f7422e9f4ffb4e39e602f6",
      "d10579686a4e4cbbaba6d1039b10bbe6",
      "c6289ab0690b4e05a11ccf4808502905",
      "00e5cb3adcef4f2dba1451661b5dc940",
      "d94dca68245e4e9f8ce2a006a9fab607",
      "6549262624b3497293754beba37c2ceb",
      "2d50d75659214474ac712fadb8d18369",
      "0b2776e138d8463a8344e72a1f366abb",
      "e80265f42c87458691ea762bf2f46ae4",
      "07d79734f25445fc9d850640a4d9e732",
      "07351e1db00b4d9c8177698d48e93e6b",
      "66735700c52c41cea743c2f465333a51",
      "d97079e1a98e407b9d3349f26747de38",
      "d6c80e0bdbc940e0a079d62c16757f11",
      "d594bb1653b94771a61a72e3d840cfaf",
      "50b36d19789e43379f9cadcff2d71441",
      "fc2e74b5aeca41a58b81ef74b6cc9f5f",
      "b2569719f6cb4908b5d9cdedbe8dffec",
      "0171c69a2e9548acb8b52c2dec99c091",
      "4993d7c571074b279e302fe778dca020",
      "62867bdfcd8142118c8ac7095c00584c",
      "a08ee8fa32bf4707a802639ef630cd35",
      "87958171b2384b8bba3136b91171e5d3",
      "c3f790d5572d4bc0acf01cc01d794d0c",
      "12ea55cd0e664840800f931f1190757a",
      "273fd5c3ac8a40749d753b1f4c67fb37"
     ]
    },
    "execution": {
     "iopub.execute_input": "2023-04-24T23:24:39.232168Z",
     "iopub.status.busy": "2023-04-24T23:24:39.231437Z",
     "iopub.status.idle": "2023-04-24T23:25:49.089237Z",
     "shell.execute_reply": "2023-04-24T23:25:49.087680Z",
     "shell.execute_reply.started": "2023-04-24T23:24:39.232117Z"
    },
    "id": "JwQWVVUuIGBC",
    "outputId": "6414db53-7f2d-42ce-ad1a-630aaaedcaa2"
   },
   "outputs": [
    {
     "data": {
      "application/vnd.jupyter.widget-view+json": {
       "model_id": "e762a3c9b37e4df197ccd865d930405a",
       "version_major": 2,
       "version_minor": 0
      },
      "text/plain": [
       "Downloading (…)olve/main/vocab.json:   0%|          | 0.00/899k [00:00<?, ?B/s]"
      ]
     },
     "metadata": {},
     "output_type": "display_data"
    },
    {
     "data": {
      "application/vnd.jupyter.widget-view+json": {
       "model_id": "9d862dbca0a345508013a2419a2b3395",
       "version_major": 2,
       "version_minor": 0
      },
      "text/plain": [
       "Downloading (…)olve/main/merges.txt:   0%|          | 0.00/456k [00:00<?, ?B/s]"
      ]
     },
     "metadata": {},
     "output_type": "display_data"
    },
    {
     "data": {
      "application/vnd.jupyter.widget-view+json": {
       "model_id": "f5170e64d0804369a2b4d1a4d27c7199",
       "version_major": 2,
       "version_minor": 0
      },
      "text/plain": [
       "Downloading (…)okenizer_config.json:   0%|          | 0.00/52.0 [00:00<?, ?B/s]"
      ]
     },
     "metadata": {},
     "output_type": "display_data"
    },
    {
     "data": {
      "application/vnd.jupyter.widget-view+json": {
       "model_id": "d58aee52e1a44a89a740433f2d114c33",
       "version_major": 2,
       "version_minor": 0
      },
      "text/plain": [
       "Downloading (…)lve/main/config.json:   0%|          | 0.00/474 [00:00<?, ?B/s]"
      ]
     },
     "metadata": {},
     "output_type": "display_data"
    }
   ],
   "source": [
    "\n",
    "#tokenizer = DebertaTokenizer.from_pretrained(\"microsoft/deberta-base\")\n",
    "\n",
    "tokenizer = AutoTokenizer.from_pretrained('bert-base-uncased')\n",
    "\n",
    "MAX_LEN = 33\n",
    "#MAX_LEN = 128"
   ]
  },
  {
   "cell_type": "code",
   "execution_count": 177,
   "metadata": {
    "execution": {
     "iopub.execute_input": "2023-04-24T23:25:49.093301Z",
     "iopub.status.busy": "2023-04-24T23:25:49.092578Z",
     "iopub.status.idle": "2023-04-24T23:25:58.950527Z",
     "shell.execute_reply": "2023-04-24T23:25:58.949412Z",
     "shell.execute_reply.started": "2023-04-24T23:25:49.093253Z"
    },
    "id": "Wswk6mAxIbvb"
   },
   "outputs": [],
   "source": [
    "X_train = dataset['train']['text']\n",
    "X_test = dataset['test']['text']\n",
    "\n",
    "X_train_bert = encode(X_train, tokenizer)\n",
    "X_test_bert = encode(X_test, tokenizer)\n",
    "\n",
    "y_train_bert = np.asarray(y_train_bert, dtype='int32')\n",
    "y_test_bert = np.asarray(y_test_bert, dtype='int32')"
   ]
  },
  {
   "cell_type": "code",
   "execution_count": 178,
   "metadata": {
    "execution": {
     "iopub.execute_input": "2023-04-24T23:25:58.952157Z",
     "iopub.status.busy": "2023-04-24T23:25:58.951788Z",
     "iopub.status.idle": "2023-04-24T23:25:59.981166Z",
     "shell.execute_reply": "2023-04-24T23:25:59.979998Z",
     "shell.execute_reply.started": "2023-04-24T23:25:58.952119Z"
    },
    "id": "m6Ghil5yDyHI"
   },
   "outputs": [],
   "source": [
    "y_valid_bert = np.asarray(dataset['validation']['labels'], dtype='int32')\n",
    "\n",
    "X_valid = dataset['validation']['text']\n",
    "X_valid_bert = encode(X_valid, tokenizer)\n",
    "y_valid_bert = np.asarray(y_valid_bert, dtype='int32')"
   ]
  },
  {
   "cell_type": "markdown",
   "metadata": {},
   "source": [
    "# Bert Transformer Model Experiment 3 \n",
    "The Bert transformer model will be applied to the data to investigate it's performance. The bert model is a transformer architecture that processes input sequences by encoding and decoding them using attention mechanisms. This gives them the ability to capture long-range dependecies in the input sequence in comparison to RNN structures such as LSTMs and GRUs.  \n",
    "Variations of the bert_base_uncased transformer model will be investigated. There will be 3 variations of this model investigated with sequence padding length of 33 (maximum number of words in trining set) when tokenizing and an application of one of these with a MAX_LEN for padding of 128 as this would take lots of time and computational power to train (~30 mins per epoch); for this reason for the final variation only the output of the evaluation cells have been included.  \n",
    "The three variations of the Bert model being investigated with MAX_LEN = 32 are as followed:  \n",
    "* bert-base-uncased pretrained transformer model followed by a GRU layer with 150 units, 0.5 Dropout layer, followed by a flatten layer which is followed by two dense layers. These include two fully connected dense layers, with the first layer having 256 units and ReLU activation function, and the second layer having n_categories units which is set to 14 and sigmoid activation function, which outputs a probability for each class. The model is trained with the Adam optimizer with a learning rate of 1e-5 and categorical cross-entropy loss function. \n",
    "* The second model is a very similar arhitecture to the first bert variation, with the only difference being the removal of the GRU layer from the model. Everything else is exactly the same as the first variation; this was done to observe the impact of adding additional RNNs to a pre-trained transformer model.\n",
    "* The third bert variation is similar to second variation with the only differences being a lower dropout rate of 0.3 and a lower learning rate of 3e-6. This variation was done to observe the difference the learning rate and dropout layers could make to this model.\n",
    "* Finally the 4th bert variation is the application of the third variation on data tokenized with MAX_LEN for padding sequence of 128. This model took around 30 minutes per epoch so only the results from this are available on this notebook.\n",
    "\n"
   ]
  },
  {
   "cell_type": "markdown",
   "metadata": {},
   "source": [
    "**Bert tokenized with MAX_LEN = 33**"
   ]
  },
  {
   "cell_type": "markdown",
   "metadata": {},
   "source": [
    "## Variation 1\n",
    "**bert with GRU and 1e-5 lr and 0.5 dropout**"
   ]
  },
  {
   "cell_type": "code",
   "execution_count": 127,
   "metadata": {
    "execution": {
     "iopub.execute_input": "2023-04-24T21:11:58.322123Z",
     "iopub.status.busy": "2023-04-24T21:11:58.320905Z",
     "iopub.status.idle": "2023-04-24T21:11:58.333448Z",
     "shell.execute_reply": "2023-04-24T21:11:58.332505Z",
     "shell.execute_reply.started": "2023-04-24T21:11:58.322069Z"
    }
   },
   "outputs": [],
   "source": [
    "def build_model(n_categories):\n",
    "\n",
    "    input_word_ids = tf.keras.Input(shape=(MAX_LEN,), dtype=tf.int32, name='input_word_ids')\n",
    "    input_mask = tf.keras.Input(shape=(MAX_LEN,), dtype=tf.int32, name='input_mask')\n",
    "    input_type_ids = tf.keras.Input(shape=(MAX_LEN,), dtype=tf.int32, name='input_type_ids')\n",
    "\n",
    "\n",
    "    # Import transformer model from HuggingFace\n",
    "\n",
    "    #transformer_model = TFAutoModelForSequenceClassification.from_pretrained(\"microsoft/deberta-base\", num_labels=n_categories, problem_type=\"multi_label_classification\")\n",
    "    transformer_model = TFAutoModel.from_pretrained('bert-base-uncased', num_labels=n_categories)\n",
    "\n",
    "    \n",
    "    x = transformer_model(input_word_ids, attention_mask=input_mask, token_type_ids=input_type_ids)\n",
    "\n",
    "    # Huggingface transformers have multiple outputs, embeddings are the first one,\n",
    "    # so let's slice out the first position\n",
    "    x = x[0]\n",
    "    x = tf.keras.layers.GRU(150)(x)\n",
    "    x = tf.keras.layers.Dropout(0.5)(x)\n",
    "    x = tf.keras.layers.Flatten()(x)\n",
    "    x = tf.keras.layers.Dense(256, activation='relu')(x)\n",
    "    x = tf.keras.layers.Dense(n_categories, activation='sigmoid')(x)\n",
    "\n",
    "    model = tf.keras.Model(inputs=[input_word_ids, input_mask, input_type_ids], outputs=x)\n",
    "    model.compile(\n",
    "        optimizer=tf.keras.optimizers.Adam(learning_rate=1e-5),\n",
    "        loss='categorical_crossentropy',\n",
    "        metrics=['accuracy'])\n",
    "\n",
    "    return model"
   ]
  },
  {
   "cell_type": "code",
   "execution_count": null,
   "metadata": {
    "execution": {
     "iopub.execute_input": "2023-04-24T21:12:01.043628Z",
     "iopub.status.busy": "2023-04-24T21:12:01.042930Z",
     "iopub.status.idle": "2023-04-24T21:12:30.200694Z",
     "shell.execute_reply": "2023-04-24T21:12:30.199601Z",
     "shell.execute_reply.started": "2023-04-24T21:12:01.043587Z"
    }
   },
   "outputs": [],
   "source": [
    "model = build_model(14)"
   ]
  },
  {
   "cell_type": "code",
   "execution_count": 129,
   "metadata": {
    "execution": {
     "iopub.execute_input": "2023-04-24T21:12:30.203415Z",
     "iopub.status.busy": "2023-04-24T21:12:30.202774Z",
     "iopub.status.idle": "2023-04-24T21:42:20.008971Z",
     "shell.execute_reply": "2023-04-24T21:42:20.007912Z",
     "shell.execute_reply.started": "2023-04-24T21:12:30.203372Z"
    }
   },
   "outputs": [
    {
     "name": "stdout",
     "output_type": "stream",
     "text": [
      "Epoch 1/10\n",
      "1357/1357 [==============================] - 403s 262ms/step - loss: 1.5011 - accuracy: 0.5348 - val_loss: 1.1530 - val_accuracy: 0.6307\n",
      "Epoch 2/10\n",
      "1357/1357 [==============================] - 349s 257ms/step - loss: 1.1502 - accuracy: 0.6360 - val_loss: 1.1000 - val_accuracy: 0.6395\n",
      "Epoch 3/10\n",
      "1357/1357 [==============================] - 348s 256ms/step - loss: 1.0236 - accuracy: 0.6706 - val_loss: 1.1048 - val_accuracy: 0.6353\n",
      "Epoch 4/10\n",
      "1357/1357 [==============================] - 348s 256ms/step - loss: 0.9187 - accuracy: 0.7033 - val_loss: 1.1155 - val_accuracy: 0.6447\n",
      "Epoch 5/10\n",
      "1357/1357 [==============================] - 342s 252ms/step - loss: 0.8082 - accuracy: 0.7419 - val_loss: 1.1681 - val_accuracy: 0.6364\n"
     ]
    }
   ],
   "source": [
    "#bert\n",
    "history = model.fit(X_train_bert,\n",
    "                    y_train_bert,\n",
    "                    epochs = 10,\n",
    "                    batch_size=32,\n",
    "                    verbose=1,\n",
    "                    validation_data=(X_valid_bert, y_valid_bert),\n",
    "                    callbacks=[early_stopping]\n",
    "                    )"
   ]
  },
  {
   "cell_type": "code",
   "execution_count": 130,
   "metadata": {
    "execution": {
     "iopub.execute_input": "2023-04-24T21:42:20.016127Z",
     "iopub.status.busy": "2023-04-24T21:42:20.013797Z",
     "iopub.status.idle": "2023-04-24T21:42:44.207694Z",
     "shell.execute_reply": "2023-04-24T21:42:44.206483Z",
     "shell.execute_reply.started": "2023-04-24T21:42:20.016084Z"
    }
   },
   "outputs": [
    {
     "name": "stdout",
     "output_type": "stream",
     "text": [
      "170/170 [==============================] - 17s 82ms/step\n",
      "0.6408697254468398\n",
      "0.4731177442027113\n",
      "Confusion matrix:\n",
      " [[1054   51   45    6    0    0    1    2   19    0    0   11    6  167]\n",
      " [  51  313    5    0    2    4    1    2    7    0    0    1    7   34]\n",
      " [  27   18  501    1    8    3    0    7    3    0    0   28    5  185]\n",
      " [  10    4    6   25    1    0    2    1    8    0    0    3    0   41]\n",
      " [   5    3   17    1   42   18    0    0    0    0    0    2    2   40]\n",
      " [  16    3   14    1    5   70    0    3    3    0    0    5   10   91]\n",
      " [   5    3    3    0    0    0   33    1    5    0    0    4    0   14]\n",
      " [   2    0   14    2    0    0    0   51    0    0    0    8    1   12]\n",
      " [  10    7    0    2    0    1    4    0   67    0    0    1    1   28]\n",
      " [  11    9   10    0    1    0    0    0    0    4    0    7   10   60]\n",
      " [   3    1    0    1    0    0    0    0    0    0    0    1    0    1]\n",
      " [   8    3   53    1    4    3    3    3    4    0    0  161    3   58]\n",
      " [  10    3   14    0    2    4    0    1    0    0    0    1   41   16]\n",
      " [ 130   42  181   11   15   41   10    3    7    2    0   37   11 1116]]\n",
      "              precision    recall  f1-score   support\n",
      "\n",
      "           0       0.79      0.77      0.78      1362\n",
      "           1       0.68      0.73      0.71       427\n",
      "           2       0.58      0.64      0.61       786\n",
      "           3       0.49      0.25      0.33       101\n",
      "           4       0.53      0.32      0.40       130\n",
      "           5       0.49      0.32      0.38       221\n",
      "           6       0.61      0.49      0.54        68\n",
      "           7       0.69      0.57      0.62        90\n",
      "           8       0.54      0.55      0.55       121\n",
      "           9       0.67      0.04      0.07       112\n",
      "          10       0.00      0.00      0.00         7\n",
      "          11       0.60      0.53      0.56       304\n",
      "          12       0.42      0.45      0.43        92\n",
      "          13       0.60      0.69      0.64      1606\n",
      "\n",
      "    accuracy                           0.64      5427\n",
      "   macro avg       0.55      0.45      0.47      5427\n",
      "weighted avg       0.64      0.64      0.63      5427\n",
      "\n"
     ]
    },
    {
     "name": "stderr",
     "output_type": "stream",
     "text": [
      "/opt/conda/lib/python3.7/site-packages/sklearn/metrics/_classification.py:1318: UndefinedMetricWarning: Precision and F-score are ill-defined and being set to 0.0 in labels with no predicted samples. Use `zero_division` parameter to control this behavior.\n",
      "  _warn_prf(average, modifier, msg_start, len(result))\n",
      "/opt/conda/lib/python3.7/site-packages/sklearn/metrics/_classification.py:1318: UndefinedMetricWarning: Precision and F-score are ill-defined and being set to 0.0 in labels with no predicted samples. Use `zero_division` parameter to control this behavior.\n",
      "  _warn_prf(average, modifier, msg_start, len(result))\n",
      "/opt/conda/lib/python3.7/site-packages/sklearn/metrics/_classification.py:1318: UndefinedMetricWarning: Precision and F-score are ill-defined and being set to 0.0 in labels with no predicted samples. Use `zero_division` parameter to control this behavior.\n",
      "  _warn_prf(average, modifier, msg_start, len(result))\n"
     ]
    }
   ],
   "source": [
    "pred_bert_lr_GRU = model.predict(X_test_bert)\n",
    "predictions_bert_lr_GRU = np.argmax(pred_bert_lr_GRU, axis = -1)\n",
    "\n",
    "\n",
    "y_true = np.argmax(y_test_bert, axis = -1)\n",
    "y_pred = predictions_bert_lr_GRU\n",
    "\n",
    "acc_bert_lr_GRU = accuracy_score(y_true, y_pred)\n",
    "print(acc_bert_lr_GRU)\n",
    "f1_bert_lr_GRU = f1_score(y_true, y_pred, average='macro')\n",
    "print(f1_bert_lr_GRU)\n",
    "cm_bert_lr_GRU = confusion_matrix(y_true, y_pred)\n",
    "print(\"Confusion matrix:\\n\", cm_bert_lr_GRU)\n",
    "\n",
    "classification_bert_lr_GRU = classification_report(y_true, y_pred)\n",
    "print(classification_bert_lr_GRU)"
   ]
  },
  {
   "cell_type": "markdown",
   "metadata": {},
   "source": [
    "The bert-GRU variation was able to achieve an accuracy of 64.09% and an F1-score of 0.4731 which is significantly an improvement on experiments 1&2. The only label in which this model was unable to correctly classify any instances of is label 10, however, this is somewhat expected as there are only 7 instances of this label in the whole of the test set. As expected the usage of the BERT model has increased the performance significantly as even though 64% may not seem eextremly high, it is a very good score when considering the task at hand, other benchmark results and the quality of the dataset. Similarly to other models the BERT model also managed to classify labels 0,1,2,11&13 as well as label 5. The macro average f1-score of 0.47 indicates uneven performance among classes and with this considered, the weighted average f1-score of 0.63 indicates the model's performance is reasonable but influenced by the class imbalance."
   ]
  },
  {
   "cell_type": "markdown",
   "metadata": {},
   "source": [
    "## Variation 2\n",
    "**bert with 1e-5 lr and 0.5 dropout**"
   ]
  },
  {
   "cell_type": "code",
   "execution_count": 132,
   "metadata": {
    "execution": {
     "iopub.execute_input": "2023-04-24T21:49:47.884632Z",
     "iopub.status.busy": "2023-04-24T21:49:47.884253Z",
     "iopub.status.idle": "2023-04-24T21:49:47.895880Z",
     "shell.execute_reply": "2023-04-24T21:49:47.894705Z",
     "shell.execute_reply.started": "2023-04-24T21:49:47.884597Z"
    }
   },
   "outputs": [],
   "source": [
    "def build_model(n_categories):\n",
    "\n",
    "    input_word_ids = tf.keras.Input(shape=(MAX_LEN,), dtype=tf.int32, name='input_word_ids')\n",
    "    input_mask = tf.keras.Input(shape=(MAX_LEN,), dtype=tf.int32, name='input_mask')\n",
    "    input_type_ids = tf.keras.Input(shape=(MAX_LEN,), dtype=tf.int32, name='input_type_ids')\n",
    "\n",
    "\n",
    "    # Import transformer model from HuggingFace\n",
    "\n",
    "    #transformer_model = TFAutoModelForSequenceClassification.from_pretrained(\"microsoft/deberta-base\", num_labels=n_categories, problem_type=\"multi_label_classification\")\n",
    "    transformer_model = TFAutoModel.from_pretrained('bert-base-uncased', num_labels=n_categories)\n",
    "\n",
    "    \n",
    "    x = transformer_model(input_word_ids, attention_mask=input_mask, token_type_ids=input_type_ids)\n",
    "\n",
    "    # Huggingface transformers have multiple outputs, embeddings are the first one,\n",
    "    # so let's slice out the first position\n",
    "    x = x[0]\n",
    "\n",
    "    x = tf.keras.layers.Dropout(0.5)(x)\n",
    "    x = tf.keras.layers.Flatten()(x)\n",
    "    x = tf.keras.layers.Dense(256, activation='relu')(x)\n",
    "    x = tf.keras.layers.Dense(n_categories, activation='sigmoid')(x)\n",
    "\n",
    "    model = tf.keras.Model(inputs=[input_word_ids, input_mask, input_type_ids], outputs=x)\n",
    "    model.compile(\n",
    "        optimizer=tf.keras.optimizers.Adam(learning_rate=1e-5),\n",
    "        loss='categorical_crossentropy',\n",
    "        metrics=['accuracy'])\n",
    "\n",
    "    return model"
   ]
  },
  {
   "cell_type": "code",
   "execution_count": 133,
   "metadata": {
    "execution": {
     "iopub.execute_input": "2023-04-24T21:49:53.370194Z",
     "iopub.status.busy": "2023-04-24T21:49:53.369558Z",
     "iopub.status.idle": "2023-04-24T22:25:22.217345Z",
     "shell.execute_reply": "2023-04-24T22:25:22.216182Z",
     "shell.execute_reply.started": "2023-04-24T21:49:53.370155Z"
    }
   },
   "outputs": [
    {
     "name": "stderr",
     "output_type": "stream",
     "text": [
      "Some layers from the model checkpoint at bert-base-uncased were not used when initializing TFBertModel: ['mlm___cls', 'nsp___cls']\n",
      "- This IS expected if you are initializing TFBertModel from the checkpoint of a model trained on another task or with another architecture (e.g. initializing a BertForSequenceClassification model from a BertForPreTraining model).\n",
      "- This IS NOT expected if you are initializing TFBertModel from the checkpoint of a model that you expect to be exactly identical (initializing a BertForSequenceClassification model from a BertForSequenceClassification model).\n",
      "All the layers of TFBertModel were initialized from the model checkpoint at bert-base-uncased.\n",
      "If your task is similar to the task the model of the checkpoint was trained on, you can already use TFBertModel for predictions without further training.\n"
     ]
    },
    {
     "name": "stdout",
     "output_type": "stream",
     "text": [
      "Epoch 1/10\n",
      "1357/1357 [==============================] - 400s 262ms/step - loss: 1.4012 - accuracy: 0.5400 - val_loss: 1.0970 - val_accuracy: 0.6310\n",
      "Epoch 2/10\n",
      "1357/1357 [==============================] - 346s 255ms/step - loss: 1.0619 - accuracy: 0.6368 - val_loss: 1.0614 - val_accuracy: 0.6379\n",
      "Epoch 3/10\n",
      "1357/1357 [==============================] - 346s 255ms/step - loss: 0.9467 - accuracy: 0.6735 - val_loss: 1.0503 - val_accuracy: 0.6379\n",
      "Epoch 4/10\n",
      "1357/1357 [==============================] - 345s 254ms/step - loss: 0.8348 - accuracy: 0.7074 - val_loss: 1.0839 - val_accuracy: 0.6338\n",
      "Epoch 5/10\n",
      "1357/1357 [==============================] - 344s 253ms/step - loss: 0.7156 - accuracy: 0.7480 - val_loss: 1.1501 - val_accuracy: 0.6275\n",
      "Epoch 6/10\n",
      "1357/1357 [==============================] - 337s 248ms/step - loss: 0.5874 - accuracy: 0.7918 - val_loss: 1.2957 - val_accuracy: 0.6100\n"
     ]
    }
   ],
   "source": [
    "#bert\n",
    "model = build_model(14)\n",
    "history = model.fit(X_train_bert,\n",
    "                    y_train_bert,\n",
    "                    epochs = 10,\n",
    "                    batch_size=32,\n",
    "                    verbose=1,\n",
    "                    validation_data=(X_valid_bert, y_valid_bert),\n",
    "                    callbacks=[early_stopping]\n",
    "                    )"
   ]
  },
  {
   "cell_type": "code",
   "execution_count": 134,
   "metadata": {
    "execution": {
     "iopub.execute_input": "2023-04-24T22:25:22.219649Z",
     "iopub.status.busy": "2023-04-24T22:25:22.219357Z",
     "iopub.status.idle": "2023-04-24T22:25:39.843119Z",
     "shell.execute_reply": "2023-04-24T22:25:39.841917Z",
     "shell.execute_reply.started": "2023-04-24T22:25:22.219619Z"
    }
   },
   "outputs": [
    {
     "name": "stdout",
     "output_type": "stream",
     "text": [
      "170/170 [==============================] - 17s 85ms/step\n",
      "0.630919476690621\n",
      "0.4861113476724421\n",
      "Confusion matrix:\n",
      " [[1103   38   39   16    9   11    0    4   22    1    0   13    4  102]\n",
      " [  59  292    8    1    5    9    2    2    7    2    0    1    9   30]\n",
      " [  38   13  479    7   33   14    0   10    3    2    0   26    6  155]\n",
      " [   9    3    3   49    0    0    1    1    7    0    0    3    0   25]\n",
      " [   4    2    7    1   77   19    0    0    0    1    0    3    2   14]\n",
      " [   7    1    5    1   76   94    0    3    3    0    0    5    3   23]\n",
      " [  11    4    5    1    0    0   24    1    7    0    0    4    0   11]\n",
      " [   1    0    8    4    1    2    0   60    0    0    0    7    1    6]\n",
      " [  13    4    1    9    0    1    4    0   61    0    0    4    2   22]\n",
      " [  18    6    9    1    2    2    0    0    0   16    0    7    9   42]\n",
      " [   3    1    0    1    0    0    0    0    0    0    0    1    0    1]\n",
      " [  11    4   44    4    8    6    0    4    2    1    0  172    4   44]\n",
      " [  11    1    9    0    5    5    0    2    0    2    0    2   45   10]\n",
      " [ 186   33  164   37   92   49    6    8    9   11    0   49   10  952]]\n",
      "              precision    recall  f1-score   support\n",
      "\n",
      "           0       0.75      0.81      0.78      1362\n",
      "           1       0.73      0.68      0.70       427\n",
      "           2       0.61      0.61      0.61       786\n",
      "           3       0.37      0.49      0.42       101\n",
      "           4       0.25      0.59      0.35       130\n",
      "           5       0.44      0.43      0.43       221\n",
      "           6       0.65      0.35      0.46        68\n",
      "           7       0.63      0.67      0.65        90\n",
      "           8       0.50      0.50      0.50       121\n",
      "           9       0.44      0.14      0.22       112\n",
      "          10       0.00      0.00      0.00         7\n",
      "          11       0.58      0.57      0.57       304\n",
      "          12       0.47      0.49      0.48        92\n",
      "          13       0.66      0.59      0.63      1606\n",
      "\n",
      "    accuracy                           0.63      5427\n",
      "   macro avg       0.51      0.49      0.49      5427\n",
      "weighted avg       0.64      0.63      0.63      5427\n",
      "\n"
     ]
    },
    {
     "name": "stderr",
     "output_type": "stream",
     "text": [
      "/opt/conda/lib/python3.7/site-packages/sklearn/metrics/_classification.py:1318: UndefinedMetricWarning: Precision and F-score are ill-defined and being set to 0.0 in labels with no predicted samples. Use `zero_division` parameter to control this behavior.\n",
      "  _warn_prf(average, modifier, msg_start, len(result))\n",
      "/opt/conda/lib/python3.7/site-packages/sklearn/metrics/_classification.py:1318: UndefinedMetricWarning: Precision and F-score are ill-defined and being set to 0.0 in labels with no predicted samples. Use `zero_division` parameter to control this behavior.\n",
      "  _warn_prf(average, modifier, msg_start, len(result))\n",
      "/opt/conda/lib/python3.7/site-packages/sklearn/metrics/_classification.py:1318: UndefinedMetricWarning: Precision and F-score are ill-defined and being set to 0.0 in labels with no predicted samples. Use `zero_division` parameter to control this behavior.\n",
      "  _warn_prf(average, modifier, msg_start, len(result))\n"
     ]
    }
   ],
   "source": [
    "pred_bert_lr = model.predict(X_test_bert)\n",
    "predictions_bert_lr = np.argmax(pred_bert_lr, axis = -1)\n",
    "\n",
    "\n",
    "y_true = np.argmax(y_test_bert, axis = -1)\n",
    "y_pred = predictions_bert_lr\n",
    "\n",
    "acc_bert_lr = accuracy_score(y_true, y_pred)\n",
    "print(acc_bert_lr)\n",
    "f1_bert_lr = f1_score(y_true, y_pred, average='macro')\n",
    "print(f1_bert_lr)\n",
    "cm_bert_lr = confusion_matrix(y_true, y_pred)\n",
    "print(\"Confusion matrix:\\n\", cm_bert_lr)\n",
    "\n",
    "classification_bert_lr = classification_report(y_true, y_pred)\n",
    "print(classification_bert_lr)"
   ]
  },
  {
   "cell_type": "markdown",
   "metadata": {},
   "source": [
    "The performance of this variation of the bert model is very similar to the last variation. Accuracy of 63.09% and f1-score of 0.4861 is very close to that of the previous variation, however, this is to be expected due to the only difference in the structure of these models being the additional GRU layer on the first variation. This variation performs slightly better than the first variation as it is able to obtain a higher f1-score on low-scoring classes such as 9 and 3 as well as having a higher overall F1-score. "
   ]
  },
  {
   "cell_type": "markdown",
   "metadata": {},
   "source": [
    "## Variation 3\n",
    "**Bert with 3e-6 lr and 0.3 dropout**  \n",
    "Investigates the effects of decreasing the dropout and learning rate. "
   ]
  },
  {
   "cell_type": "code",
   "execution_count": 136,
   "metadata": {
    "execution": {
     "iopub.execute_input": "2023-04-24T22:26:42.597293Z",
     "iopub.status.busy": "2023-04-24T22:26:42.596714Z",
     "iopub.status.idle": "2023-04-24T22:26:42.614887Z",
     "shell.execute_reply": "2023-04-24T22:26:42.613277Z",
     "shell.execute_reply.started": "2023-04-24T22:26:42.597241Z"
    },
    "id": "-1SHOb1cMcwi"
   },
   "outputs": [],
   "source": [
    "def build_model(n_categories):\n",
    "\n",
    "    input_word_ids = tf.keras.Input(shape=(MAX_LEN,), dtype=tf.int32, name='input_word_ids')\n",
    "    input_mask = tf.keras.Input(shape=(MAX_LEN,), dtype=tf.int32, name='input_mask')\n",
    "    input_type_ids = tf.keras.Input(shape=(MAX_LEN,), dtype=tf.int32, name='input_type_ids')\n",
    "\n",
    "\n",
    "    # Import transformer model from HuggingFace\n",
    "\n",
    "    #transformer_model = TFAutoModelForSequenceClassification.from_pretrained(\"microsoft/deberta-base\", num_labels=n_categories, problem_type=\"multi_label_classification\")\n",
    "    transformer_model = TFAutoModel.from_pretrained('bert-base-uncased', num_labels=n_categories)\n",
    "\n",
    "    \n",
    "    x = transformer_model(input_word_ids, attention_mask=input_mask, token_type_ids=input_type_ids)\n",
    "\n",
    "    # Huggingface transformers have multiple outputs, embeddings are the first one,\n",
    "    # so let's slice out the first position\n",
    "    x = x[0]\n",
    "    \n",
    "    x = tf.keras.layers.Dropout(0.3)(x)\n",
    "    x = tf.keras.layers.Flatten()(x)\n",
    "    x = tf.keras.layers.Dense(256, activation='relu')(x)\n",
    "    x = tf.keras.layers.Dense(n_categories, activation='sigmoid')(x)\n",
    "\n",
    "    model = tf.keras.Model(inputs=[input_word_ids, input_mask, input_type_ids], outputs=x)\n",
    "    model.compile(\n",
    "        optimizer=tf.keras.optimizers.Adam(learning_rate=3e-6),\n",
    "        loss='categorical_crossentropy',\n",
    "        metrics=['accuracy'])\n",
    "\n",
    "    return model"
   ]
  },
  {
   "cell_type": "code",
   "execution_count": null,
   "metadata": {
    "colab": {
     "base_uri": "https://localhost:8080/",
     "height": 138,
     "referenced_widgets": [
      "bb87537648ab45689224473216f01131",
      "9b9713f994a74b33ba8dff1d6a0f9e9f",
      "4a7630d0569649c4aa2381a384c269c0",
      "a91e68605e41444f9792072df6a671a0",
      "43ab65fa5a6944848f3fb4fe75e5f8ae",
      "b0231c0b899d444b87df5348e83590d6",
      "bd35edad73594f4289d4c8571d33cee1",
      "dcfa79bd75074162a12ccb483692db56",
      "d64163d624a6423eb326608713234969",
      "74477b104da04e46a2895e222a76c6a2",
      "d60f69c9596b4759b028eea8b86f3b0b"
     ]
    },
    "execution": {
     "iopub.execute_input": "2023-04-24T22:26:42.682511Z",
     "iopub.status.busy": "2023-04-24T22:26:42.682220Z",
     "iopub.status.idle": "2023-04-24T22:26:53.981780Z",
     "shell.execute_reply": "2023-04-24T22:26:53.980544Z",
     "shell.execute_reply.started": "2023-04-24T22:26:42.682475Z"
    },
    "id": "9XNEijlLRF0Z",
    "outputId": "44d2ff8c-7218-46a4-cd06-7f12c7ba1e02"
   },
   "outputs": [],
   "source": [
    "model = build_model(14)"
   ]
  },
  {
   "cell_type": "code",
   "execution_count": 138,
   "metadata": {
    "execution": {
     "iopub.execute_input": "2023-04-24T22:26:53.984606Z",
     "iopub.status.busy": "2023-04-24T22:26:53.983848Z",
     "iopub.status.idle": "2023-04-24T22:26:53.991184Z",
     "shell.execute_reply": "2023-04-24T22:26:53.989864Z",
     "shell.execute_reply.started": "2023-04-24T22:26:53.984570Z"
    },
    "id": "fncScuT_CfSq"
   },
   "outputs": [],
   "source": [
    "\n",
    "early_stopping = EarlyStopping(\n",
    "    monitor='val_loss',\n",
    "    patience=3,\n",
    "    restore_best_weights=True\n",
    ")"
   ]
  },
  {
   "cell_type": "code",
   "execution_count": 139,
   "metadata": {
    "colab": {
     "base_uri": "https://localhost:8080/"
    },
    "execution": {
     "iopub.execute_input": "2023-04-24T22:26:53.993854Z",
     "iopub.status.busy": "2023-04-24T22:26:53.993087Z",
     "iopub.status.idle": "2023-04-24T23:13:43.354091Z",
     "shell.execute_reply": "2023-04-24T23:13:43.353069Z",
     "shell.execute_reply.started": "2023-04-24T22:26:53.993808Z"
    },
    "id": "oh39cR7j80mb",
    "outputId": "154177dd-1881-4f58-b8cf-32b96fe3923d"
   },
   "outputs": [
    {
     "name": "stdout",
     "output_type": "stream",
     "text": [
      "Epoch 1/10\n",
      "1357/1357 [==============================] - 394s 256ms/step - loss: 1.6518 - accuracy: 0.4604 - val_loss: 1.2663 - val_accuracy: 0.5827\n",
      "Epoch 2/10\n",
      "1357/1357 [==============================] - 349s 257ms/step - loss: 1.2122 - accuracy: 0.5940 - val_loss: 1.1250 - val_accuracy: 0.6285\n",
      "Epoch 3/10\n",
      "1357/1357 [==============================] - 350s 258ms/step - loss: 1.0916 - accuracy: 0.6316 - val_loss: 1.0860 - val_accuracy: 0.6412\n",
      "Epoch 4/10\n",
      "1357/1357 [==============================] - 349s 257ms/step - loss: 1.0287 - accuracy: 0.6504 - val_loss: 1.0816 - val_accuracy: 0.6364\n",
      "Epoch 5/10\n",
      "1357/1357 [==============================] - 346s 255ms/step - loss: 0.9680 - accuracy: 0.6658 - val_loss: 1.0645 - val_accuracy: 0.6419\n",
      "Epoch 6/10\n",
      "1357/1357 [==============================] - 343s 253ms/step - loss: 0.9186 - accuracy: 0.6781 - val_loss: 1.0780 - val_accuracy: 0.6415\n",
      "Epoch 7/10\n",
      "1357/1357 [==============================] - 343s 253ms/step - loss: 0.8741 - accuracy: 0.6947 - val_loss: 1.0891 - val_accuracy: 0.6351\n",
      "Epoch 8/10\n",
      "1357/1357 [==============================] - 337s 248ms/step - loss: 0.8227 - accuracy: 0.7085 - val_loss: 1.1066 - val_accuracy: 0.6332\n"
     ]
    }
   ],
   "source": [
    "#bert\n",
    "history = model.fit(X_train_bert,\n",
    "                    y_train_bert,\n",
    "                    epochs = 10,\n",
    "                    batch_size=32,\n",
    "                    verbose=1,\n",
    "                    validation_data=(X_valid_bert, y_valid_bert),\n",
    "                    callbacks=[early_stopping]\n",
    "                    )"
   ]
  },
  {
   "cell_type": "code",
   "execution_count": 140,
   "metadata": {
    "execution": {
     "iopub.execute_input": "2023-04-24T23:13:43.357256Z",
     "iopub.status.busy": "2023-04-24T23:13:43.356624Z",
     "iopub.status.idle": "2023-04-24T23:14:01.975874Z",
     "shell.execute_reply": "2023-04-24T23:14:01.974597Z",
     "shell.execute_reply.started": "2023-04-24T23:13:43.357212Z"
    }
   },
   "outputs": [
    {
     "name": "stdout",
     "output_type": "stream",
     "text": [
      "170/170 [==============================] - 17s 83ms/step\n",
      "0.6382900313248572\n",
      "0.490904199765605\n",
      "Confusion matrix:\n",
      " [[1051   56   40   17    6    6    1    3   18    1    0   13    7  143]\n",
      " [  45  311    9    0    3    6    2    1    4    0    0    2    7   37]\n",
      " [  32   15  465    4   20    8    2   12    3    0    0   36   11  178]\n",
      " [  11    4    4   43    0    0    1    1    5    0    0    6    0   26]\n",
      " [   5    2    8    2   58   21    0    0    0    1    0    4    3   26]\n",
      " [  13    3    8    1   17  104    0    3    4    0    0    7   11   50]\n",
      " [   9    5    3    1    0    1   29    1    6    0    0    3    0   10]\n",
      " [   2    0    9    2    1    1    0   59    0    1    0    7    0    8]\n",
      " [  14    7    0    6    1    0    5    0   62    0    0    3    2   21]\n",
      " [  13    4   10    1    0    0    1    0    1   16    0    5    9   52]\n",
      " [   3    1    0    1    0    0    0    0    0    0    0    1    0    1]\n",
      " [   9    5   45    3    7    3    3    6    2    1    0  168    3   49]\n",
      " [   7    2   13    0    3    4    0    1    0    1    0    1   43   17]\n",
      " [ 130   40  164   26   30   62    8   11   10   12    0   47   11 1055]]\n",
      "              precision    recall  f1-score   support\n",
      "\n",
      "           0       0.78      0.77      0.78      1362\n",
      "           1       0.68      0.73      0.71       427\n",
      "           2       0.60      0.59      0.59       786\n",
      "           3       0.40      0.43      0.41       101\n",
      "           4       0.40      0.45      0.42       130\n",
      "           5       0.48      0.47      0.48       221\n",
      "           6       0.56      0.43      0.48        68\n",
      "           7       0.60      0.66      0.63        90\n",
      "           8       0.54      0.51      0.53       121\n",
      "           9       0.48      0.14      0.22       112\n",
      "          10       0.00      0.00      0.00         7\n",
      "          11       0.55      0.55      0.55       304\n",
      "          12       0.40      0.47      0.43        92\n",
      "          13       0.63      0.66      0.64      1606\n",
      "\n",
      "    accuracy                           0.64      5427\n",
      "   macro avg       0.51      0.49      0.49      5427\n",
      "weighted avg       0.64      0.64      0.64      5427\n",
      "\n"
     ]
    },
    {
     "name": "stderr",
     "output_type": "stream",
     "text": [
      "/opt/conda/lib/python3.7/site-packages/sklearn/metrics/_classification.py:1318: UndefinedMetricWarning: Precision and F-score are ill-defined and being set to 0.0 in labels with no predicted samples. Use `zero_division` parameter to control this behavior.\n",
      "  _warn_prf(average, modifier, msg_start, len(result))\n",
      "/opt/conda/lib/python3.7/site-packages/sklearn/metrics/_classification.py:1318: UndefinedMetricWarning: Precision and F-score are ill-defined and being set to 0.0 in labels with no predicted samples. Use `zero_division` parameter to control this behavior.\n",
      "  _warn_prf(average, modifier, msg_start, len(result))\n",
      "/opt/conda/lib/python3.7/site-packages/sklearn/metrics/_classification.py:1318: UndefinedMetricWarning: Precision and F-score are ill-defined and being set to 0.0 in labels with no predicted samples. Use `zero_division` parameter to control this behavior.\n",
      "  _warn_prf(average, modifier, msg_start, len(result))\n"
     ]
    }
   ],
   "source": [
    "pred_bert = model.predict(X_test_bert)\n",
    "predictions_bert = np.argmax(pred_bert, axis = -1)\n",
    "\n",
    "\n",
    "y_true = np.argmax(y_test_bert, axis = -1)\n",
    "y_pred = predictions_bert\n",
    "\n",
    "acc_bert = accuracy_score(y_true, y_pred)\n",
    "print(acc_bert)\n",
    "f1_bert = f1_score(y_true, y_pred, average='macro')\n",
    "print(f1_bert)\n",
    "cm_bert = confusion_matrix(y_true, y_pred)\n",
    "print(\"Confusion matrix:\\n\", cm_bert)\n",
    "\n",
    "classification_bert = classification_report(y_true, y_pred)\n",
    "print(classification_bert)"
   ]
  },
  {
   "cell_type": "markdown",
   "metadata": {},
   "source": [
    "The performance of this variation of the bert model is very similar to the last variation. Accuracy of 63.83% and f1-score of 0.4909 is very close to that of the previous variation, however, this is to be expected due to the only difference in the structure of these models being the lower dropout rate of 0.3 and smaller learning rate of 3e-6. This shows the changes to the dropout rate and learning rate have caused an improvement in this variation compared to the last one. It is also important to note that this variation has been the best performing so far; however, the class based performance is still similar with 0,1 and 13 having the highest precision and recall scores and classes 9 and 10 having the lowest scores."
   ]
  },
  {
   "cell_type": "markdown",
   "metadata": {},
   "source": [
    "## Variation 4\n",
    "**Bert Tokenized with MAX_LEN of 128**  \n",
    "This model follows the exact same structure as the last variation of the bert model, however, the padding sequence is done to a MAX_LEN of 128 instead of 33.\n",
    "This model took exceptionally high computational power and time to train and therefore running it is unefficient, hence, only the results are displayed:"
   ]
  },
  {
   "cell_type": "code",
   "execution_count": null,
   "metadata": {
    "colab": {
     "base_uri": "https://localhost:8080/"
    },
    "id": "F0VnhTX1_CBv",
    "outputId": "eeec1c70-3908-4c4d-99af-ce0b39cfa6f5"
   },
   "outputs": [
    {
     "name": "stdout",
     "output_type": "stream",
     "text": [
      "170/170 [==============================] - 50s 278ms/step\n"
     ]
    }
   ],
   "source": [
    "pred_bert = model.predict(X_test_bert)\n",
    "predictions_bert = np.argmax(pred_bert, axis = -1)"
   ]
  },
  {
   "cell_type": "code",
   "execution_count": null,
   "metadata": {
    "colab": {
     "base_uri": "https://localhost:8080/"
    },
    "id": "f4mlwRbcIN2l",
    "outputId": "e922a814-3bef-4fd3-861e-1673d0174939"
   },
   "outputs": [
    {
     "data": {
      "text/plain": [
       "0.6414225170444076"
      ]
     },
     "execution_count": 24,
     "metadata": {},
     "output_type": "execute_result"
    }
   ],
   "source": [
    "\n",
    "y_true = np.argmax(y_test_bert, axis = -1)\n",
    "y_pred = predictions_bert\n",
    "\n",
    "accuracy_score(y_true, y_pred)"
   ]
  },
  {
   "cell_type": "code",
   "execution_count": null,
   "metadata": {
    "colab": {
     "base_uri": "https://localhost:8080/"
    },
    "id": "BUkzufWsIXMa",
    "outputId": "e0214a4d-521e-4c19-a1be-fded5d675727"
   },
   "outputs": [
    {
     "data": {
      "text/plain": [
       "0.5068612671047656"
      ]
     },
     "execution_count": 25,
     "metadata": {},
     "output_type": "execute_result"
    }
   ],
   "source": [
    "\n",
    "y_true = np.argmax(y_test_bert, axis = -1)\n",
    "y_pred = predictions_bert\n",
    "\n",
    "f1_score(y_true, y_pred, average='macro')"
   ]
  },
  {
   "cell_type": "code",
   "execution_count": null,
   "metadata": {
    "colab": {
     "base_uri": "https://localhost:8080/"
    },
    "id": "sY3ofTkXIccA",
    "outputId": "9037fe64-f63b-4e79-851e-7d1336a2e9d8"
   },
   "outputs": [
    {
     "name": "stdout",
     "output_type": "stream",
     "text": [
      "Confusion matrix:\n",
      "\n",
      "\n",
      "\n",
      "\n",
      "\n",
      "\n",
      "\n",
      "\n",
      "\n",
      "\n",
      "\n",
      "\n",
      "\n",
      "\n",
      "\n",
      " [[1055   67   36   12    2   10    0    4   20    0    0    8    3  145]\n",
      "\n",
      "\n",
      "\n",
      "\n",
      "\n",
      "\n",
      "\n",
      "\n",
      "\n",
      "\n",
      "\n",
      "\n",
      "\n",
      "\n",
      "\n",
      " [  42  316    5    0    3    8    1    1    6    1    0    1    7   36]\n",
      "\n",
      "\n",
      "\n",
      "\n",
      "\n",
      "\n",
      "\n",
      "\n",
      "\n",
      "\n",
      "\n",
      "\n",
      "\n",
      "\n",
      "\n",
      " [  31   19  476    1   16   17    0   10    5    3    0   27    7  174]\n",
      "\n",
      "\n",
      "\n",
      "\n",
      "\n",
      "\n",
      "\n",
      "\n",
      "\n",
      "\n",
      "\n",
      "\n",
      "\n",
      "\n",
      "\n",
      " [  13    3    8   36    0    0    1    1    7    0    0    4    0   28]\n",
      "\n",
      "\n",
      "\n",
      "\n",
      "\n",
      "\n",
      "\n",
      "\n",
      "\n",
      "\n",
      "\n",
      "\n",
      "\n",
      "\n",
      "\n",
      " [   4    4    9    1   57   28    0    0    1    1    0    2    2   21]\n",
      "\n",
      "\n",
      "\n",
      "\n",
      "\n",
      "\n",
      "\n",
      "\n",
      "\n",
      "\n",
      "\n",
      "\n",
      "\n",
      "\n",
      "\n",
      " [  10    2    4    3   13  129    0    3    4    0    1    5    7   40]\n",
      "\n",
      "\n",
      "\n",
      "\n",
      "\n",
      "\n",
      "\n",
      "\n",
      "\n",
      "\n",
      "\n",
      "\n",
      "\n",
      "\n",
      "\n",
      " [   6    5    5    0    0    0   21    1    9    0    0    5    0   16]\n",
      "\n",
      "\n",
      "\n",
      "\n",
      "\n",
      "\n",
      "\n",
      "\n",
      "\n",
      "\n",
      "\n",
      "\n",
      "\n",
      "\n",
      "\n",
      " [   2    0    9    1    0    3    0   60    0    0    0    7    0    8]\n",
      "\n",
      "\n",
      "\n",
      "\n",
      "\n",
      "\n",
      "\n",
      "\n",
      "\n",
      "\n",
      "\n",
      "\n",
      "\n",
      "\n",
      "\n",
      " [   7    6    0    3    1    1    3    0   70    0    0    2    2   26]\n",
      "\n",
      "\n",
      "\n",
      "\n",
      "\n",
      "\n",
      "\n",
      "\n",
      "\n",
      "\n",
      "\n",
      "\n",
      "\n",
      "\n",
      "\n",
      " [  17    5    8    1    1    1    0    0    0   15    0    5    9   50]\n",
      "\n",
      "\n",
      "\n",
      "\n",
      "\n",
      "\n",
      "\n",
      "\n",
      "\n",
      "\n",
      "\n",
      "\n",
      "\n",
      "\n",
      "\n",
      " [   3    1    0    1    0    0    0    0    0    0    1    1    0    0]\n",
      "\n",
      "\n",
      "\n",
      "\n",
      "\n",
      "\n",
      "\n",
      "\n",
      "\n",
      "\n",
      "\n",
      "\n",
      "\n",
      "\n",
      "\n",
      " [  11    5   41    1    8    5    1    4    6    2    0  161    3   56]\n",
      "\n",
      "\n",
      "\n",
      "\n",
      "\n",
      "\n",
      "\n",
      "\n",
      "\n",
      "\n",
      "\n",
      "\n",
      "\n",
      "\n",
      "\n",
      " [   8    5   13    0    2    8    0    2    1    0    0    2   38   13]\n",
      "\n",
      "\n",
      "\n",
      "\n",
      "\n",
      "\n",
      "\n",
      "\n",
      "\n",
      "\n",
      "\n",
      "\n",
      "\n",
      "\n",
      "\n",
      " [ 144   43  161   19   27   81    5    6   11    9    0   46    8 1046]]\n"
     ]
    }
   ],
   "source": [
    "\n",
    "y_true = np.argmax(y_test_bert, axis = -1)\n",
    "y_pred = predictions_bert\n",
    "\n",
    "cm_bert = confusion_matrix(y_true, y_pred)\n",
    "\n",
    "print(\"Confusion matrix:\\n\", cm_bert)"
   ]
  },
  {
   "cell_type": "markdown",
   "metadata": {},
   "source": [
    "As visible in the results below it was able to achieve the highest F1-score of all models at 0.5069 indicating the strongest performance amongst all experiments when taken into consideration the class imbalance. It is also important to note that this was the only model able to correctly classify an instance of class 10 as well as achieving one of the highest recall scores for class 9 which was the second most poorly classified class in the data by all the experiments. In datasets with such high class imbalance, an important factor for a successful model is the ability to correctly classify poorly represented classes and in this scenario this bert variation was able to do this better than the other experiments.\n",
    "* note: the classification report for this model is unavailable due to a mistake of not displaying it at the time of running the model, and due to the long time and computational power this model takes up it was decided to not include the classification report."
   ]
  },
  {
   "cell_type": "markdown",
   "metadata": {},
   "source": [
    "## Conclusion\n",
    "The best performing variations of the bert model were the final two variations. These two had the same model structure with the only difference between them being the larder padded sequence length used when tokenizing the data. They had similar performances, however, as expected the final variation with a MAX_LEN of 128 just outperformed the variation with MAX_LEN of 33. From this experiment we can also conclude that adding a GRU layer to a transformer structure and increasing the dropout and learning rate does not improve the performance of the model. The final variation was the only model in all of the experiements that was able to correctly classify an instance of class 10. For this reason, as well as scoring the best F1-score, this model was picked as the best performing. Due to the large computational power and time this model takes to train however, the variation of this model using a MAX_LEN of 33 can be picked to use in order to improve efficiency as the slightl increase in performance may not justify the use of the 4th variation when considered the extra time and effort this model takes to train."
   ]
  },
  {
   "cell_type": "markdown",
   "metadata": {},
   "source": [
    "# Deberta Transformer Model Experiment 4\n",
    "Three variations of the deberta transformer model will be investigated. These have similar structure to models in the previous experiment, with the main difference being the pre-trained transformer being Microsofts's deberta instead of Google's bert. The first two variations will follow the 33 padded sequence length when tokenizing data and the final variation will experiment with a length of 128. The main aim of this variation is to investigate whether deberta is better suited for this problem case compared to the bert model. \n",
    "* The first variation will be the deberta model followed by a dropout layer of 0.5, flatten layer, and two fully connected dense layers with 256 and n_categories (14) connections respectively. This variation uses a higher learning rate of 1e-5. \n",
    "* The second variation will follow the same structure as the first variation with the difference being a lower dropout rate of 0.3 and a lower learning rate of 3e-6. The aim of this is to investigate the effects of decreasing the lr and dropout on the model.\n",
    "* The final variation has the same structure as the previous variation, however, the tokenization is done with a padding sequence of 128 instead. This model like the final bert variation required exceptionally high computational power and time to train, therefore, only the results of this model are displayed."
   ]
  },
  {
   "cell_type": "markdown",
   "metadata": {},
   "source": [
    "## Variation 1"
   ]
  },
  {
   "cell_type": "code",
   "execution_count": null,
   "metadata": {
    "execution": {
     "iopub.execute_input": "2023-04-24T23:25:59.984328Z",
     "iopub.status.busy": "2023-04-24T23:25:59.983845Z",
     "iopub.status.idle": "2023-04-24T23:26:47.623184Z",
     "shell.execute_reply": "2023-04-24T23:26:47.621975Z",
     "shell.execute_reply.started": "2023-04-24T23:25:59.984286Z"
    }
   },
   "outputs": [],
   "source": [
    "def build_model(n_categories):\n",
    "\n",
    "    input_word_ids = tf.keras.Input(shape=(MAX_LEN,), dtype=tf.int32, name='input_word_ids')\n",
    "    input_mask = tf.keras.Input(shape=(MAX_LEN,), dtype=tf.int32, name='input_mask')\n",
    "    input_type_ids = tf.keras.Input(shape=(MAX_LEN,), dtype=tf.int32, name='input_type_ids')\n",
    "\n",
    "\n",
    "    # Import transformer model from HuggingFace\n",
    "\n",
    "    transformer_model = TFAutoModelForSequenceClassification.from_pretrained(\"microsoft/deberta-base\", num_labels=n_categories, problem_type=\"multi_label_classification\")\n",
    "    #transformer_model = TFAutoModel.from_pretrained('bert-base-uncased', num_labels=n_categories)\n",
    "\n",
    "    \n",
    "    x = transformer_model(input_word_ids, attention_mask=input_mask, token_type_ids=input_type_ids)\n",
    "\n",
    "    # Huggingface transformers have multiple outputs, embeddings are the first one,\n",
    "    # so let's slice out the first position\n",
    "    x = x[0]\n",
    "    \n",
    "    \n",
    "    x = tf.keras.layers.Dropout(0.5)(x)\n",
    "    x = tf.keras.layers.Flatten()(x)\n",
    "    x = tf.keras.layers.Dense(256, activation='relu')(x)\n",
    "    x = tf.keras.layers.Dense(n_categories, activation='sigmoid')(x)\n",
    "\n",
    "    model = tf.keras.Model(inputs=[input_word_ids, input_mask, input_type_ids], outputs=x)\n",
    "    model.compile(\n",
    "        optimizer=tf.keras.optimizers.Adam(learning_rate=1e-5),\n",
    "        loss='categorical_crossentropy',\n",
    "        metrics=['accuracy'])\n",
    "\n",
    "    return model\n",
    "model = build_model(14)"
   ]
  },
  {
   "cell_type": "code",
   "execution_count": 180,
   "metadata": {
    "execution": {
     "iopub.execute_input": "2023-04-24T23:26:47.625090Z",
     "iopub.status.busy": "2023-04-24T23:26:47.624663Z",
     "iopub.status.idle": "2023-04-25T00:30:34.516471Z",
     "shell.execute_reply": "2023-04-25T00:30:34.515381Z",
     "shell.execute_reply.started": "2023-04-24T23:26:47.625024Z"
    }
   },
   "outputs": [
    {
     "name": "stdout",
     "output_type": "stream",
     "text": [
      "Epoch 1/10\n",
      "1357/1357 [==============================] - 575s 368ms/step - loss: 1.7850 - accuracy: 0.4675 - val_loss: 1.4119 - val_accuracy: 0.5675\n",
      "Epoch 2/10\n",
      "1357/1357 [==============================] - 465s 343ms/step - loss: 1.4473 - accuracy: 0.5508 - val_loss: 1.2779 - val_accuracy: 0.6003\n",
      "Epoch 3/10\n",
      "1357/1357 [==============================] - 456s 336ms/step - loss: 1.3336 - accuracy: 0.5837 - val_loss: 1.2583 - val_accuracy: 0.6115\n",
      "Epoch 4/10\n",
      "1357/1357 [==============================] - 462s 341ms/step - loss: 1.2457 - accuracy: 0.6106 - val_loss: 1.2080 - val_accuracy: 0.6310\n",
      "Epoch 5/10\n",
      "1357/1357 [==============================] - 466s 343ms/step - loss: 1.1703 - accuracy: 0.6347 - val_loss: 1.1984 - val_accuracy: 0.6329\n",
      "Epoch 6/10\n",
      "1357/1357 [==============================] - 473s 348ms/step - loss: 1.1009 - accuracy: 0.6561 - val_loss: 1.2362 - val_accuracy: 0.6312\n",
      "Epoch 7/10\n",
      "1357/1357 [==============================] - 464s 342ms/step - loss: 1.0246 - accuracy: 0.6841 - val_loss: 1.2478 - val_accuracy: 0.6224\n",
      "Epoch 8/10\n",
      "1357/1357 [==============================] - 465s 343ms/step - loss: 0.9465 - accuracy: 0.7085 - val_loss: 1.3082 - val_accuracy: 0.6250\n"
     ]
    }
   ],
   "source": [
    "#deberta\n",
    "history = model.fit(X_train_bert,\n",
    "                    y_train_bert,\n",
    "                    epochs = 10,\n",
    "                    batch_size=32,\n",
    "                    verbose=1,\n",
    "                    validation_data=(X_valid_bert, y_valid_bert),\n",
    "                    callbacks=[early_stopping]\n",
    "                    )"
   ]
  },
  {
   "cell_type": "code",
   "execution_count": 181,
   "metadata": {
    "execution": {
     "iopub.execute_input": "2023-04-25T00:30:34.518690Z",
     "iopub.status.busy": "2023-04-25T00:30:34.517991Z",
     "iopub.status.idle": "2023-04-25T00:31:01.549511Z",
     "shell.execute_reply": "2023-04-25T00:31:01.548085Z",
     "shell.execute_reply.started": "2023-04-25T00:30:34.518654Z"
    }
   },
   "outputs": [
    {
     "name": "stdout",
     "output_type": "stream",
     "text": [
      "170/170 [==============================] - 22s 91ms/step\n",
      "0.6307352128247651\n",
      "0.4650481150817042\n",
      "Confusion matrix:\n",
      " [[1094   65   34   13    0   10    4    2   12    0    0    8    2  118]\n",
      " [  52  328    6    1    0   10    3    0    2    0    0    2    3   20]\n",
      " [  37   22  518    4    6   34    2   11    4    0    0   22    6  120]\n",
      " [  18    3   12   41    0    0    1    3    6    0    0    1    0   16]\n",
      " [   5    4   10    0   47   50    1    1    0    0    0    2    0   10]\n",
      " [  12    5    3    2   10  154    1    3    2    0    0    7    3   19]\n",
      " [   8    3    4    1    0    1   31    1    7    0    0    2    0   10]\n",
      " [   3    0   16    1    0    1    1   58    0    0    0    9    0    1]\n",
      " [  16   11    4    9    0    0    5    0   58    0    0    0    1   17]\n",
      " [  20   13   11    0    1    3    1    0    0    0    0    7    4   52]\n",
      " [   5    2    0    0    0    0    0    0    0    0    0    0    0    0]\n",
      " [  22    9   52    3    5    7    5    3    3    0    0  148    3   44]\n",
      " [  12   12   10    0    3    8    0    1    0    0    0    2   23   21]\n",
      " [ 181   49  233   14   28  105   11   12    8    0    0   39    3  923]]\n",
      "              precision    recall  f1-score   support\n",
      "\n",
      "           0       0.74      0.80      0.77      1362\n",
      "           1       0.62      0.77      0.69       427\n",
      "           2       0.57      0.66      0.61       786\n",
      "           3       0.46      0.41      0.43       101\n",
      "           4       0.47      0.36      0.41       130\n",
      "           5       0.40      0.70      0.51       221\n",
      "           6       0.47      0.46      0.46        68\n",
      "           7       0.61      0.64      0.63        90\n",
      "           8       0.57      0.48      0.52       121\n",
      "           9       0.00      0.00      0.00       112\n",
      "          10       0.00      0.00      0.00         7\n",
      "          11       0.59      0.49      0.54       304\n",
      "          12       0.48      0.25      0.33        92\n",
      "          13       0.67      0.57      0.62      1606\n",
      "\n",
      "    accuracy                           0.63      5427\n",
      "   macro avg       0.48      0.47      0.47      5427\n",
      "weighted avg       0.62      0.63      0.62      5427\n",
      "\n"
     ]
    },
    {
     "name": "stderr",
     "output_type": "stream",
     "text": [
      "/opt/conda/lib/python3.7/site-packages/sklearn/metrics/_classification.py:1318: UndefinedMetricWarning: Precision and F-score are ill-defined and being set to 0.0 in labels with no predicted samples. Use `zero_division` parameter to control this behavior.\n",
      "  _warn_prf(average, modifier, msg_start, len(result))\n",
      "/opt/conda/lib/python3.7/site-packages/sklearn/metrics/_classification.py:1318: UndefinedMetricWarning: Precision and F-score are ill-defined and being set to 0.0 in labels with no predicted samples. Use `zero_division` parameter to control this behavior.\n",
      "  _warn_prf(average, modifier, msg_start, len(result))\n",
      "/opt/conda/lib/python3.7/site-packages/sklearn/metrics/_classification.py:1318: UndefinedMetricWarning: Precision and F-score are ill-defined and being set to 0.0 in labels with no predicted samples. Use `zero_division` parameter to control this behavior.\n",
      "  _warn_prf(average, modifier, msg_start, len(result))\n"
     ]
    }
   ],
   "source": [
    "pred_deberta_lr = model.predict(X_test_bert)\n",
    "predictions_deberta_lr = np.argmax(pred_deberta_lr, axis = -1)\n",
    "\n",
    "\n",
    "y_true = np.argmax(y_test_bert, axis = -1)\n",
    "y_pred = predictions_deberta_lr\n",
    "\n",
    "acc_deberta_lr = accuracy_score(y_true, y_pred)\n",
    "print(acc_deberta_lr)\n",
    "f1_deberta_lr = f1_score(y_true, y_pred, average='macro')\n",
    "print(f1_deberta_lr)\n",
    "cm_deberta_lr = confusion_matrix(y_true, y_pred)\n",
    "print(\"Confusion matrix:\\n\", cm_deberta_lr)\n",
    "\n",
    "classification_deberta_lr = classification_report(y_true, y_pred)\n",
    "print(classification_deberta_lr)"
   ]
  },
  {
   "cell_type": "markdown",
   "metadata": {},
   "source": [
    "The results of the deberta variation with 0.5 dropout and a learning rate of 1e-5 are displayed above. Accuracy of 63.07% and an F1-score 0.465 with relatively high precision and recall on classes 0, 1, 2, and 13. Classes 9 and 10 had a precision and recall of 0. This model did not perform well enough to outperform the strongest bert variation."
   ]
  },
  {
   "cell_type": "markdown",
   "metadata": {},
   "source": [
    "## Variation 2\n",
    "**Deberta lower lr lower dropout**"
   ]
  },
  {
   "cell_type": "code",
   "execution_count": null,
   "metadata": {
    "execution": {
     "iopub.execute_input": "2023-04-25T00:31:53.113712Z",
     "iopub.status.busy": "2023-04-25T00:31:53.112985Z",
     "iopub.status.idle": "2023-04-25T00:32:07.746952Z",
     "shell.execute_reply": "2023-04-25T00:32:07.745887Z",
     "shell.execute_reply.started": "2023-04-25T00:31:53.113672Z"
    }
   },
   "outputs": [],
   "source": [
    "def build_model(n_categories):\n",
    "\n",
    "    input_word_ids = tf.keras.Input(shape=(MAX_LEN,), dtype=tf.int32, name='input_word_ids')\n",
    "    input_mask = tf.keras.Input(shape=(MAX_LEN,), dtype=tf.int32, name='input_mask')\n",
    "    input_type_ids = tf.keras.Input(shape=(MAX_LEN,), dtype=tf.int32, name='input_type_ids')\n",
    "\n",
    "\n",
    "    # Import transformer model from HuggingFace\n",
    "\n",
    "    transformer_model = TFAutoModelForSequenceClassification.from_pretrained(\"microsoft/deberta-base\", num_labels=n_categories, problem_type=\"multi_label_classification\")\n",
    "    #transformer_model = TFAutoModel.from_pretrained('bert-base-uncased', num_labels=n_categories)\n",
    "\n",
    "    \n",
    "    x = transformer_model(input_word_ids, attention_mask=input_mask, token_type_ids=input_type_ids)\n",
    "\n",
    "    # Huggingface transformers have multiple outputs, embeddings are the first one,\n",
    "    # so let's slice out the first position\n",
    "    x = x[0]\n",
    "    \n",
    "    x = tf.keras.layers.Dropout(0.3)(x)\n",
    "    x = tf.keras.layers.Flatten()(x)\n",
    "    x = tf.keras.layers.Dense(256, activation='relu')(x)\n",
    "    x = tf.keras.layers.Dense(n_categories, activation='sigmoid')(x)\n",
    "\n",
    "    model = tf.keras.Model(inputs=[input_word_ids, input_mask, input_type_ids], outputs=x)\n",
    "    model.compile(\n",
    "        optimizer=tf.keras.optimizers.Adam(learning_rate=3e-6),\n",
    "        loss='categorical_crossentropy',\n",
    "        metrics=['accuracy'])\n",
    "\n",
    "    return model\n",
    "model = build_model(14)"
   ]
  },
  {
   "cell_type": "code",
   "execution_count": 184,
   "metadata": {
    "execution": {
     "iopub.execute_input": "2023-04-25T00:32:07.750035Z",
     "iopub.status.busy": "2023-04-25T00:32:07.749363Z",
     "iopub.status.idle": "2023-04-25T01:50:47.557061Z",
     "shell.execute_reply": "2023-04-25T01:50:47.555981Z",
     "shell.execute_reply.started": "2023-04-25T00:32:07.749993Z"
    }
   },
   "outputs": [
    {
     "name": "stdout",
     "output_type": "stream",
     "text": [
      "Epoch 1/10\n",
      "1357/1357 [==============================] - 541s 353ms/step - loss: 1.9808 - accuracy: 0.4086 - val_loss: 1.4871 - val_accuracy: 0.5599\n",
      "Epoch 2/10\n",
      "1357/1357 [==============================] - 475s 350ms/step - loss: 1.5088 - accuracy: 0.5416 - val_loss: 1.2860 - val_accuracy: 0.6071\n",
      "Epoch 3/10\n",
      "1357/1357 [==============================] - 466s 343ms/step - loss: 1.3542 - accuracy: 0.5816 - val_loss: 1.2070 - val_accuracy: 0.6279\n",
      "Epoch 4/10\n",
      "1357/1357 [==============================] - 464s 342ms/step - loss: 1.2695 - accuracy: 0.6065 - val_loss: 1.1735 - val_accuracy: 0.6382\n",
      "Epoch 5/10\n",
      "1357/1357 [==============================] - 464s 342ms/step - loss: 1.1908 - accuracy: 0.6307 - val_loss: 1.1375 - val_accuracy: 0.6412\n",
      "Epoch 6/10\n",
      "1357/1357 [==============================] - 464s 342ms/step - loss: 1.1435 - accuracy: 0.6463 - val_loss: 1.1372 - val_accuracy: 0.6414\n",
      "Epoch 7/10\n",
      "1357/1357 [==============================] - 457s 337ms/step - loss: 1.0934 - accuracy: 0.6591 - val_loss: 1.1295 - val_accuracy: 0.6487\n",
      "Epoch 8/10\n",
      "1357/1357 [==============================] - 467s 345ms/step - loss: 1.0456 - accuracy: 0.6757 - val_loss: 1.1416 - val_accuracy: 0.6436\n",
      "Epoch 9/10\n",
      "1357/1357 [==============================] - 460s 339ms/step - loss: 0.9995 - accuracy: 0.6896 - val_loss: 1.1494 - val_accuracy: 0.6403\n",
      "Epoch 10/10\n",
      "1357/1357 [==============================] - 462s 340ms/step - loss: 0.9666 - accuracy: 0.6984 - val_loss: 1.1385 - val_accuracy: 0.6417\n"
     ]
    }
   ],
   "source": [
    "#deberta\n",
    "history = model.fit(X_train_bert,\n",
    "                    y_train_bert,\n",
    "                    epochs = 10,\n",
    "                    batch_size=32,\n",
    "                    verbose=1,\n",
    "                    validation_data=(X_valid_bert, y_valid_bert),\n",
    "                    callbacks=[early_stopping]\n",
    "                    )"
   ]
  },
  {
   "cell_type": "code",
   "execution_count": 185,
   "metadata": {
    "execution": {
     "iopub.execute_input": "2023-04-25T01:50:47.559381Z",
     "iopub.status.busy": "2023-04-25T01:50:47.559070Z",
     "iopub.status.idle": "2023-04-25T01:51:42.058939Z",
     "shell.execute_reply": "2023-04-25T01:51:42.057577Z",
     "shell.execute_reply.started": "2023-04-25T01:50:47.559346Z"
    }
   },
   "outputs": [
    {
     "name": "stdout",
     "output_type": "stream",
     "text": [
      "170/170 [==============================] - 22s 91ms/step\n",
      "0.6438179473005343\n",
      "0.4730019408682808\n",
      "Confusion matrix:\n",
      " [[1105   49   31    8    1   14    1    2   16    0    0    5    4  126]\n",
      " [  59  311    4    1    1   10    1    0    4    0    0    1    4   31]\n",
      " [  37   16  512    3    8   25    0    8    3    0    0   17    6  151]\n",
      " [  21    3    9   31    0    0    0    2   12    0    0    2    0   21]\n",
      " [   3    3    5    0   42   51    0    1    0    0    0    2    3   20]\n",
      " [   7    4    4    4    6  161    0    3    2    0    0    4   12   14]\n",
      " [  12    2    6    0    0    0   23    0    7    0    0    3    0   15]\n",
      " [   1    0   20    2    0    1    1   53    0    0    0    8    0    4]\n",
      " [  20    6    3    3    0    0    3    0   62    0    0    0    2   22]\n",
      " [  17    9   13    1    0    2    0    0    0    2    0    8    7   53]\n",
      " [   4    1    0    0    0    0    0    0    1    0    0    0    0    1]\n",
      " [  12    6   61    6    1    4    1    2    2    0    0  162    7   40]\n",
      " [   9    7    9    0    5    4    0    2    1    1    0    1   37   16]\n",
      " [ 165   45  189   18   17  111    5   11    9    1    0   37    5  993]]\n",
      "              precision    recall  f1-score   support\n",
      "\n",
      "           0       0.75      0.81      0.78      1362\n",
      "           1       0.67      0.73      0.70       427\n",
      "           2       0.59      0.65      0.62       786\n",
      "           3       0.40      0.31      0.35       101\n",
      "           4       0.52      0.32      0.40       130\n",
      "           5       0.42      0.73      0.53       221\n",
      "           6       0.66      0.34      0.45        68\n",
      "           7       0.63      0.59      0.61        90\n",
      "           8       0.52      0.51      0.52       121\n",
      "           9       0.50      0.02      0.03       112\n",
      "          10       0.00      0.00      0.00         7\n",
      "          11       0.65      0.53      0.58       304\n",
      "          12       0.43      0.40      0.41        92\n",
      "          13       0.66      0.62      0.64      1606\n",
      "\n",
      "    accuracy                           0.64      5427\n",
      "   macro avg       0.53      0.47      0.47      5427\n",
      "weighted avg       0.64      0.64      0.63      5427\n",
      "\n"
     ]
    },
    {
     "name": "stderr",
     "output_type": "stream",
     "text": [
      "/opt/conda/lib/python3.7/site-packages/sklearn/metrics/_classification.py:1318: UndefinedMetricWarning: Precision and F-score are ill-defined and being set to 0.0 in labels with no predicted samples. Use `zero_division` parameter to control this behavior.\n",
      "  _warn_prf(average, modifier, msg_start, len(result))\n",
      "/opt/conda/lib/python3.7/site-packages/sklearn/metrics/_classification.py:1318: UndefinedMetricWarning: Precision and F-score are ill-defined and being set to 0.0 in labels with no predicted samples. Use `zero_division` parameter to control this behavior.\n",
      "  _warn_prf(average, modifier, msg_start, len(result))\n",
      "/opt/conda/lib/python3.7/site-packages/sklearn/metrics/_classification.py:1318: UndefinedMetricWarning: Precision and F-score are ill-defined and being set to 0.0 in labels with no predicted samples. Use `zero_division` parameter to control this behavior.\n",
      "  _warn_prf(average, modifier, msg_start, len(result))\n"
     ]
    }
   ],
   "source": [
    "pred_deberta = model.predict(X_test_bert)\n",
    "predictions_deberta = np.argmax(pred_deberta, axis = -1)\n",
    "\n",
    "\n",
    "y_true = np.argmax(y_test_bert, axis = -1)\n",
    "y_pred = predictions_deberta\n",
    "\n",
    "acc_deberta = accuracy_score(y_true, y_pred)\n",
    "print(acc_deberta)\n",
    "f1_deberta = f1_score(y_true, y_pred, average='macro')\n",
    "print(f1_deberta)\n",
    "cm_deberta = confusion_matrix(y_true, y_pred)\n",
    "print(\"Confusion matrix:\\n\", cm_deberta)\n",
    "\n",
    "classification_deberta = classification_report(y_true, y_pred)\n",
    "print(classification_deberta)"
   ]
  },
  {
   "cell_type": "markdown",
   "metadata": {},
   "source": [
    "The results are displayed above. This deberta variation with a lower lr and dropout rates was able to achieve an accuracy of 64.38% and an F1-score of 0.473, which is an improvement on the results from the previous deberta variation. Class performance of this model follows the general pattern of all models with classes 0,1,2,11 and 13 being classified well and classes 9 & 10 being classes the worst. From the difference between the macro average and weighted average F1-scores from the classification report, we can conclude that the performance of this model was affected by the class imbalance of the dataset. This has been the case for almost all models experimented with so far."
   ]
  },
  {
   "cell_type": "code",
   "execution_count": 186,
   "metadata": {
    "execution": {
     "iopub.execute_input": "2023-04-23T23:25:18.932595Z",
     "iopub.status.busy": "2023-04-23T23:25:18.932126Z",
     "iopub.status.idle": "2023-04-23T23:25:45.639959Z",
     "shell.execute_reply": "2023-04-23T23:25:45.638747Z",
     "shell.execute_reply.started": "2023-04-23T23:25:18.932555Z"
    }
   },
   "outputs": [
    {
     "name": "stdout",
     "output_type": "stream",
     "text": [
      "170/170 [==============================] - 18s 67ms/step\n",
      "\n",
      "\n",
      "\n",
      "\n",
      "\n",
      "\n",
      "\n",
      "0.6178367422148516\n",
      "\n",
      "\n",
      "\n",
      "\n",
      "\n",
      "\n",
      "\n",
      "0.46612061157914864\n",
      "\n",
      "\n",
      "\n",
      "\n",
      "\n",
      "\n",
      "\n",
      "Confusion matrix:\n",
      "\n",
      "\n",
      "\n",
      "\n",
      "\n",
      "\n",
      "\n",
      " [[1108   47   47   14    8   11    0    2   14    0    0   10    8   93]\n",
      "\n",
      "\n",
      "\n",
      "\n",
      "\n",
      "\n",
      "\n",
      " [  63  308    7    0    2    8    3    0    5    0    0    4    8   19]\n",
      "\n",
      "\n",
      "\n",
      "\n",
      "\n",
      "\n",
      "\n",
      " [  41   17  571    4   14   21    1    5    2    0    0   30    5   75]\n",
      "\n",
      "\n",
      "\n",
      "\n",
      "\n",
      "\n",
      "\n",
      " [  17    3    9   42    0    0    1    2    9    0    0    2    0   16]\n",
      "\n",
      "\n",
      "\n",
      "\n",
      "\n",
      "\n",
      "\n",
      " [   3    2   10    0   50   46    1    1    0    1    0    0    3   13]\n",
      "\n",
      "\n",
      "\n",
      "\n",
      "\n",
      "\n",
      "\n",
      " [   8    4    8    0   17  149    1    3    5    0    0    4   13    9]\n",
      "\n",
      "\n",
      "\n",
      "\n",
      "\n",
      "\n",
      "\n",
      " [   6    6    6    2    0    0   26    0    8    0    0    5    0    9]\n",
      "\n",
      "\n",
      "\n",
      "\n",
      "\n",
      "\n",
      "\n",
      " [   1    0   22    0    0    1    0   49    0    0    0   12    1    4]\n",
      "\n",
      "\n",
      "\n",
      "\n",
      "\n",
      "\n",
      "\n",
      " [  20    6    5    7    0    3    4    0   59    0    0    2    1   14]\n",
      "\n",
      "\n",
      "\n",
      "\n",
      "\n",
      "\n",
      "\n",
      " [  16    8   15    2    1    1    0    0    1    3    0    8   13   44]\n",
      "\n",
      "\n",
      "\n",
      "\n",
      "\n",
      "\n",
      "\n",
      " [   4    3    0    0    0    0    0    0    0    0    0    0    0    0]\n",
      "\n",
      "\n",
      "\n",
      "\n",
      "\n",
      "\n",
      "\n",
      " [   8    6   64    4    5    6    1    2    3    0    0  178    4   23]\n",
      "\n",
      "\n",
      "\n",
      "\n",
      "\n",
      "\n",
      "\n",
      " [   7    5   13    0    4    3    0    1    1    2    0    3   44    9]\n",
      "\n",
      "\n",
      "\n",
      "\n",
      "\n",
      "\n",
      "\n",
      " [ 190   65  291   29   34  110   11    6   11    4    0   78   11  766]]\n"
     ]
    }
   ],
   "source": [
    "pred_deberta = model.predict(X_test_bert)\n",
    "predictions_deberta = np.argmax(pred_deberta, axis = -1)\n",
    "\n",
    "\n",
    "y_true = np.argmax(y_test_bert, axis = -1)\n",
    "y_pred = predictions_deberta\n",
    "\n",
    "acc_deberta = accuracy_score(y_true, y_pred)\n",
    "print(acc_deberta)\n",
    "f1_deberta = f1_score(y_true, y_pred, average='macro')\n",
    "print(f1_deberta)\n",
    "cm_deberta = confusion_matrix(y_true, y_pred)\n",
    "print(\"Confusion matrix:\\n\", cm_deberta)"
   ]
  },
  {
   "cell_type": "markdown",
   "metadata": {},
   "source": [
    "## Variation 3\n",
    "**Deberta Tokenized with MAX_LEN of 128**  \n",
    "For the same reasons as the final variation of the bert model only the evaluation results of this variation is displayed."
   ]
  },
  {
   "cell_type": "code",
   "execution_count": null,
   "metadata": {
    "colab": {
     "base_uri": "https://localhost:8080/"
    },
    "id": "IkuFce2rRXCa",
    "outputId": "9b7bc94e-0d38-45dc-da5b-e3918edadb85"
   },
   "outputs": [
    {
     "name": "stdout",
     "output_type": "stream",
     "text": [
      "170/170 [==============================] - 64s 307ms/step\n"
     ]
    }
   ],
   "source": [
    "pred = model.predict(X_test_bert)\n",
    "predictions = np.argmax(pred, axis = -1)"
   ]
  },
  {
   "cell_type": "code",
   "execution_count": null,
   "metadata": {
    "colab": {
     "base_uri": "https://localhost:8080/"
    },
    "id": "A0Q9HexYG-N3",
    "outputId": "02803de8-0967-4968-9207-d730e6ff22ab"
   },
   "outputs": [
    {
     "data": {
      "text/plain": [
       "0.6458448498249493"
      ]
     },
     "execution_count": 31,
     "metadata": {},
     "output_type": "execute_result"
    }
   ],
   "source": [
    "from sklearn.metrics import accuracy_score\n",
    "\n",
    "y_true = np.argmax(y_test_bert, axis = -1)\n",
    "y_pred = predictions\n",
    "\n",
    "accuracy_score(y_true, y_pred)"
   ]
  },
  {
   "cell_type": "code",
   "execution_count": null,
   "metadata": {
    "colab": {
     "base_uri": "https://localhost:8080/"
    },
    "id": "UaTzd3ujHZ_7",
    "outputId": "38b98e32-78ec-411b-e03a-253c59a88032"
   },
   "outputs": [
    {
     "data": {
      "text/plain": [
       "0.4514284343039647"
      ]
     },
     "execution_count": 32,
     "metadata": {},
     "output_type": "execute_result"
    }
   ],
   "source": [
    "from sklearn.metrics import f1_score\n",
    "\n",
    "y_true = np.argmax(y_test_bert, axis = -1)\n",
    "y_pred = predictions\n",
    "\n",
    "f1_score(y_true, y_pred, average='macro')"
   ]
  },
  {
   "cell_type": "code",
   "execution_count": null,
   "metadata": {
    "colab": {
     "base_uri": "https://localhost:8080/"
    },
    "id": "P0qRJfAfpaKc",
    "outputId": "bc54008f-7f34-488b-ff01-eca747809544"
   },
   "outputs": [
    {
     "name": "stdout",
     "output_type": "stream",
     "text": [
      "Confusion matrix:\n",
      "\n",
      "\n",
      "\n",
      "\n",
      "\n",
      "\n",
      "\n",
      "\n",
      "\n",
      "\n",
      "\n",
      "\n",
      "\n",
      "\n",
      "\n",
      " [[1066   56   26    5    2    8    0    2   15    0    0    3    5  174]\n",
      "\n",
      "\n",
      "\n",
      "\n",
      "\n",
      "\n",
      "\n",
      "\n",
      "\n",
      "\n",
      "\n",
      "\n",
      "\n",
      "\n",
      "\n",
      " [  39  330    3    0    0   11    0    0    5    0    0    0    5   34]\n",
      "\n",
      "\n",
      "\n",
      "\n",
      "\n",
      "\n",
      "\n",
      "\n",
      "\n",
      "\n",
      "\n",
      "\n",
      "\n",
      "\n",
      "\n",
      " [  27   20  466    0    7   17    1    5    2    0    0   23    7  211]\n",
      "\n",
      "\n",
      "\n",
      "\n",
      "\n",
      "\n",
      "\n",
      "\n",
      "\n",
      "\n",
      "\n",
      "\n",
      "\n",
      "\n",
      "\n",
      " [  26    4    8   18    0    1    0    2   10    0    0    4    0   28]\n",
      "\n",
      "\n",
      "\n",
      "\n",
      "\n",
      "\n",
      "\n",
      "\n",
      "\n",
      "\n",
      "\n",
      "\n",
      "\n",
      "\n",
      "\n",
      " [   3    3    6    0   39   38    0    1    0    0    0    0    2   38]\n",
      "\n",
      "\n",
      "\n",
      "\n",
      "\n",
      "\n",
      "\n",
      "\n",
      "\n",
      "\n",
      "\n",
      "\n",
      "\n",
      "\n",
      "\n",
      " [   6    4    9    0    8  134    0    4    2    0    0    5    8   41]\n",
      "\n",
      "\n",
      "\n",
      "\n",
      "\n",
      "\n",
      "\n",
      "\n",
      "\n",
      "\n",
      "\n",
      "\n",
      "\n",
      "\n",
      "\n",
      " [   8    2    6    0    0    0   16    1   14    0    0    2    0   19]\n",
      "\n",
      "\n",
      "\n",
      "\n",
      "\n",
      "\n",
      "\n",
      "\n",
      "\n",
      "\n",
      "\n",
      "\n",
      "\n",
      "\n",
      "\n",
      " [   2    0   24    0    0    1    0   49    0    0    0   10    0    4]\n",
      "\n",
      "\n",
      "\n",
      "\n",
      "\n",
      "\n",
      "\n",
      "\n",
      "\n",
      "\n",
      "\n",
      "\n",
      "\n",
      "\n",
      "\n",
      " [  16    9    0    3    0    1    3    0   63    1    0    0    1   24]\n",
      "\n",
      "\n",
      "\n",
      "\n",
      "\n",
      "\n",
      "\n",
      "\n",
      "\n",
      "\n",
      "\n",
      "\n",
      "\n",
      "\n",
      "\n",
      " [  10    9    7    0    2    1    0    1    0    0    0    5   10   67]\n",
      "\n",
      "\n",
      "\n",
      "\n",
      "\n",
      "\n",
      "\n",
      "\n",
      "\n",
      "\n",
      "\n",
      "\n",
      "\n",
      "\n",
      "\n",
      " [   3    2    0    1    0    0    0    0    0    0    0    0    0    1]\n",
      "\n",
      "\n",
      "\n",
      "\n",
      "\n",
      "\n",
      "\n",
      "\n",
      "\n",
      "\n",
      "\n",
      "\n",
      "\n",
      "\n",
      "\n",
      " [  12    8   50    2    2    6    1    3    2    0    0  153    6   59]\n",
      "\n",
      "\n",
      "\n",
      "\n",
      "\n",
      "\n",
      "\n",
      "\n",
      "\n",
      "\n",
      "\n",
      "\n",
      "\n",
      "\n",
      "\n",
      " [   7    8    9    0    8    3    0    1    0    0    0    2   35   19]\n",
      "\n",
      "\n",
      "\n",
      "\n",
      "\n",
      "\n",
      "\n",
      "\n",
      "\n",
      "\n",
      "\n",
      "\n",
      "\n",
      "\n",
      "\n",
      " [ 110   46  150    2   17   83    3    5    9    0    0   38    7 1136]]\n"
     ]
    }
   ],
   "source": [
    "from sklearn.metrics import confusion_matrix\n",
    "\n",
    "y_true = np.argmax(y_test_bert, axis = -1)\n",
    "y_pred = predictions\n",
    "\n",
    "cm = confusion_matrix(y_true, y_pred)\n",
    "\n",
    "print(\"Confusion matrix:\\n\", cm)"
   ]
  },
  {
   "cell_type": "markdown",
   "metadata": {},
   "source": [
    "The final Deberta variant which included a MAX_LEN padding sequence of 128 achieved an accuracy of 64.58% one of the highest accuracies achieved in all experimentes, however, when it comes to F1-score it only achieved 0.4514 which is worst than some of the other experiments. This is further showcased by this model being unable to correctly classify any instances belonging to classes 9 or 10. This variation of the deberta model does perform the best in regards to accuracy, however, when it comes to the more important metric in this usecase, the F1-score it falls behind it's variations."
   ]
  },
  {
   "cell_type": "markdown",
   "metadata": {},
   "source": [
    "## Conclusion\n",
    "The best performing variation of the deberta experiment was the second variation with the shorted padding sequence. Whilst the final variation performed better with regards to accuracy, it was outperformed when it came to the f1-score. Another reason for the second variation being picked as the best variation is the shorter time and computational power required to train this model. The increase in these when running the final variation does not justify using this version especially when it is unable to achieve a better f1-score than the second version. The similarity in these variation's performances were expected as they have a very similar structure with the only difference being the pre-processing methods use (padding sequence). From this experiment we can conclude that increasing the length of the padding sequence does not impact the model positively."
   ]
  },
  {
   "cell_type": "markdown",
   "metadata": {},
   "source": [
    "# Evaluation of Outcomes\n",
    "* The models built can fulfil their purpose to a reasonable manner, especially the transformer models (bert in specific). Obtaining super high accuracy (above 70-75%) in such NLP tasks with imbalanced datasets and other challenges is super difficult and for this reason the performance obtained by variation 3 can be regarded reasonable. Accuracy may not be the most important metric in this experiment as explained earlier due to the class imbalance of the dataset. Hence, the F1-score was used as the primary metric when making decisions to address this class imbalance. \n",
    "* Another important factor to consider is the computational power and time it takes to train some of these models, more specifically the transformer models. When experimenting with a larger padded sequence of data the training time on the transformers were excessive for the increase in performance provided by these (~35 mins per epoch). It is always important to consider the efficiency of more complex models compared to the improved performance of these because in larger projects this can become a big cost.\n",
    "* Overall the worst classified classes were 9 and 10(only a single correct classification) and the classes which were classified the best were 0,1,2 and 13. This is to be expected to a degree due to the nature of the dataset and the task at hand and for this reason F1-score was classed more important than accuracy in the evaluation metrics.\n",
    "* The SVM model can benefit from hyperparameter optimization and experimentation with different pre-processing techniques in order to improve.\n",
    "* The GRU models performed better than the SVMs, however, they are still significantly outperformed by the transformer models. Whilst the GRU models can benefit from fruther optimisation, it is unlikely for them to be able to outperform the state of the art transformer models.\n",
    "* Both the transformer models could benefit from hyperparameter optimization and further experimentation with different types of transformers and techniques. It is important to note that the bert variation using MAX_LEN = 128 for padding sequence was the only model able to correctly classify an instance of class 10. This model was also overall the best performing model with regards to other metrics such as accuracy and F1-score.\n",
    "* In order to consider efficiency it is advised to used the transformers with sequence padding length of 33 instead of 128 as the improvement on performance does not justify training times of over 6 times longer.  \n",
    "* in order to improve the efficiency of the best performing model, knowledge distillation can be applied. This is a technique involving the training of a smaller, more simple model to mimic the behaviour of a larger, more complex model. The large model is trained first and the smaller model is trained to predict the same outputs as the larger model. It is done so the larger model can learn useful representations that can be transferred to the smaller model, leading to a smaller and more efficient model which is still able to perform well. \n",
    "* It is important to note that these models were all trained on GPUs in order to improve the efficiency of these tasks.\n",
    "\n",
    "Overall this project can be regarded a success as experimentation was conducted on a range of different algorithms all with a range of different variations and acceptable results were achieved. \n"
   ]
  }
 ],
 "metadata": {
  "accelerator": "GPU",
  "colab": {
   "provenance": []
  },
  "gpuClass": "standard",
  "kernelspec": {
   "display_name": "Python 3 (ipykernel)",
   "language": "python",
   "name": "python3"
  },
  "language_info": {
   "codemirror_mode": {
    "name": "ipython",
    "version": 3
   },
   "file_extension": ".py",
   "mimetype": "text/x-python",
   "name": "python",
   "nbconvert_exporter": "python",
   "pygments_lexer": "ipython3",
   "version": "3.9.13"
  },
  "widgets": {
   "application/vnd.jupyter.widget-state+json": {
    "00e5cb3adcef4f2dba1451661b5dc940": {
     "model_module": "@jupyter-widgets/controls",
     "model_module_version": "1.5.0",
     "model_name": "DescriptionStyleModel",
     "state": {
      "_model_module": "@jupyter-widgets/controls",
      "_model_module_version": "1.5.0",
      "_model_name": "DescriptionStyleModel",
      "_view_count": null,
      "_view_module": "@jupyter-widgets/base",
      "_view_module_version": "1.2.0",
      "_view_name": "StyleView",
      "description_width": ""
     }
    },
    "0171c69a2e9548acb8b52c2dec99c091": {
     "model_module": "@jupyter-widgets/controls",
     "model_module_version": "1.5.0",
     "model_name": "HTMLModel",
     "state": {
      "_dom_classes": [],
      "_model_module": "@jupyter-widgets/controls",
      "_model_module_version": "1.5.0",
      "_model_name": "HTMLModel",
      "_view_count": null,
      "_view_module": "@jupyter-widgets/controls",
      "_view_module_version": "1.5.0",
      "_view_name": "HTMLView",
      "description": "",
      "description_tooltip": null,
      "layout": "IPY_MODEL_12ea55cd0e664840800f931f1190757a",
      "placeholder": "​",
      "style": "IPY_MODEL_273fd5c3ac8a40749d753b1f4c67fb37",
      "value": " 474/474 [00:00&lt;00:00, 9.37kB/s]"
     }
    },
    "07351e1db00b4d9c8177698d48e93e6b": {
     "model_module": "@jupyter-widgets/controls",
     "model_module_version": "1.5.0",
     "model_name": "DescriptionStyleModel",
     "state": {
      "_model_module": "@jupyter-widgets/controls",
      "_model_module_version": "1.5.0",
      "_model_name": "DescriptionStyleModel",
      "_view_count": null,
      "_view_module": "@jupyter-widgets/base",
      "_view_module_version": "1.2.0",
      "_view_name": "StyleView",
      "description_width": ""
     }
    },
    "07d79734f25445fc9d850640a4d9e732": {
     "model_module": "@jupyter-widgets/base",
     "model_module_version": "1.2.0",
     "model_name": "LayoutModel",
     "state": {
      "_model_module": "@jupyter-widgets/base",
      "_model_module_version": "1.2.0",
      "_model_name": "LayoutModel",
      "_view_count": null,
      "_view_module": "@jupyter-widgets/base",
      "_view_module_version": "1.2.0",
      "_view_name": "LayoutView",
      "align_content": null,
      "align_items": null,
      "align_self": null,
      "border": null,
      "bottom": null,
      "display": null,
      "flex": null,
      "flex_flow": null,
      "grid_area": null,
      "grid_auto_columns": null,
      "grid_auto_flow": null,
      "grid_auto_rows": null,
      "grid_column": null,
      "grid_gap": null,
      "grid_row": null,
      "grid_template_areas": null,
      "grid_template_columns": null,
      "grid_template_rows": null,
      "height": null,
      "justify_content": null,
      "justify_items": null,
      "left": null,
      "margin": null,
      "max_height": null,
      "max_width": null,
      "min_height": null,
      "min_width": null,
      "object_fit": null,
      "object_position": null,
      "order": null,
      "overflow": null,
      "overflow_x": null,
      "overflow_y": null,
      "padding": null,
      "right": null,
      "top": null,
      "visibility": null,
      "width": null
     }
    },
    "0b2776e138d8463a8344e72a1f366abb": {
     "model_module": "@jupyter-widgets/controls",
     "model_module_version": "1.5.0",
     "model_name": "HTMLModel",
     "state": {
      "_dom_classes": [],
      "_model_module": "@jupyter-widgets/controls",
      "_model_module_version": "1.5.0",
      "_model_name": "HTMLModel",
      "_view_count": null,
      "_view_module": "@jupyter-widgets/controls",
      "_view_module_version": "1.5.0",
      "_view_name": "HTMLView",
      "description": "",
      "description_tooltip": null,
      "layout": "IPY_MODEL_d6c80e0bdbc940e0a079d62c16757f11",
      "placeholder": "​",
      "style": "IPY_MODEL_d594bb1653b94771a61a72e3d840cfaf",
      "value": " 52.0/52.0 [00:00&lt;00:00, 680B/s]"
     }
    },
    "12e73f3ef53c417c83bf8f7f1e242aba": {
     "model_module": "@jupyter-widgets/controls",
     "model_module_version": "1.5.0",
     "model_name": "ProgressStyleModel",
     "state": {
      "_model_module": "@jupyter-widgets/controls",
      "_model_module_version": "1.5.0",
      "_model_name": "ProgressStyleModel",
      "_view_count": null,
      "_view_module": "@jupyter-widgets/base",
      "_view_module_version": "1.2.0",
      "_view_name": "StyleView",
      "bar_color": null,
      "description_width": ""
     }
    },
    "12ea55cd0e664840800f931f1190757a": {
     "model_module": "@jupyter-widgets/base",
     "model_module_version": "1.2.0",
     "model_name": "LayoutModel",
     "state": {
      "_model_module": "@jupyter-widgets/base",
      "_model_module_version": "1.2.0",
      "_model_name": "LayoutModel",
      "_view_count": null,
      "_view_module": "@jupyter-widgets/base",
      "_view_module_version": "1.2.0",
      "_view_name": "LayoutView",
      "align_content": null,
      "align_items": null,
      "align_self": null,
      "border": null,
      "bottom": null,
      "display": null,
      "flex": null,
      "flex_flow": null,
      "grid_area": null,
      "grid_auto_columns": null,
      "grid_auto_flow": null,
      "grid_auto_rows": null,
      "grid_column": null,
      "grid_gap": null,
      "grid_row": null,
      "grid_template_areas": null,
      "grid_template_columns": null,
      "grid_template_rows": null,
      "height": null,
      "justify_content": null,
      "justify_items": null,
      "left": null,
      "margin": null,
      "max_height": null,
      "max_width": null,
      "min_height": null,
      "min_width": null,
      "object_fit": null,
      "object_position": null,
      "order": null,
      "overflow": null,
      "overflow_x": null,
      "overflow_y": null,
      "padding": null,
      "right": null,
      "top": null,
      "visibility": null,
      "width": null
     }
    },
    "273fd5c3ac8a40749d753b1f4c67fb37": {
     "model_module": "@jupyter-widgets/controls",
     "model_module_version": "1.5.0",
     "model_name": "DescriptionStyleModel",
     "state": {
      "_model_module": "@jupyter-widgets/controls",
      "_model_module_version": "1.5.0",
      "_model_name": "DescriptionStyleModel",
      "_view_count": null,
      "_view_module": "@jupyter-widgets/base",
      "_view_module_version": "1.2.0",
      "_view_name": "StyleView",
      "description_width": ""
     }
    },
    "27a60e66c2c64aa5835a96f6c9b5113f": {
     "model_module": "@jupyter-widgets/base",
     "model_module_version": "1.2.0",
     "model_name": "LayoutModel",
     "state": {
      "_model_module": "@jupyter-widgets/base",
      "_model_module_version": "1.2.0",
      "_model_name": "LayoutModel",
      "_view_count": null,
      "_view_module": "@jupyter-widgets/base",
      "_view_module_version": "1.2.0",
      "_view_name": "LayoutView",
      "align_content": null,
      "align_items": null,
      "align_self": null,
      "border": null,
      "bottom": null,
      "display": null,
      "flex": null,
      "flex_flow": null,
      "grid_area": null,
      "grid_auto_columns": null,
      "grid_auto_flow": null,
      "grid_auto_rows": null,
      "grid_column": null,
      "grid_gap": null,
      "grid_row": null,
      "grid_template_areas": null,
      "grid_template_columns": null,
      "grid_template_rows": null,
      "height": null,
      "justify_content": null,
      "justify_items": null,
      "left": null,
      "margin": null,
      "max_height": null,
      "max_width": null,
      "min_height": null,
      "min_width": null,
      "object_fit": null,
      "object_position": null,
      "order": null,
      "overflow": null,
      "overflow_x": null,
      "overflow_y": null,
      "padding": null,
      "right": null,
      "top": null,
      "visibility": null,
      "width": null
     }
    },
    "2d50d75659214474ac712fadb8d18369": {
     "model_module": "@jupyter-widgets/controls",
     "model_module_version": "1.5.0",
     "model_name": "FloatProgressModel",
     "state": {
      "_dom_classes": [],
      "_model_module": "@jupyter-widgets/controls",
      "_model_module_version": "1.5.0",
      "_model_name": "FloatProgressModel",
      "_view_count": null,
      "_view_module": "@jupyter-widgets/controls",
      "_view_module_version": "1.5.0",
      "_view_name": "ProgressView",
      "bar_style": "success",
      "description": "",
      "description_tooltip": null,
      "layout": "IPY_MODEL_66735700c52c41cea743c2f465333a51",
      "max": 52,
      "min": 0,
      "orientation": "horizontal",
      "style": "IPY_MODEL_d97079e1a98e407b9d3349f26747de38",
      "value": 52
     }
    },
    "333ab068554d4eff987b1bf5572aa7db": {
     "model_module": "@jupyter-widgets/controls",
     "model_module_version": "1.5.0",
     "model_name": "HTMLModel",
     "state": {
      "_dom_classes": [],
      "_model_module": "@jupyter-widgets/controls",
      "_model_module_version": "1.5.0",
      "_model_name": "HTMLModel",
      "_view_count": null,
      "_view_module": "@jupyter-widgets/controls",
      "_view_module_version": "1.5.0",
      "_view_name": "HTMLView",
      "description": "",
      "description_tooltip": null,
      "layout": "IPY_MODEL_7bd7ea5bca714370b08023b884c76bc3",
      "placeholder": "​",
      "style": "IPY_MODEL_edefaeadc2e54d7eba79a041b1ecc572",
      "value": "Downloading (…)olve/main/vocab.json: 100%"
     }
    },
    "3aa321f1414f498b97a4ee23b6ee6a08": {
     "model_module": "@jupyter-widgets/controls",
     "model_module_version": "1.5.0",
     "model_name": "DescriptionStyleModel",
     "state": {
      "_model_module": "@jupyter-widgets/controls",
      "_model_module_version": "1.5.0",
      "_model_name": "DescriptionStyleModel",
      "_view_count": null,
      "_view_module": "@jupyter-widgets/base",
      "_view_module_version": "1.2.0",
      "_view_name": "StyleView",
      "description_width": ""
     }
    },
    "3e7f42b89d5c411b9a9f19092c27998f": {
     "model_module": "@jupyter-widgets/controls",
     "model_module_version": "1.5.0",
     "model_name": "FloatProgressModel",
     "state": {
      "_dom_classes": [],
      "_model_module": "@jupyter-widgets/controls",
      "_model_module_version": "1.5.0",
      "_model_name": "FloatProgressModel",
      "_view_count": null,
      "_view_module": "@jupyter-widgets/controls",
      "_view_module_version": "1.5.0",
      "_view_name": "ProgressView",
      "bar_style": "success",
      "description": "",
      "description_tooltip": null,
      "layout": "IPY_MODEL_8d3f4c7219a54935933df393e5ebb99a",
      "max": 898825,
      "min": 0,
      "orientation": "horizontal",
      "style": "IPY_MODEL_12e73f3ef53c417c83bf8f7f1e242aba",
      "value": 898825
     }
    },
    "43ab65fa5a6944848f3fb4fe75e5f8ae": {
     "model_module": "@jupyter-widgets/base",
     "model_module_version": "1.2.0",
     "model_name": "LayoutModel",
     "state": {
      "_model_module": "@jupyter-widgets/base",
      "_model_module_version": "1.2.0",
      "_model_name": "LayoutModel",
      "_view_count": null,
      "_view_module": "@jupyter-widgets/base",
      "_view_module_version": "1.2.0",
      "_view_name": "LayoutView",
      "align_content": null,
      "align_items": null,
      "align_self": null,
      "border": null,
      "bottom": null,
      "display": null,
      "flex": null,
      "flex_flow": null,
      "grid_area": null,
      "grid_auto_columns": null,
      "grid_auto_flow": null,
      "grid_auto_rows": null,
      "grid_column": null,
      "grid_gap": null,
      "grid_row": null,
      "grid_template_areas": null,
      "grid_template_columns": null,
      "grid_template_rows": null,
      "height": null,
      "justify_content": null,
      "justify_items": null,
      "left": null,
      "margin": null,
      "max_height": null,
      "max_width": null,
      "min_height": null,
      "min_width": null,
      "object_fit": null,
      "object_position": null,
      "order": null,
      "overflow": null,
      "overflow_x": null,
      "overflow_y": null,
      "padding": null,
      "right": null,
      "top": null,
      "visibility": null,
      "width": null
     }
    },
    "453bd203a6724656b17bc18dca437fb7": {
     "model_module": "@jupyter-widgets/controls",
     "model_module_version": "1.5.0",
     "model_name": "HTMLModel",
     "state": {
      "_dom_classes": [],
      "_model_module": "@jupyter-widgets/controls",
      "_model_module_version": "1.5.0",
      "_model_name": "HTMLModel",
      "_view_count": null,
      "_view_module": "@jupyter-widgets/controls",
      "_view_module_version": "1.5.0",
      "_view_name": "HTMLView",
      "description": "",
      "description_tooltip": null,
      "layout": "IPY_MODEL_c6289ab0690b4e05a11ccf4808502905",
      "placeholder": "​",
      "style": "IPY_MODEL_00e5cb3adcef4f2dba1451661b5dc940",
      "value": " 456k/456k [00:00&lt;00:00, 3.99MB/s]"
     }
    },
    "48a266999062488d909a5431cb816cd0": {
     "model_module": "@jupyter-widgets/controls",
     "model_module_version": "1.5.0",
     "model_name": "HTMLModel",
     "state": {
      "_dom_classes": [],
      "_model_module": "@jupyter-widgets/controls",
      "_model_module_version": "1.5.0",
      "_model_name": "HTMLModel",
      "_view_count": null,
      "_view_module": "@jupyter-widgets/controls",
      "_view_module_version": "1.5.0",
      "_view_name": "HTMLView",
      "description": "",
      "description_tooltip": null,
      "layout": "IPY_MODEL_27a60e66c2c64aa5835a96f6c9b5113f",
      "placeholder": "​",
      "style": "IPY_MODEL_3aa321f1414f498b97a4ee23b6ee6a08",
      "value": "Downloading (…)olve/main/merges.txt: 100%"
     }
    },
    "4993d7c571074b279e302fe778dca020": {
     "model_module": "@jupyter-widgets/base",
     "model_module_version": "1.2.0",
     "model_name": "LayoutModel",
     "state": {
      "_model_module": "@jupyter-widgets/base",
      "_model_module_version": "1.2.0",
      "_model_name": "LayoutModel",
      "_view_count": null,
      "_view_module": "@jupyter-widgets/base",
      "_view_module_version": "1.2.0",
      "_view_name": "LayoutView",
      "align_content": null,
      "align_items": null,
      "align_self": null,
      "border": null,
      "bottom": null,
      "display": null,
      "flex": null,
      "flex_flow": null,
      "grid_area": null,
      "grid_auto_columns": null,
      "grid_auto_flow": null,
      "grid_auto_rows": null,
      "grid_column": null,
      "grid_gap": null,
      "grid_row": null,
      "grid_template_areas": null,
      "grid_template_columns": null,
      "grid_template_rows": null,
      "height": null,
      "justify_content": null,
      "justify_items": null,
      "left": null,
      "margin": null,
      "max_height": null,
      "max_width": null,
      "min_height": null,
      "min_width": null,
      "object_fit": null,
      "object_position": null,
      "order": null,
      "overflow": null,
      "overflow_x": null,
      "overflow_y": null,
      "padding": null,
      "right": null,
      "top": null,
      "visibility": null,
      "width": null
     }
    },
    "4a7630d0569649c4aa2381a384c269c0": {
     "model_module": "@jupyter-widgets/controls",
     "model_module_version": "1.5.0",
     "model_name": "FloatProgressModel",
     "state": {
      "_dom_classes": [],
      "_model_module": "@jupyter-widgets/controls",
      "_model_module_version": "1.5.0",
      "_model_name": "FloatProgressModel",
      "_view_count": null,
      "_view_module": "@jupyter-widgets/controls",
      "_view_module_version": "1.5.0",
      "_view_name": "ProgressView",
      "bar_style": "success",
      "description": "",
      "description_tooltip": null,
      "layout": "IPY_MODEL_dcfa79bd75074162a12ccb483692db56",
      "max": 554669920,
      "min": 0,
      "orientation": "horizontal",
      "style": "IPY_MODEL_d64163d624a6423eb326608713234969",
      "value": 554669920
     }
    },
    "50b36d19789e43379f9cadcff2d71441": {
     "model_module": "@jupyter-widgets/controls",
     "model_module_version": "1.5.0",
     "model_name": "HBoxModel",
     "state": {
      "_dom_classes": [],
      "_model_module": "@jupyter-widgets/controls",
      "_model_module_version": "1.5.0",
      "_model_name": "HBoxModel",
      "_view_count": null,
      "_view_module": "@jupyter-widgets/controls",
      "_view_module_version": "1.5.0",
      "_view_name": "HBoxView",
      "box_style": "",
      "children": [
       "IPY_MODEL_fc2e74b5aeca41a58b81ef74b6cc9f5f",
       "IPY_MODEL_b2569719f6cb4908b5d9cdedbe8dffec",
       "IPY_MODEL_0171c69a2e9548acb8b52c2dec99c091"
      ],
      "layout": "IPY_MODEL_4993d7c571074b279e302fe778dca020"
     }
    },
    "5d112af8eeef44768b19456132b099e6": {
     "model_module": "@jupyter-widgets/base",
     "model_module_version": "1.2.0",
     "model_name": "LayoutModel",
     "state": {
      "_model_module": "@jupyter-widgets/base",
      "_model_module_version": "1.2.0",
      "_model_name": "LayoutModel",
      "_view_count": null,
      "_view_module": "@jupyter-widgets/base",
      "_view_module_version": "1.2.0",
      "_view_name": "LayoutView",
      "align_content": null,
      "align_items": null,
      "align_self": null,
      "border": null,
      "bottom": null,
      "display": null,
      "flex": null,
      "flex_flow": null,
      "grid_area": null,
      "grid_auto_columns": null,
      "grid_auto_flow": null,
      "grid_auto_rows": null,
      "grid_column": null,
      "grid_gap": null,
      "grid_row": null,
      "grid_template_areas": null,
      "grid_template_columns": null,
      "grid_template_rows": null,
      "height": null,
      "justify_content": null,
      "justify_items": null,
      "left": null,
      "margin": null,
      "max_height": null,
      "max_width": null,
      "min_height": null,
      "min_width": null,
      "object_fit": null,
      "object_position": null,
      "order": null,
      "overflow": null,
      "overflow_x": null,
      "overflow_y": null,
      "padding": null,
      "right": null,
      "top": null,
      "visibility": null,
      "width": null
     }
    },
    "611ba3f864eb47ba84bfeee800ce2d64": {
     "model_module": "@jupyter-widgets/base",
     "model_module_version": "1.2.0",
     "model_name": "LayoutModel",
     "state": {
      "_model_module": "@jupyter-widgets/base",
      "_model_module_version": "1.2.0",
      "_model_name": "LayoutModel",
      "_view_count": null,
      "_view_module": "@jupyter-widgets/base",
      "_view_module_version": "1.2.0",
      "_view_name": "LayoutView",
      "align_content": null,
      "align_items": null,
      "align_self": null,
      "border": null,
      "bottom": null,
      "display": null,
      "flex": null,
      "flex_flow": null,
      "grid_area": null,
      "grid_auto_columns": null,
      "grid_auto_flow": null,
      "grid_auto_rows": null,
      "grid_column": null,
      "grid_gap": null,
      "grid_row": null,
      "grid_template_areas": null,
      "grid_template_columns": null,
      "grid_template_rows": null,
      "height": null,
      "justify_content": null,
      "justify_items": null,
      "left": null,
      "margin": null,
      "max_height": null,
      "max_width": null,
      "min_height": null,
      "min_width": null,
      "object_fit": null,
      "object_position": null,
      "order": null,
      "overflow": null,
      "overflow_x": null,
      "overflow_y": null,
      "padding": null,
      "right": null,
      "top": null,
      "visibility": null,
      "width": null
     }
    },
    "62867bdfcd8142118c8ac7095c00584c": {
     "model_module": "@jupyter-widgets/base",
     "model_module_version": "1.2.0",
     "model_name": "LayoutModel",
     "state": {
      "_model_module": "@jupyter-widgets/base",
      "_model_module_version": "1.2.0",
      "_model_name": "LayoutModel",
      "_view_count": null,
      "_view_module": "@jupyter-widgets/base",
      "_view_module_version": "1.2.0",
      "_view_name": "LayoutView",
      "align_content": null,
      "align_items": null,
      "align_self": null,
      "border": null,
      "bottom": null,
      "display": null,
      "flex": null,
      "flex_flow": null,
      "grid_area": null,
      "grid_auto_columns": null,
      "grid_auto_flow": null,
      "grid_auto_rows": null,
      "grid_column": null,
      "grid_gap": null,
      "grid_row": null,
      "grid_template_areas": null,
      "grid_template_columns": null,
      "grid_template_rows": null,
      "height": null,
      "justify_content": null,
      "justify_items": null,
      "left": null,
      "margin": null,
      "max_height": null,
      "max_width": null,
      "min_height": null,
      "min_width": null,
      "object_fit": null,
      "object_position": null,
      "order": null,
      "overflow": null,
      "overflow_x": null,
      "overflow_y": null,
      "padding": null,
      "right": null,
      "top": null,
      "visibility": null,
      "width": null
     }
    },
    "62edd64e1ed448c9850c25fe4212336b": {
     "model_module": "@jupyter-widgets/controls",
     "model_module_version": "1.5.0",
     "model_name": "HTMLModel",
     "state": {
      "_dom_classes": [],
      "_model_module": "@jupyter-widgets/controls",
      "_model_module_version": "1.5.0",
      "_model_name": "HTMLModel",
      "_view_count": null,
      "_view_module": "@jupyter-widgets/controls",
      "_view_module_version": "1.5.0",
      "_view_name": "HTMLView",
      "description": "",
      "description_tooltip": null,
      "layout": "IPY_MODEL_5d112af8eeef44768b19456132b099e6",
      "placeholder": "​",
      "style": "IPY_MODEL_b0f9e2692132427190070473347bf2d1",
      "value": " 899k/899k [00:00&lt;00:00, 7.98MB/s]"
     }
    },
    "63d4cc30f459483a81c1f33f3e0916e4": {
     "model_module": "@jupyter-widgets/controls",
     "model_module_version": "1.5.0",
     "model_name": "HBoxModel",
     "state": {
      "_dom_classes": [],
      "_model_module": "@jupyter-widgets/controls",
      "_model_module_version": "1.5.0",
      "_model_name": "HBoxModel",
      "_view_count": null,
      "_view_module": "@jupyter-widgets/controls",
      "_view_module_version": "1.5.0",
      "_view_name": "HBoxView",
      "box_style": "",
      "children": [
       "IPY_MODEL_333ab068554d4eff987b1bf5572aa7db",
       "IPY_MODEL_3e7f42b89d5c411b9a9f19092c27998f",
       "IPY_MODEL_62edd64e1ed448c9850c25fe4212336b"
      ],
      "layout": "IPY_MODEL_f432f4785cb74f9aa153d759c88cd089"
     }
    },
    "6549262624b3497293754beba37c2ceb": {
     "model_module": "@jupyter-widgets/controls",
     "model_module_version": "1.5.0",
     "model_name": "HTMLModel",
     "state": {
      "_dom_classes": [],
      "_model_module": "@jupyter-widgets/controls",
      "_model_module_version": "1.5.0",
      "_model_name": "HTMLModel",
      "_view_count": null,
      "_view_module": "@jupyter-widgets/controls",
      "_view_module_version": "1.5.0",
      "_view_name": "HTMLView",
      "description": "",
      "description_tooltip": null,
      "layout": "IPY_MODEL_07d79734f25445fc9d850640a4d9e732",
      "placeholder": "​",
      "style": "IPY_MODEL_07351e1db00b4d9c8177698d48e93e6b",
      "value": "Downloading (…)okenizer_config.json: 100%"
     }
    },
    "66735700c52c41cea743c2f465333a51": {
     "model_module": "@jupyter-widgets/base",
     "model_module_version": "1.2.0",
     "model_name": "LayoutModel",
     "state": {
      "_model_module": "@jupyter-widgets/base",
      "_model_module_version": "1.2.0",
      "_model_name": "LayoutModel",
      "_view_count": null,
      "_view_module": "@jupyter-widgets/base",
      "_view_module_version": "1.2.0",
      "_view_name": "LayoutView",
      "align_content": null,
      "align_items": null,
      "align_self": null,
      "border": null,
      "bottom": null,
      "display": null,
      "flex": null,
      "flex_flow": null,
      "grid_area": null,
      "grid_auto_columns": null,
      "grid_auto_flow": null,
      "grid_auto_rows": null,
      "grid_column": null,
      "grid_gap": null,
      "grid_row": null,
      "grid_template_areas": null,
      "grid_template_columns": null,
      "grid_template_rows": null,
      "height": null,
      "justify_content": null,
      "justify_items": null,
      "left": null,
      "margin": null,
      "max_height": null,
      "max_width": null,
      "min_height": null,
      "min_width": null,
      "object_fit": null,
      "object_position": null,
      "order": null,
      "overflow": null,
      "overflow_x": null,
      "overflow_y": null,
      "padding": null,
      "right": null,
      "top": null,
      "visibility": null,
      "width": null
     }
    },
    "74477b104da04e46a2895e222a76c6a2": {
     "model_module": "@jupyter-widgets/base",
     "model_module_version": "1.2.0",
     "model_name": "LayoutModel",
     "state": {
      "_model_module": "@jupyter-widgets/base",
      "_model_module_version": "1.2.0",
      "_model_name": "LayoutModel",
      "_view_count": null,
      "_view_module": "@jupyter-widgets/base",
      "_view_module_version": "1.2.0",
      "_view_name": "LayoutView",
      "align_content": null,
      "align_items": null,
      "align_self": null,
      "border": null,
      "bottom": null,
      "display": null,
      "flex": null,
      "flex_flow": null,
      "grid_area": null,
      "grid_auto_columns": null,
      "grid_auto_flow": null,
      "grid_auto_rows": null,
      "grid_column": null,
      "grid_gap": null,
      "grid_row": null,
      "grid_template_areas": null,
      "grid_template_columns": null,
      "grid_template_rows": null,
      "height": null,
      "justify_content": null,
      "justify_items": null,
      "left": null,
      "margin": null,
      "max_height": null,
      "max_width": null,
      "min_height": null,
      "min_width": null,
      "object_fit": null,
      "object_position": null,
      "order": null,
      "overflow": null,
      "overflow_x": null,
      "overflow_y": null,
      "padding": null,
      "right": null,
      "top": null,
      "visibility": null,
      "width": null
     }
    },
    "7bd7ea5bca714370b08023b884c76bc3": {
     "model_module": "@jupyter-widgets/base",
     "model_module_version": "1.2.0",
     "model_name": "LayoutModel",
     "state": {
      "_model_module": "@jupyter-widgets/base",
      "_model_module_version": "1.2.0",
      "_model_name": "LayoutModel",
      "_view_count": null,
      "_view_module": "@jupyter-widgets/base",
      "_view_module_version": "1.2.0",
      "_view_name": "LayoutView",
      "align_content": null,
      "align_items": null,
      "align_self": null,
      "border": null,
      "bottom": null,
      "display": null,
      "flex": null,
      "flex_flow": null,
      "grid_area": null,
      "grid_auto_columns": null,
      "grid_auto_flow": null,
      "grid_auto_rows": null,
      "grid_column": null,
      "grid_gap": null,
      "grid_row": null,
      "grid_template_areas": null,
      "grid_template_columns": null,
      "grid_template_rows": null,
      "height": null,
      "justify_content": null,
      "justify_items": null,
      "left": null,
      "margin": null,
      "max_height": null,
      "max_width": null,
      "min_height": null,
      "min_width": null,
      "object_fit": null,
      "object_position": null,
      "order": null,
      "overflow": null,
      "overflow_x": null,
      "overflow_y": null,
      "padding": null,
      "right": null,
      "top": null,
      "visibility": null,
      "width": null
     }
    },
    "87958171b2384b8bba3136b91171e5d3": {
     "model_module": "@jupyter-widgets/base",
     "model_module_version": "1.2.0",
     "model_name": "LayoutModel",
     "state": {
      "_model_module": "@jupyter-widgets/base",
      "_model_module_version": "1.2.0",
      "_model_name": "LayoutModel",
      "_view_count": null,
      "_view_module": "@jupyter-widgets/base",
      "_view_module_version": "1.2.0",
      "_view_name": "LayoutView",
      "align_content": null,
      "align_items": null,
      "align_self": null,
      "border": null,
      "bottom": null,
      "display": null,
      "flex": null,
      "flex_flow": null,
      "grid_area": null,
      "grid_auto_columns": null,
      "grid_auto_flow": null,
      "grid_auto_rows": null,
      "grid_column": null,
      "grid_gap": null,
      "grid_row": null,
      "grid_template_areas": null,
      "grid_template_columns": null,
      "grid_template_rows": null,
      "height": null,
      "justify_content": null,
      "justify_items": null,
      "left": null,
      "margin": null,
      "max_height": null,
      "max_width": null,
      "min_height": null,
      "min_width": null,
      "object_fit": null,
      "object_position": null,
      "order": null,
      "overflow": null,
      "overflow_x": null,
      "overflow_y": null,
      "padding": null,
      "right": null,
      "top": null,
      "visibility": null,
      "width": null
     }
    },
    "8d3f4c7219a54935933df393e5ebb99a": {
     "model_module": "@jupyter-widgets/base",
     "model_module_version": "1.2.0",
     "model_name": "LayoutModel",
     "state": {
      "_model_module": "@jupyter-widgets/base",
      "_model_module_version": "1.2.0",
      "_model_name": "LayoutModel",
      "_view_count": null,
      "_view_module": "@jupyter-widgets/base",
      "_view_module_version": "1.2.0",
      "_view_name": "LayoutView",
      "align_content": null,
      "align_items": null,
      "align_self": null,
      "border": null,
      "bottom": null,
      "display": null,
      "flex": null,
      "flex_flow": null,
      "grid_area": null,
      "grid_auto_columns": null,
      "grid_auto_flow": null,
      "grid_auto_rows": null,
      "grid_column": null,
      "grid_gap": null,
      "grid_row": null,
      "grid_template_areas": null,
      "grid_template_columns": null,
      "grid_template_rows": null,
      "height": null,
      "justify_content": null,
      "justify_items": null,
      "left": null,
      "margin": null,
      "max_height": null,
      "max_width": null,
      "min_height": null,
      "min_width": null,
      "object_fit": null,
      "object_position": null,
      "order": null,
      "overflow": null,
      "overflow_x": null,
      "overflow_y": null,
      "padding": null,
      "right": null,
      "top": null,
      "visibility": null,
      "width": null
     }
    },
    "9b9713f994a74b33ba8dff1d6a0f9e9f": {
     "model_module": "@jupyter-widgets/controls",
     "model_module_version": "1.5.0",
     "model_name": "HTMLModel",
     "state": {
      "_dom_classes": [],
      "_model_module": "@jupyter-widgets/controls",
      "_model_module_version": "1.5.0",
      "_model_name": "HTMLModel",
      "_view_count": null,
      "_view_module": "@jupyter-widgets/controls",
      "_view_module_version": "1.5.0",
      "_view_name": "HTMLView",
      "description": "",
      "description_tooltip": null,
      "layout": "IPY_MODEL_b0231c0b899d444b87df5348e83590d6",
      "placeholder": "​",
      "style": "IPY_MODEL_bd35edad73594f4289d4c8571d33cee1",
      "value": "Downloading tf_model.h5: 100%"
     }
    },
    "9d8ff0d97f37418884421a07dae0d9cd": {
     "model_module": "@jupyter-widgets/controls",
     "model_module_version": "1.5.0",
     "model_name": "FloatProgressModel",
     "state": {
      "_dom_classes": [],
      "_model_module": "@jupyter-widgets/controls",
      "_model_module_version": "1.5.0",
      "_model_name": "FloatProgressModel",
      "_view_count": null,
      "_view_module": "@jupyter-widgets/controls",
      "_view_module_version": "1.5.0",
      "_view_name": "ProgressView",
      "bar_style": "success",
      "description": "",
      "description_tooltip": null,
      "layout": "IPY_MODEL_e6b6c98540f7422e9f4ffb4e39e602f6",
      "max": 456318,
      "min": 0,
      "orientation": "horizontal",
      "style": "IPY_MODEL_d10579686a4e4cbbaba6d1039b10bbe6",
      "value": 456318
     }
    },
    "a08ee8fa32bf4707a802639ef630cd35": {
     "model_module": "@jupyter-widgets/controls",
     "model_module_version": "1.5.0",
     "model_name": "DescriptionStyleModel",
     "state": {
      "_model_module": "@jupyter-widgets/controls",
      "_model_module_version": "1.5.0",
      "_model_name": "DescriptionStyleModel",
      "_view_count": null,
      "_view_module": "@jupyter-widgets/base",
      "_view_module_version": "1.2.0",
      "_view_name": "StyleView",
      "description_width": ""
     }
    },
    "a8e6e1f02ce64f9ca3d54a2bf8d3c6b7": {
     "model_module": "@jupyter-widgets/controls",
     "model_module_version": "1.5.0",
     "model_name": "HBoxModel",
     "state": {
      "_dom_classes": [],
      "_model_module": "@jupyter-widgets/controls",
      "_model_module_version": "1.5.0",
      "_model_name": "HBoxModel",
      "_view_count": null,
      "_view_module": "@jupyter-widgets/controls",
      "_view_module_version": "1.5.0",
      "_view_name": "HBoxView",
      "box_style": "",
      "children": [
       "IPY_MODEL_48a266999062488d909a5431cb816cd0",
       "IPY_MODEL_9d8ff0d97f37418884421a07dae0d9cd",
       "IPY_MODEL_453bd203a6724656b17bc18dca437fb7"
      ],
      "layout": "IPY_MODEL_611ba3f864eb47ba84bfeee800ce2d64"
     }
    },
    "a91e68605e41444f9792072df6a671a0": {
     "model_module": "@jupyter-widgets/controls",
     "model_module_version": "1.5.0",
     "model_name": "HTMLModel",
     "state": {
      "_dom_classes": [],
      "_model_module": "@jupyter-widgets/controls",
      "_model_module_version": "1.5.0",
      "_model_name": "HTMLModel",
      "_view_count": null,
      "_view_module": "@jupyter-widgets/controls",
      "_view_module_version": "1.5.0",
      "_view_name": "HTMLView",
      "description": "",
      "description_tooltip": null,
      "layout": "IPY_MODEL_74477b104da04e46a2895e222a76c6a2",
      "placeholder": "​",
      "style": "IPY_MODEL_d60f69c9596b4759b028eea8b86f3b0b",
      "value": " 555M/555M [00:05&lt;00:00, 103MB/s]"
     }
    },
    "b0231c0b899d444b87df5348e83590d6": {
     "model_module": "@jupyter-widgets/base",
     "model_module_version": "1.2.0",
     "model_name": "LayoutModel",
     "state": {
      "_model_module": "@jupyter-widgets/base",
      "_model_module_version": "1.2.0",
      "_model_name": "LayoutModel",
      "_view_count": null,
      "_view_module": "@jupyter-widgets/base",
      "_view_module_version": "1.2.0",
      "_view_name": "LayoutView",
      "align_content": null,
      "align_items": null,
      "align_self": null,
      "border": null,
      "bottom": null,
      "display": null,
      "flex": null,
      "flex_flow": null,
      "grid_area": null,
      "grid_auto_columns": null,
      "grid_auto_flow": null,
      "grid_auto_rows": null,
      "grid_column": null,
      "grid_gap": null,
      "grid_row": null,
      "grid_template_areas": null,
      "grid_template_columns": null,
      "grid_template_rows": null,
      "height": null,
      "justify_content": null,
      "justify_items": null,
      "left": null,
      "margin": null,
      "max_height": null,
      "max_width": null,
      "min_height": null,
      "min_width": null,
      "object_fit": null,
      "object_position": null,
      "order": null,
      "overflow": null,
      "overflow_x": null,
      "overflow_y": null,
      "padding": null,
      "right": null,
      "top": null,
      "visibility": null,
      "width": null
     }
    },
    "b0f9e2692132427190070473347bf2d1": {
     "model_module": "@jupyter-widgets/controls",
     "model_module_version": "1.5.0",
     "model_name": "DescriptionStyleModel",
     "state": {
      "_model_module": "@jupyter-widgets/controls",
      "_model_module_version": "1.5.0",
      "_model_name": "DescriptionStyleModel",
      "_view_count": null,
      "_view_module": "@jupyter-widgets/base",
      "_view_module_version": "1.2.0",
      "_view_name": "StyleView",
      "description_width": ""
     }
    },
    "b2569719f6cb4908b5d9cdedbe8dffec": {
     "model_module": "@jupyter-widgets/controls",
     "model_module_version": "1.5.0",
     "model_name": "FloatProgressModel",
     "state": {
      "_dom_classes": [],
      "_model_module": "@jupyter-widgets/controls",
      "_model_module_version": "1.5.0",
      "_model_name": "FloatProgressModel",
      "_view_count": null,
      "_view_module": "@jupyter-widgets/controls",
      "_view_module_version": "1.5.0",
      "_view_name": "ProgressView",
      "bar_style": "success",
      "description": "",
      "description_tooltip": null,
      "layout": "IPY_MODEL_87958171b2384b8bba3136b91171e5d3",
      "max": 474,
      "min": 0,
      "orientation": "horizontal",
      "style": "IPY_MODEL_c3f790d5572d4bc0acf01cc01d794d0c",
      "value": 474
     }
    },
    "bb87537648ab45689224473216f01131": {
     "model_module": "@jupyter-widgets/controls",
     "model_module_version": "1.5.0",
     "model_name": "HBoxModel",
     "state": {
      "_dom_classes": [],
      "_model_module": "@jupyter-widgets/controls",
      "_model_module_version": "1.5.0",
      "_model_name": "HBoxModel",
      "_view_count": null,
      "_view_module": "@jupyter-widgets/controls",
      "_view_module_version": "1.5.0",
      "_view_name": "HBoxView",
      "box_style": "",
      "children": [
       "IPY_MODEL_9b9713f994a74b33ba8dff1d6a0f9e9f",
       "IPY_MODEL_4a7630d0569649c4aa2381a384c269c0",
       "IPY_MODEL_a91e68605e41444f9792072df6a671a0"
      ],
      "layout": "IPY_MODEL_43ab65fa5a6944848f3fb4fe75e5f8ae"
     }
    },
    "bd35edad73594f4289d4c8571d33cee1": {
     "model_module": "@jupyter-widgets/controls",
     "model_module_version": "1.5.0",
     "model_name": "DescriptionStyleModel",
     "state": {
      "_model_module": "@jupyter-widgets/controls",
      "_model_module_version": "1.5.0",
      "_model_name": "DescriptionStyleModel",
      "_view_count": null,
      "_view_module": "@jupyter-widgets/base",
      "_view_module_version": "1.2.0",
      "_view_name": "StyleView",
      "description_width": ""
     }
    },
    "c3f790d5572d4bc0acf01cc01d794d0c": {
     "model_module": "@jupyter-widgets/controls",
     "model_module_version": "1.5.0",
     "model_name": "ProgressStyleModel",
     "state": {
      "_model_module": "@jupyter-widgets/controls",
      "_model_module_version": "1.5.0",
      "_model_name": "ProgressStyleModel",
      "_view_count": null,
      "_view_module": "@jupyter-widgets/base",
      "_view_module_version": "1.2.0",
      "_view_name": "StyleView",
      "bar_color": null,
      "description_width": ""
     }
    },
    "c6289ab0690b4e05a11ccf4808502905": {
     "model_module": "@jupyter-widgets/base",
     "model_module_version": "1.2.0",
     "model_name": "LayoutModel",
     "state": {
      "_model_module": "@jupyter-widgets/base",
      "_model_module_version": "1.2.0",
      "_model_name": "LayoutModel",
      "_view_count": null,
      "_view_module": "@jupyter-widgets/base",
      "_view_module_version": "1.2.0",
      "_view_name": "LayoutView",
      "align_content": null,
      "align_items": null,
      "align_self": null,
      "border": null,
      "bottom": null,
      "display": null,
      "flex": null,
      "flex_flow": null,
      "grid_area": null,
      "grid_auto_columns": null,
      "grid_auto_flow": null,
      "grid_auto_rows": null,
      "grid_column": null,
      "grid_gap": null,
      "grid_row": null,
      "grid_template_areas": null,
      "grid_template_columns": null,
      "grid_template_rows": null,
      "height": null,
      "justify_content": null,
      "justify_items": null,
      "left": null,
      "margin": null,
      "max_height": null,
      "max_width": null,
      "min_height": null,
      "min_width": null,
      "object_fit": null,
      "object_position": null,
      "order": null,
      "overflow": null,
      "overflow_x": null,
      "overflow_y": null,
      "padding": null,
      "right": null,
      "top": null,
      "visibility": null,
      "width": null
     }
    },
    "d10579686a4e4cbbaba6d1039b10bbe6": {
     "model_module": "@jupyter-widgets/controls",
     "model_module_version": "1.5.0",
     "model_name": "ProgressStyleModel",
     "state": {
      "_model_module": "@jupyter-widgets/controls",
      "_model_module_version": "1.5.0",
      "_model_name": "ProgressStyleModel",
      "_view_count": null,
      "_view_module": "@jupyter-widgets/base",
      "_view_module_version": "1.2.0",
      "_view_name": "StyleView",
      "bar_color": null,
      "description_width": ""
     }
    },
    "d594bb1653b94771a61a72e3d840cfaf": {
     "model_module": "@jupyter-widgets/controls",
     "model_module_version": "1.5.0",
     "model_name": "DescriptionStyleModel",
     "state": {
      "_model_module": "@jupyter-widgets/controls",
      "_model_module_version": "1.5.0",
      "_model_name": "DescriptionStyleModel",
      "_view_count": null,
      "_view_module": "@jupyter-widgets/base",
      "_view_module_version": "1.2.0",
      "_view_name": "StyleView",
      "description_width": ""
     }
    },
    "d60f69c9596b4759b028eea8b86f3b0b": {
     "model_module": "@jupyter-widgets/controls",
     "model_module_version": "1.5.0",
     "model_name": "DescriptionStyleModel",
     "state": {
      "_model_module": "@jupyter-widgets/controls",
      "_model_module_version": "1.5.0",
      "_model_name": "DescriptionStyleModel",
      "_view_count": null,
      "_view_module": "@jupyter-widgets/base",
      "_view_module_version": "1.2.0",
      "_view_name": "StyleView",
      "description_width": ""
     }
    },
    "d64163d624a6423eb326608713234969": {
     "model_module": "@jupyter-widgets/controls",
     "model_module_version": "1.5.0",
     "model_name": "ProgressStyleModel",
     "state": {
      "_model_module": "@jupyter-widgets/controls",
      "_model_module_version": "1.5.0",
      "_model_name": "ProgressStyleModel",
      "_view_count": null,
      "_view_module": "@jupyter-widgets/base",
      "_view_module_version": "1.2.0",
      "_view_name": "StyleView",
      "bar_color": null,
      "description_width": ""
     }
    },
    "d6c80e0bdbc940e0a079d62c16757f11": {
     "model_module": "@jupyter-widgets/base",
     "model_module_version": "1.2.0",
     "model_name": "LayoutModel",
     "state": {
      "_model_module": "@jupyter-widgets/base",
      "_model_module_version": "1.2.0",
      "_model_name": "LayoutModel",
      "_view_count": null,
      "_view_module": "@jupyter-widgets/base",
      "_view_module_version": "1.2.0",
      "_view_name": "LayoutView",
      "align_content": null,
      "align_items": null,
      "align_self": null,
      "border": null,
      "bottom": null,
      "display": null,
      "flex": null,
      "flex_flow": null,
      "grid_area": null,
      "grid_auto_columns": null,
      "grid_auto_flow": null,
      "grid_auto_rows": null,
      "grid_column": null,
      "grid_gap": null,
      "grid_row": null,
      "grid_template_areas": null,
      "grid_template_columns": null,
      "grid_template_rows": null,
      "height": null,
      "justify_content": null,
      "justify_items": null,
      "left": null,
      "margin": null,
      "max_height": null,
      "max_width": null,
      "min_height": null,
      "min_width": null,
      "object_fit": null,
      "object_position": null,
      "order": null,
      "overflow": null,
      "overflow_x": null,
      "overflow_y": null,
      "padding": null,
      "right": null,
      "top": null,
      "visibility": null,
      "width": null
     }
    },
    "d94dca68245e4e9f8ce2a006a9fab607": {
     "model_module": "@jupyter-widgets/controls",
     "model_module_version": "1.5.0",
     "model_name": "HBoxModel",
     "state": {
      "_dom_classes": [],
      "_model_module": "@jupyter-widgets/controls",
      "_model_module_version": "1.5.0",
      "_model_name": "HBoxModel",
      "_view_count": null,
      "_view_module": "@jupyter-widgets/controls",
      "_view_module_version": "1.5.0",
      "_view_name": "HBoxView",
      "box_style": "",
      "children": [
       "IPY_MODEL_6549262624b3497293754beba37c2ceb",
       "IPY_MODEL_2d50d75659214474ac712fadb8d18369",
       "IPY_MODEL_0b2776e138d8463a8344e72a1f366abb"
      ],
      "layout": "IPY_MODEL_e80265f42c87458691ea762bf2f46ae4"
     }
    },
    "d97079e1a98e407b9d3349f26747de38": {
     "model_module": "@jupyter-widgets/controls",
     "model_module_version": "1.5.0",
     "model_name": "ProgressStyleModel",
     "state": {
      "_model_module": "@jupyter-widgets/controls",
      "_model_module_version": "1.5.0",
      "_model_name": "ProgressStyleModel",
      "_view_count": null,
      "_view_module": "@jupyter-widgets/base",
      "_view_module_version": "1.2.0",
      "_view_name": "StyleView",
      "bar_color": null,
      "description_width": ""
     }
    },
    "dcfa79bd75074162a12ccb483692db56": {
     "model_module": "@jupyter-widgets/base",
     "model_module_version": "1.2.0",
     "model_name": "LayoutModel",
     "state": {
      "_model_module": "@jupyter-widgets/base",
      "_model_module_version": "1.2.0",
      "_model_name": "LayoutModel",
      "_view_count": null,
      "_view_module": "@jupyter-widgets/base",
      "_view_module_version": "1.2.0",
      "_view_name": "LayoutView",
      "align_content": null,
      "align_items": null,
      "align_self": null,
      "border": null,
      "bottom": null,
      "display": null,
      "flex": null,
      "flex_flow": null,
      "grid_area": null,
      "grid_auto_columns": null,
      "grid_auto_flow": null,
      "grid_auto_rows": null,
      "grid_column": null,
      "grid_gap": null,
      "grid_row": null,
      "grid_template_areas": null,
      "grid_template_columns": null,
      "grid_template_rows": null,
      "height": null,
      "justify_content": null,
      "justify_items": null,
      "left": null,
      "margin": null,
      "max_height": null,
      "max_width": null,
      "min_height": null,
      "min_width": null,
      "object_fit": null,
      "object_position": null,
      "order": null,
      "overflow": null,
      "overflow_x": null,
      "overflow_y": null,
      "padding": null,
      "right": null,
      "top": null,
      "visibility": null,
      "width": null
     }
    },
    "e6b6c98540f7422e9f4ffb4e39e602f6": {
     "model_module": "@jupyter-widgets/base",
     "model_module_version": "1.2.0",
     "model_name": "LayoutModel",
     "state": {
      "_model_module": "@jupyter-widgets/base",
      "_model_module_version": "1.2.0",
      "_model_name": "LayoutModel",
      "_view_count": null,
      "_view_module": "@jupyter-widgets/base",
      "_view_module_version": "1.2.0",
      "_view_name": "LayoutView",
      "align_content": null,
      "align_items": null,
      "align_self": null,
      "border": null,
      "bottom": null,
      "display": null,
      "flex": null,
      "flex_flow": null,
      "grid_area": null,
      "grid_auto_columns": null,
      "grid_auto_flow": null,
      "grid_auto_rows": null,
      "grid_column": null,
      "grid_gap": null,
      "grid_row": null,
      "grid_template_areas": null,
      "grid_template_columns": null,
      "grid_template_rows": null,
      "height": null,
      "justify_content": null,
      "justify_items": null,
      "left": null,
      "margin": null,
      "max_height": null,
      "max_width": null,
      "min_height": null,
      "min_width": null,
      "object_fit": null,
      "object_position": null,
      "order": null,
      "overflow": null,
      "overflow_x": null,
      "overflow_y": null,
      "padding": null,
      "right": null,
      "top": null,
      "visibility": null,
      "width": null
     }
    },
    "e80265f42c87458691ea762bf2f46ae4": {
     "model_module": "@jupyter-widgets/base",
     "model_module_version": "1.2.0",
     "model_name": "LayoutModel",
     "state": {
      "_model_module": "@jupyter-widgets/base",
      "_model_module_version": "1.2.0",
      "_model_name": "LayoutModel",
      "_view_count": null,
      "_view_module": "@jupyter-widgets/base",
      "_view_module_version": "1.2.0",
      "_view_name": "LayoutView",
      "align_content": null,
      "align_items": null,
      "align_self": null,
      "border": null,
      "bottom": null,
      "display": null,
      "flex": null,
      "flex_flow": null,
      "grid_area": null,
      "grid_auto_columns": null,
      "grid_auto_flow": null,
      "grid_auto_rows": null,
      "grid_column": null,
      "grid_gap": null,
      "grid_row": null,
      "grid_template_areas": null,
      "grid_template_columns": null,
      "grid_template_rows": null,
      "height": null,
      "justify_content": null,
      "justify_items": null,
      "left": null,
      "margin": null,
      "max_height": null,
      "max_width": null,
      "min_height": null,
      "min_width": null,
      "object_fit": null,
      "object_position": null,
      "order": null,
      "overflow": null,
      "overflow_x": null,
      "overflow_y": null,
      "padding": null,
      "right": null,
      "top": null,
      "visibility": null,
      "width": null
     }
    },
    "edefaeadc2e54d7eba79a041b1ecc572": {
     "model_module": "@jupyter-widgets/controls",
     "model_module_version": "1.5.0",
     "model_name": "DescriptionStyleModel",
     "state": {
      "_model_module": "@jupyter-widgets/controls",
      "_model_module_version": "1.5.0",
      "_model_name": "DescriptionStyleModel",
      "_view_count": null,
      "_view_module": "@jupyter-widgets/base",
      "_view_module_version": "1.2.0",
      "_view_name": "StyleView",
      "description_width": ""
     }
    },
    "f432f4785cb74f9aa153d759c88cd089": {
     "model_module": "@jupyter-widgets/base",
     "model_module_version": "1.2.0",
     "model_name": "LayoutModel",
     "state": {
      "_model_module": "@jupyter-widgets/base",
      "_model_module_version": "1.2.0",
      "_model_name": "LayoutModel",
      "_view_count": null,
      "_view_module": "@jupyter-widgets/base",
      "_view_module_version": "1.2.0",
      "_view_name": "LayoutView",
      "align_content": null,
      "align_items": null,
      "align_self": null,
      "border": null,
      "bottom": null,
      "display": null,
      "flex": null,
      "flex_flow": null,
      "grid_area": null,
      "grid_auto_columns": null,
      "grid_auto_flow": null,
      "grid_auto_rows": null,
      "grid_column": null,
      "grid_gap": null,
      "grid_row": null,
      "grid_template_areas": null,
      "grid_template_columns": null,
      "grid_template_rows": null,
      "height": null,
      "justify_content": null,
      "justify_items": null,
      "left": null,
      "margin": null,
      "max_height": null,
      "max_width": null,
      "min_height": null,
      "min_width": null,
      "object_fit": null,
      "object_position": null,
      "order": null,
      "overflow": null,
      "overflow_x": null,
      "overflow_y": null,
      "padding": null,
      "right": null,
      "top": null,
      "visibility": null,
      "width": null
     }
    },
    "fc2e74b5aeca41a58b81ef74b6cc9f5f": {
     "model_module": "@jupyter-widgets/controls",
     "model_module_version": "1.5.0",
     "model_name": "HTMLModel",
     "state": {
      "_dom_classes": [],
      "_model_module": "@jupyter-widgets/controls",
      "_model_module_version": "1.5.0",
      "_model_name": "HTMLModel",
      "_view_count": null,
      "_view_module": "@jupyter-widgets/controls",
      "_view_module_version": "1.5.0",
      "_view_name": "HTMLView",
      "description": "",
      "description_tooltip": null,
      "layout": "IPY_MODEL_62867bdfcd8142118c8ac7095c00584c",
      "placeholder": "​",
      "style": "IPY_MODEL_a08ee8fa32bf4707a802639ef630cd35",
      "value": "Downloading (…)lve/main/config.json: 100%"
     }
    }
   }
  }
 },
 "nbformat": 4,
 "nbformat_minor": 4
}
